{
 "cells": [
  {
   "cell_type": "markdown",
   "metadata": {},
   "source": [
    "### Import packages"
   ]
  },
  {
   "cell_type": "code",
   "execution_count": 1,
   "metadata": {},
   "outputs": [
    {
     "name": "stderr",
     "output_type": "stream",
     "text": [
      "\n",
      "A module that was compiled using NumPy 1.x cannot be run in\n",
      "NumPy 2.0.0 as it may crash. To support both 1.x and 2.x\n",
      "versions of NumPy, modules must be compiled with NumPy 2.0.\n",
      "Some module may need to rebuild instead e.g. with 'pybind11>=2.12'.\n",
      "\n",
      "If you are a user of the module, the easiest solution will be to\n",
      "downgrade to 'numpy<2' or try to upgrade the affected module.\n",
      "We expect that some modules will need time to support NumPy 2.\n",
      "\n",
      "Traceback (most recent call last):  File \"<frozen runpy>\", line 198, in _run_module_as_main\n",
      "  File \"<frozen runpy>\", line 88, in _run_code\n",
      "  File \"/opt/anaconda3/envs/ir/lib/python3.12/site-packages/ipykernel_launcher.py\", line 17, in <module>\n",
      "    app.launch_new_instance()\n",
      "  File \"/opt/anaconda3/envs/ir/lib/python3.12/site-packages/traitlets/config/application.py\", line 1075, in launch_instance\n",
      "    app.start()\n",
      "  File \"/opt/anaconda3/envs/ir/lib/python3.12/site-packages/ipykernel/kernelapp.py\", line 701, in start\n",
      "    self.io_loop.start()\n",
      "  File \"/opt/anaconda3/envs/ir/lib/python3.12/site-packages/tornado/platform/asyncio.py\", line 205, in start\n",
      "    self.asyncio_loop.run_forever()\n",
      "  File \"/opt/anaconda3/envs/ir/lib/python3.12/asyncio/base_events.py\", line 641, in run_forever\n",
      "    self._run_once()\n",
      "  File \"/opt/anaconda3/envs/ir/lib/python3.12/asyncio/base_events.py\", line 1987, in _run_once\n",
      "    handle._run()\n",
      "  File \"/opt/anaconda3/envs/ir/lib/python3.12/asyncio/events.py\", line 88, in _run\n",
      "    self._context.run(self._callback, *self._args)\n",
      "  File \"/opt/anaconda3/envs/ir/lib/python3.12/site-packages/ipykernel/kernelbase.py\", line 534, in dispatch_queue\n",
      "    await self.process_one()\n",
      "  File \"/opt/anaconda3/envs/ir/lib/python3.12/site-packages/ipykernel/kernelbase.py\", line 523, in process_one\n",
      "    await dispatch(*args)\n",
      "  File \"/opt/anaconda3/envs/ir/lib/python3.12/site-packages/ipykernel/kernelbase.py\", line 429, in dispatch_shell\n",
      "    await result\n",
      "  File \"/opt/anaconda3/envs/ir/lib/python3.12/site-packages/ipykernel/kernelbase.py\", line 767, in execute_request\n",
      "    reply_content = await reply_content\n",
      "  File \"/opt/anaconda3/envs/ir/lib/python3.12/site-packages/ipykernel/ipkernel.py\", line 429, in do_execute\n",
      "    res = shell.run_cell(\n",
      "  File \"/opt/anaconda3/envs/ir/lib/python3.12/site-packages/ipykernel/zmqshell.py\", line 549, in run_cell\n",
      "    return super().run_cell(*args, **kwargs)\n",
      "  File \"/opt/anaconda3/envs/ir/lib/python3.12/site-packages/IPython/core/interactiveshell.py\", line 3075, in run_cell\n",
      "    result = self._run_cell(\n",
      "  File \"/opt/anaconda3/envs/ir/lib/python3.12/site-packages/IPython/core/interactiveshell.py\", line 3130, in _run_cell\n",
      "    result = runner(coro)\n",
      "  File \"/opt/anaconda3/envs/ir/lib/python3.12/site-packages/IPython/core/async_helpers.py\", line 129, in _pseudo_sync_runner\n",
      "    coro.send(None)\n",
      "  File \"/opt/anaconda3/envs/ir/lib/python3.12/site-packages/IPython/core/interactiveshell.py\", line 3334, in run_cell_async\n",
      "    has_raised = await self.run_ast_nodes(code_ast.body, cell_name,\n",
      "  File \"/opt/anaconda3/envs/ir/lib/python3.12/site-packages/IPython/core/interactiveshell.py\", line 3517, in run_ast_nodes\n",
      "    if await self.run_code(code, result, async_=asy):\n",
      "  File \"/opt/anaconda3/envs/ir/lib/python3.12/site-packages/IPython/core/interactiveshell.py\", line 3577, in run_code\n",
      "    exec(code_obj, self.user_global_ns, self.user_ns)\n",
      "  File \"/var/folders/9x/cvl5gvjj3v31p6kyd5_lblgh0000gn/T/ipykernel_65729/93892516.py\", line 9, in <module>\n",
      "    from datasets import load_dataset,DatasetDict,load_from_disk\n",
      "  File \"/Users/aakashagarwal/.local/lib/python3.12/site-packages/datasets/__init__.py\", line 17, in <module>\n",
      "    from .arrow_dataset import Dataset\n",
      "  File \"/Users/aakashagarwal/.local/lib/python3.12/site-packages/datasets/arrow_dataset.py\", line 59, in <module>\n",
      "    import pandas as pd\n",
      "  File \"/Users/aakashagarwal/.local/lib/python3.12/site-packages/pandas/__init__.py\", line 49, in <module>\n",
      "    from pandas.core.api import (\n",
      "  File \"/Users/aakashagarwal/.local/lib/python3.12/site-packages/pandas/core/api.py\", line 28, in <module>\n",
      "    from pandas.core.arrays import Categorical\n",
      "  File \"/Users/aakashagarwal/.local/lib/python3.12/site-packages/pandas/core/arrays/__init__.py\", line 1, in <module>\n",
      "    from pandas.core.arrays.arrow import ArrowExtensionArray\n",
      "  File \"/Users/aakashagarwal/.local/lib/python3.12/site-packages/pandas/core/arrays/arrow/__init__.py\", line 5, in <module>\n",
      "    from pandas.core.arrays.arrow.array import ArrowExtensionArray\n",
      "  File \"/Users/aakashagarwal/.local/lib/python3.12/site-packages/pandas/core/arrays/arrow/array.py\", line 50, in <module>\n",
      "    from pandas.core import (\n",
      "  File \"/Users/aakashagarwal/.local/lib/python3.12/site-packages/pandas/core/ops/__init__.py\", line 8, in <module>\n",
      "    from pandas.core.ops.array_ops import (\n",
      "  File \"/Users/aakashagarwal/.local/lib/python3.12/site-packages/pandas/core/ops/array_ops.py\", line 56, in <module>\n",
      "    from pandas.core.computation import expressions\n",
      "  File \"/Users/aakashagarwal/.local/lib/python3.12/site-packages/pandas/core/computation/expressions.py\", line 21, in <module>\n",
      "    from pandas.core.computation.check import NUMEXPR_INSTALLED\n",
      "  File \"/Users/aakashagarwal/.local/lib/python3.12/site-packages/pandas/core/computation/check.py\", line 5, in <module>\n",
      "    ne = import_optional_dependency(\"numexpr\", errors=\"warn\")\n",
      "  File \"/Users/aakashagarwal/.local/lib/python3.12/site-packages/pandas/compat/_optional.py\", line 135, in import_optional_dependency\n",
      "    module = importlib.import_module(name)\n",
      "  File \"/opt/anaconda3/envs/ir/lib/python3.12/importlib/__init__.py\", line 90, in import_module\n",
      "    return _bootstrap._gcd_import(name[level:], package, level)\n",
      "  File \"/opt/anaconda3/envs/ir/lib/python3.12/site-packages/numexpr/__init__.py\", line 24, in <module>\n",
      "    from numexpr.interpreter import MAX_THREADS, use_vml, __BLOCK_SIZE1__\n"
     ]
    },
    {
     "ename": "AttributeError",
     "evalue": "_ARRAY_API not found",
     "output_type": "error",
     "traceback": [
      "\u001b[0;31m---------------------------------------------------------------------------\u001b[0m",
      "\u001b[0;31mAttributeError\u001b[0m                            Traceback (most recent call last)",
      "\u001b[0;31mAttributeError\u001b[0m: _ARRAY_API not found"
     ]
    },
    {
     "name": "stderr",
     "output_type": "stream",
     "text": [
      "\n",
      "A module that was compiled using NumPy 1.x cannot be run in\n",
      "NumPy 2.0.0 as it may crash. To support both 1.x and 2.x\n",
      "versions of NumPy, modules must be compiled with NumPy 2.0.\n",
      "Some module may need to rebuild instead e.g. with 'pybind11>=2.12'.\n",
      "\n",
      "If you are a user of the module, the easiest solution will be to\n",
      "downgrade to 'numpy<2' or try to upgrade the affected module.\n",
      "We expect that some modules will need time to support NumPy 2.\n",
      "\n",
      "Traceback (most recent call last):  File \"<frozen runpy>\", line 198, in _run_module_as_main\n",
      "  File \"<frozen runpy>\", line 88, in _run_code\n",
      "  File \"/opt/anaconda3/envs/ir/lib/python3.12/site-packages/ipykernel_launcher.py\", line 17, in <module>\n",
      "    app.launch_new_instance()\n",
      "  File \"/opt/anaconda3/envs/ir/lib/python3.12/site-packages/traitlets/config/application.py\", line 1075, in launch_instance\n",
      "    app.start()\n",
      "  File \"/opt/anaconda3/envs/ir/lib/python3.12/site-packages/ipykernel/kernelapp.py\", line 701, in start\n",
      "    self.io_loop.start()\n",
      "  File \"/opt/anaconda3/envs/ir/lib/python3.12/site-packages/tornado/platform/asyncio.py\", line 205, in start\n",
      "    self.asyncio_loop.run_forever()\n",
      "  File \"/opt/anaconda3/envs/ir/lib/python3.12/asyncio/base_events.py\", line 641, in run_forever\n",
      "    self._run_once()\n",
      "  File \"/opt/anaconda3/envs/ir/lib/python3.12/asyncio/base_events.py\", line 1987, in _run_once\n",
      "    handle._run()\n",
      "  File \"/opt/anaconda3/envs/ir/lib/python3.12/asyncio/events.py\", line 88, in _run\n",
      "    self._context.run(self._callback, *self._args)\n",
      "  File \"/opt/anaconda3/envs/ir/lib/python3.12/site-packages/ipykernel/kernelbase.py\", line 534, in dispatch_queue\n",
      "    await self.process_one()\n",
      "  File \"/opt/anaconda3/envs/ir/lib/python3.12/site-packages/ipykernel/kernelbase.py\", line 523, in process_one\n",
      "    await dispatch(*args)\n",
      "  File \"/opt/anaconda3/envs/ir/lib/python3.12/site-packages/ipykernel/kernelbase.py\", line 429, in dispatch_shell\n",
      "    await result\n",
      "  File \"/opt/anaconda3/envs/ir/lib/python3.12/site-packages/ipykernel/kernelbase.py\", line 767, in execute_request\n",
      "    reply_content = await reply_content\n",
      "  File \"/opt/anaconda3/envs/ir/lib/python3.12/site-packages/ipykernel/ipkernel.py\", line 429, in do_execute\n",
      "    res = shell.run_cell(\n",
      "  File \"/opt/anaconda3/envs/ir/lib/python3.12/site-packages/ipykernel/zmqshell.py\", line 549, in run_cell\n",
      "    return super().run_cell(*args, **kwargs)\n",
      "  File \"/opt/anaconda3/envs/ir/lib/python3.12/site-packages/IPython/core/interactiveshell.py\", line 3075, in run_cell\n",
      "    result = self._run_cell(\n",
      "  File \"/opt/anaconda3/envs/ir/lib/python3.12/site-packages/IPython/core/interactiveshell.py\", line 3130, in _run_cell\n",
      "    result = runner(coro)\n",
      "  File \"/opt/anaconda3/envs/ir/lib/python3.12/site-packages/IPython/core/async_helpers.py\", line 129, in _pseudo_sync_runner\n",
      "    coro.send(None)\n",
      "  File \"/opt/anaconda3/envs/ir/lib/python3.12/site-packages/IPython/core/interactiveshell.py\", line 3334, in run_cell_async\n",
      "    has_raised = await self.run_ast_nodes(code_ast.body, cell_name,\n",
      "  File \"/opt/anaconda3/envs/ir/lib/python3.12/site-packages/IPython/core/interactiveshell.py\", line 3517, in run_ast_nodes\n",
      "    if await self.run_code(code, result, async_=asy):\n",
      "  File \"/opt/anaconda3/envs/ir/lib/python3.12/site-packages/IPython/core/interactiveshell.py\", line 3577, in run_code\n",
      "    exec(code_obj, self.user_global_ns, self.user_ns)\n",
      "  File \"/var/folders/9x/cvl5gvjj3v31p6kyd5_lblgh0000gn/T/ipykernel_65729/93892516.py\", line 9, in <module>\n",
      "    from datasets import load_dataset,DatasetDict,load_from_disk\n",
      "  File \"/Users/aakashagarwal/.local/lib/python3.12/site-packages/datasets/__init__.py\", line 17, in <module>\n",
      "    from .arrow_dataset import Dataset\n",
      "  File \"/Users/aakashagarwal/.local/lib/python3.12/site-packages/datasets/arrow_dataset.py\", line 59, in <module>\n",
      "    import pandas as pd\n",
      "  File \"/Users/aakashagarwal/.local/lib/python3.12/site-packages/pandas/__init__.py\", line 49, in <module>\n",
      "    from pandas.core.api import (\n",
      "  File \"/Users/aakashagarwal/.local/lib/python3.12/site-packages/pandas/core/api.py\", line 28, in <module>\n",
      "    from pandas.core.arrays import Categorical\n",
      "  File \"/Users/aakashagarwal/.local/lib/python3.12/site-packages/pandas/core/arrays/__init__.py\", line 1, in <module>\n",
      "    from pandas.core.arrays.arrow import ArrowExtensionArray\n",
      "  File \"/Users/aakashagarwal/.local/lib/python3.12/site-packages/pandas/core/arrays/arrow/__init__.py\", line 5, in <module>\n",
      "    from pandas.core.arrays.arrow.array import ArrowExtensionArray\n",
      "  File \"/Users/aakashagarwal/.local/lib/python3.12/site-packages/pandas/core/arrays/arrow/array.py\", line 64, in <module>\n",
      "    from pandas.core.arrays.masked import BaseMaskedArray\n",
      "  File \"/Users/aakashagarwal/.local/lib/python3.12/site-packages/pandas/core/arrays/masked.py\", line 60, in <module>\n",
      "    from pandas.core import (\n",
      "  File \"/Users/aakashagarwal/.local/lib/python3.12/site-packages/pandas/core/nanops.py\", line 52, in <module>\n",
      "    bn = import_optional_dependency(\"bottleneck\", errors=\"warn\")\n",
      "  File \"/Users/aakashagarwal/.local/lib/python3.12/site-packages/pandas/compat/_optional.py\", line 135, in import_optional_dependency\n",
      "    module = importlib.import_module(name)\n",
      "  File \"/opt/anaconda3/envs/ir/lib/python3.12/importlib/__init__.py\", line 90, in import_module\n",
      "    return _bootstrap._gcd_import(name[level:], package, level)\n",
      "  File \"/opt/anaconda3/envs/ir/lib/python3.12/site-packages/bottleneck/__init__.py\", line 7, in <module>\n",
      "    from .move import (move_argmax, move_argmin, move_max, move_mean, move_median,\n"
     ]
    },
    {
     "ename": "ImportError",
     "evalue": "\nA module that was compiled using NumPy 1.x cannot be run in\nNumPy 2.0.0 as it may crash. To support both 1.x and 2.x\nversions of NumPy, modules must be compiled with NumPy 2.0.\nSome module may need to rebuild instead e.g. with 'pybind11>=2.12'.\n\nIf you are a user of the module, the easiest solution will be to\ndowngrade to 'numpy<2' or try to upgrade the affected module.\nWe expect that some modules will need time to support NumPy 2.\n\n",
     "output_type": "error",
     "traceback": [
      "\u001b[0;31m---------------------------------------------------------------------------\u001b[0m",
      "\u001b[0;31mImportError\u001b[0m                               Traceback (most recent call last)",
      "File \u001b[0;32m~/.local/lib/python3.12/site-packages/numpy/core/_multiarray_umath.py:44\u001b[0m, in \u001b[0;36m__getattr__\u001b[0;34m(attr_name)\u001b[0m\n\u001b[1;32m     39\u001b[0m     \u001b[38;5;66;03m# Also print the message (with traceback).  This is because old versions\u001b[39;00m\n\u001b[1;32m     40\u001b[0m     \u001b[38;5;66;03m# of NumPy unfortunately set up the import to replace (and hide) the\u001b[39;00m\n\u001b[1;32m     41\u001b[0m     \u001b[38;5;66;03m# error.  The traceback shouldn't be needed, but e.g. pytest plugins\u001b[39;00m\n\u001b[1;32m     42\u001b[0m     \u001b[38;5;66;03m# seem to swallow it and we should be failing anyway...\u001b[39;00m\n\u001b[1;32m     43\u001b[0m     sys\u001b[38;5;241m.\u001b[39mstderr\u001b[38;5;241m.\u001b[39mwrite(msg \u001b[38;5;241m+\u001b[39m tb_msg)\n\u001b[0;32m---> 44\u001b[0m     \u001b[38;5;28;01mraise\u001b[39;00m \u001b[38;5;167;01mImportError\u001b[39;00m(msg)\n\u001b[1;32m     46\u001b[0m ret \u001b[38;5;241m=\u001b[39m \u001b[38;5;28mgetattr\u001b[39m(_multiarray_umath, attr_name, \u001b[38;5;28;01mNone\u001b[39;00m)\n\u001b[1;32m     47\u001b[0m \u001b[38;5;28;01mif\u001b[39;00m ret \u001b[38;5;129;01mis\u001b[39;00m \u001b[38;5;28;01mNone\u001b[39;00m:\n",
      "\u001b[0;31mImportError\u001b[0m: \nA module that was compiled using NumPy 1.x cannot be run in\nNumPy 2.0.0 as it may crash. To support both 1.x and 2.x\nversions of NumPy, modules must be compiled with NumPy 2.0.\nSome module may need to rebuild instead e.g. with 'pybind11>=2.12'.\n\nIf you are a user of the module, the easiest solution will be to\ndowngrade to 'numpy<2' or try to upgrade the affected module.\nWe expect that some modules will need time to support NumPy 2.\n\n"
     ]
    }
   ],
   "source": [
    "from transformers import AutoImageProcessor, AutoModelForImageClassification\n",
    "import torch\n",
    "import numpy as np\n",
    "import os\n",
    "from tqdm import tqdm\n",
    "from torch.utils.data import DataLoader\n",
    "from tqdm import tqdm\n",
    "from torchvision import transforms\n",
    "from datasets import load_dataset,DatasetDict,load_from_disk\n",
    "from torch.utils.data import DataLoader\n",
    "import os\n",
    "import random\n",
    "import torch\n",
    "import torch.nn.functional as F\n",
    "import torch.nn as nn\n",
    "import random\n",
    "from torch.utils.data import Subset, DataLoader\n",
    "\n",
    "\n"
   ]
  },
  {
   "cell_type": "markdown",
   "metadata": {},
   "source": [
    "### Set seed"
   ]
  },
  {
   "cell_type": "code",
   "execution_count": 2,
   "metadata": {},
   "outputs": [],
   "source": [
    "torch.manual_seed(0)\n",
    "random.seed(0)\n",
    "np.random.seed(0)"
   ]
  },
  {
   "cell_type": "markdown",
   "metadata": {},
   "source": [
    "### Set device"
   ]
  },
  {
   "cell_type": "code",
   "execution_count": 3,
   "metadata": {},
   "outputs": [],
   "source": [
    "if torch.cuda.is_available():\n",
    "    device = 'cuda'\n",
    "elif torch.backends.mps.is_available():\n",
    "    device = 'mps'\n",
    "else:\n",
    "    device = 'cpu'"
   ]
  },
  {
   "cell_type": "markdown",
   "metadata": {},
   "source": [
    "### Define main path"
   ]
  },
  {
   "cell_type": "code",
   "execution_count": 4,
   "metadata": {},
   "outputs": [],
   "source": [
    "main_path = '/Users/aakashagarwal/Downloads/ir_assignment2/'"
   ]
  },
  {
   "cell_type": "code",
   "execution_count": 5,
   "metadata": {},
   "outputs": [],
   "source": [
    "mydataset = \"evanarlian/imagenet_1k_resized_256\""
   ]
  },
  {
   "cell_type": "markdown",
   "metadata": {},
   "source": [
    "### Dataset"
   ]
  },
  {
   "cell_type": "markdown",
   "metadata": {},
   "source": [
    "#### Load dataset"
   ]
  },
  {
   "cell_type": "code",
   "execution_count": 6,
   "metadata": {},
   "outputs": [
    {
     "data": {
      "application/vnd.jupyter.widget-view+json": {
       "model_id": "466ed40130874eb3bd586b9035da4f5b",
       "version_major": 2,
       "version_minor": 0
      },
      "text/plain": [
       "Resolving data files:   0%|          | 0/52 [00:00<?, ?it/s]"
      ]
     },
     "metadata": {},
     "output_type": "display_data"
    },
    {
     "data": {
      "application/vnd.jupyter.widget-view+json": {
       "model_id": "56d73478a5c940d9b9d49172be2c7371",
       "version_major": 2,
       "version_minor": 0
      },
      "text/plain": [
       "Resolving data files:   0%|          | 0/52 [00:00<?, ?it/s]"
      ]
     },
     "metadata": {},
     "output_type": "display_data"
    },
    {
     "data": {
      "application/vnd.jupyter.widget-view+json": {
       "model_id": "f38796bb99e24f5d84c15dfed49ea908",
       "version_major": 2,
       "version_minor": 0
      },
      "text/plain": [
       "Loading dataset shards:   0%|          | 0/46 [00:00<?, ?it/s]"
      ]
     },
     "metadata": {},
     "output_type": "display_data"
    }
   ],
   "source": [
    "ds = load_dataset(mydataset)\n",
    "ds = ds.rename_column(\"image\", \"img\")\n",
    "\n",
    "ds = DatasetDict({\n",
    "    'train': ds['train'],\n",
    "    'test': ds['val']\n",
    "})"
   ]
  },
  {
   "cell_type": "markdown",
   "metadata": {},
   "source": [
    "### Model load"
   ]
  },
  {
   "cell_type": "code",
   "execution_count": 7,
   "metadata": {},
   "outputs": [],
   "source": [
    "processor = AutoImageProcessor.from_pretrained(\"google/vit-large-patch32-384\",use_fast=True)\n",
    "model = AutoModelForImageClassification.from_pretrained(\"google/vit-large-patch32-384\")\n",
    "# Move the model to the selected device"
   ]
  },
  {
   "cell_type": "markdown",
   "metadata": {},
   "source": [
    "### Extract features of training data"
   ]
  },
  {
   "cell_type": "markdown",
   "metadata": {},
   "source": [
    "#### Feature function"
   ]
  },
  {
   "cell_type": "markdown",
   "metadata": {},
   "source": [
    "#### Create features of train data or load from saved file."
   ]
  },
  {
   "cell_type": "code",
   "execution_count": 8,
   "metadata": {},
   "outputs": [],
   "source": [
    "model.eval()\n",
    "\n",
    "transform = transforms.Compose([\n",
    "        transforms.Resize((384, 384)),  # Resize images to a consistent size\n",
    "        transforms.ToTensor(),           # Convert PIL images to tensors\n",
    "        transforms.Normalize(mean=[0.485, 0.456, 0.406], std=[0.229, 0.224, 0.225])\n",
    "    ])\n",
    "\n",
    "# Define a function to process and extract features from each image\n",
    "def extract_features(batch):\n",
    "    imgs = batch['img']  # This will now be a list of images in a batch\n",
    "\n",
    "    # Preprocess each image in the batch\n",
    "    img_tensors = [transform(img).unsqueeze(0).to(device) for img in imgs]  # Add batch dimension and move to device\n",
    "    img_tensors = torch.cat(img_tensors, dim=0)  # Concatenate to create a batch tensor\n",
    "\n",
    "    inputs = {'pixel_values': img_tensors}  # Adjust for model input (assuming using Hugging Face models)\n",
    "\n",
    "    # Forward pass through the model to get features\n",
    "    with torch.no_grad():\n",
    "        outputs = model(**inputs, output_hidden_states=True)\n",
    "\n",
    "    hidden_states = outputs.hidden_states  # List of all hidden states\n",
    "\n",
    "    # Extract the final hidden state\n",
    "    final_hidden_state = hidden_states[-1]  # Shape: [batch_size, num_patches, hidden_size]\n",
    "    \n",
    "    # Optionally, pool the features\n",
    "    pooled_features = final_hidden_state.mean(dim=1)  # Shape: [batch_size, hidden_size]\n",
    "    \n",
    "    # Return the features as a new column for the batch\n",
    "    return {\"features\": pooled_features.cpu().numpy()}  # \n"
   ]
  },
  {
   "cell_type": "code",
   "execution_count": 9,
   "metadata": {},
   "outputs": [
    {
     "name": "stdout",
     "output_type": "stream",
     "text": [
      "Features file already exists at /Users/aakashagarwal/Downloads/ir_assignment2/features/imagenet1k/vit_large/. Loading features...\n"
     ]
    },
    {
     "data": {
      "application/vnd.jupyter.widget-view+json": {
       "model_id": "4b92a80ccc3c4062afc4d33d5f274451",
       "version_major": 2,
       "version_minor": 0
      },
      "text/plain": [
       "Loading dataset from disk:   0%|          | 0/22 [00:00<?, ?it/s]"
      ]
     },
     "metadata": {},
     "output_type": "display_data"
    }
   ],
   "source": [
    "\n",
    "output_dir = main_path+ f\"features/imagenet1k/\"\n",
    "os.makedirs(output_dir, exist_ok=True)\n",
    "output_file = os.path.join(output_dir, \"vit_large/\")  # Saving in Arrow format\n",
    "\n",
    "# Check if features already exist\n",
    "if os.path.exists(output_file):\n",
    "    print(f\"Features file already exists at {output_file}. Loading features...\")\n",
    "    # Load existing features\n",
    "    ds_feature = load_from_disk(output_file)\n",
    "else:\n",
    "    print(\"Features file does not exist. Extracting features...\")\n",
    "\n",
    "    # Use `map` to apply the feature extraction across the entire dataset\n",
    "    ds_feature = ds.map(extract_features, batched=True, batch_size=64)\n",
    "\n",
    "    # Save the dataset with the new features to disk\n",
    "    ds_feature.save_to_disk(output_file)  # Saving in the Arrow format\n",
    "    print(\"Features saved successfully!\")"
   ]
  },
  {
   "cell_type": "code",
   "execution_count": 10,
   "metadata": {},
   "outputs": [],
   "source": [
    "ds_feature\n",
    "ds_feature = ds_feature.rename_column(\"labels\", \"label\")"
   ]
  },
  {
   "cell_type": "markdown",
   "metadata": {},
   "source": [
    "#### Collate function"
   ]
  },
  {
   "cell_type": "code",
   "execution_count": 11,
   "metadata": {},
   "outputs": [],
   "source": [
    "def custom_collate(batch):\n",
    "    # Define the transformations you want to apply to the images\n",
    "    transform = transforms.Compose([\n",
    "        transforms.Resize((224, 224)),  # Resize images to a consistent size\n",
    "        transforms.ToTensor(),           # Convert PIL images to tensors\n",
    "    ])\n",
    "\n",
    "    # Extracting each field from the batch\n",
    "    index = [item['index'] for item in batch]\n",
    "    # images = [transform(item['img']) for item in batch]  # Load and transform images\n",
    "    labels = torch.tensor([item['label'] for item in batch])          # Convert labels to a tensor\n",
    "    features = [torch.tensor(item['features']) for item in batch]     # Convert features to tensors\n",
    "    \n",
    "    # Return a dictionary with batched data\n",
    "    return {\n",
    "        'index': index,\n",
    "        # 'img': torch.stack(images),    # Stack image tensors into a single tensor\n",
    "        'label': labels,\n",
    "        'features': torch.stack(features),  # Stack feature tensors into a single tensor\n",
    "    }\n"
   ]
  },
  {
   "cell_type": "markdown",
   "metadata": {},
   "source": [
    "#### Dataloader"
   ]
  },
  {
   "cell_type": "code",
   "execution_count": 12,
   "metadata": {},
   "outputs": [],
   "source": [
    "# Total number of training samples\n",
    "n_train = len(ds_feature['train'])\n",
    "\n",
    "# Number of samples to take for q_loader\n",
    "m = 1000  # Specify the desired number of samples for q_loader\n",
    "\n",
    "# Randomly select m unique indices from the training dataset\n",
    "q_indices = random.sample(range(n_train), m)\n",
    "\n",
    "# Create subsets for q_loader and x_dataloader\n",
    "q_subset = Subset(ds_feature['train'], q_indices)\n",
    "x_subset = Subset(ds_feature['train'], list(set(range(n_train)) - set(q_indices)))\n",
    "\n",
    "# Create DataLoader instances\n",
    "x_dataloader = DataLoader(x_subset, batch_size=64, drop_last=True, collate_fn=custom_collate)\n",
    "q_dataloader = DataLoader(q_subset, batch_size=64, drop_last=True, collate_fn=custom_collate)\n",
    "test_dataloader = DataLoader(ds_feature['test'], batch_size=64, collate_fn=custom_collate)"
   ]
  },
  {
   "cell_type": "markdown",
   "metadata": {},
   "source": [
    "### Create Hash Tables for training data"
   ]
  },
  {
   "cell_type": "code",
   "execution_count": 256,
   "metadata": {},
   "outputs": [],
   "source": [
    "class phi_q_model(nn.Module):\n",
    "    def __init__(self, input_dim, output_dim):\n",
    "        super(phi_q_model, self).__init__()\n",
    "        \n",
    "        self.network = nn.Sequential(\n",
    "            nn.Linear(input_dim, 1024),\n",
    "            nn.ReLU(),\n",
    "            nn.Linear(1024, 512),\n",
    "            nn.ReLU(),\n",
    "            nn.Linear(512, 256),\n",
    "            nn.ReLU(),\n",
    "            nn.Linear(256, 128),\n",
    "            nn.ReLU(),\n",
    "            nn.Linear(128, output_dim)\n",
    "        )\n",
    "        \n",
    "        # Apply Xavier initialization to each layer\n",
    "        for layer in self.network:\n",
    "            if isinstance(layer, nn.Linear):\n",
    "                nn.init.xavier_uniform_(layer.weight)  # or nn.init.xavier_normal_(layer.weight)\n",
    "                if layer.bias is not None:\n",
    "                    nn.init.zeros_(layer.bias)  # Initialize biases to zero\n",
    "\n",
    "    def forward(self, x):\n",
    "        return self.network(x)\n",
    "\n",
    "\n"
   ]
  },
  {
   "cell_type": "code",
   "execution_count": 257,
   "metadata": {},
   "outputs": [],
   "source": [
    "class phi_x_model(nn.Module):\n",
    "    def __init__(self, input_dim, output_dim):\n",
    "        super(phi_x_model, self).__init__()\n",
    "        \n",
    "        self.network = nn.Sequential(\n",
    "            nn.Linear(input_dim, 1024),\n",
    "            nn.ReLU(),\n",
    "            nn.Linear(1024, 512),\n",
    "            nn.ReLU(),\n",
    "            nn.Linear(512, 256),\n",
    "            nn.ReLU(),\n",
    "            nn.Linear(256, 128),\n",
    "            nn.ReLU(),\n",
    "            nn.Linear(128, output_dim)\n",
    "        )\n",
    "        \n",
    "        # Apply Xavier initialization to each layer\n",
    "        for layer in self.network:\n",
    "            if isinstance(layer, nn.Linear):\n",
    "                nn.init.xavier_uniform_(layer.weight)  # or nn.init.xavier_normal_(layer.weight)\n",
    "                if layer.bias is not None:\n",
    "                    nn.init.zeros_(layer.bias)  # Initialize biases to zero\n",
    "\n",
    "    def forward(self, x):\n",
    "        return self.network(x)\n"
   ]
  },
  {
   "cell_type": "code",
   "execution_count": 258,
   "metadata": {},
   "outputs": [],
   "source": [
    "feature_dim = len(ds_feature['train'][0]['features'])\n",
    "output_dim = 512\n",
    "H = 16"
   ]
  },
  {
   "cell_type": "code",
   "execution_count": 259,
   "metadata": {},
   "outputs": [],
   "source": [
    "# Step 2: Initialize the transformation networks (φ_q and φ_x)\n",
    "phi_q = phi_q_model(feature_dim, output_dim).to(device)\n",
    "phi_x = phi_x_model(feature_dim, output_dim).to(device)"
   ]
  },
  {
   "cell_type": "code",
   "execution_count": 260,
   "metadata": {},
   "outputs": [
    {
     "name": "stdout",
     "output_type": "stream",
     "text": [
      "[True, True, True, True, True, True, True, True, True, True]\n",
      "[True, True, True, True, True, True, True, True, True, True]\n"
     ]
    }
   ],
   "source": [
    "print([param.is_leaf for param in phi_q.parameters()])  # Should all be True\n",
    "print([param.is_leaf for param in phi_x.parameters()])  # Should all be True\n",
    "\n"
   ]
  },
  {
   "cell_type": "markdown",
   "metadata": {},
   "source": [
    "### Loss"
   ]
  },
  {
   "cell_type": "code",
   "execution_count": 261,
   "metadata": {},
   "outputs": [],
   "source": [
    "def cosine_similarity_loss(q_features, x_features, z_q_labels, z_x_labels, epsilon=1e-8):\n",
    "    device = q_features.device\n",
    "    z_q_labels = z_q_labels.to(device)\n",
    "    z_x_labels = z_x_labels.to(device)\n",
    "\n",
    "    # Calculate cosine similarity\n",
    "    cos_sim = F.cosine_similarity(q_features.unsqueeze(1), x_features.unsqueeze(0), dim=2)\n",
    "\n",
    "    # Relevance labels\n",
    "    relevance_labels = (z_q_labels.unsqueeze(1) == z_x_labels.unsqueeze(0)).float()\n",
    "\n",
    "    # Clamp values for log safety\n",
    "    cos_sim = cos_sim.clamp(min=epsilon, max=1 - epsilon)\n",
    "\n",
    "    # Compute the two terms of the loss function\n",
    "    pos_loss = -relevance_labels * torch.log(cos_sim)\n",
    "    neg_loss = -(1 - relevance_labels) * torch.log(1 - cos_sim)\n",
    "\n",
    "    # Combine the losses and return the mean\n",
    "    return torch.mean(pos_loss + neg_loss)\n"
   ]
  },
  {
   "cell_type": "code",
   "execution_count": 262,
   "metadata": {},
   "outputs": [],
   "source": [
    "def collision_loss(z_q_features, z_q_labels, z_x_features, z_x_labels , W_hat):\n",
    "    # Separate features and labels\n",
    "    # Check if lengths of labels are equal\n",
    "\n",
    "    # Use tanh(W z) as smooth surrogate for sign function\n",
    "    z_q_proj = torch.tanh(z_q_features @ W_hat).T\n",
    "    \n",
    "    # Check for positive (matching labels) and negative (non-matching labels) pairs\n",
    "    positive_mask = (z_q_labels == z_x_labels).float().unsqueeze(1)  # For broadcasting\n",
    "    negative_mask = (z_q_labels != z_x_labels).float().unsqueeze(1)  # For broadcasting\n",
    "    # print(torch.tanh(z_x_features @ W_hat).shape)\n",
    "    # Calculate projections\n",
    "    pos_proj = torch.tanh(z_x_features @ W_hat).T * positive_mask.T\n",
    "    neg_proj = torch.tanh(z_x_features @ W_hat).T * negative_mask.T\n",
    "\n",
    "    # Ranking loss: Encourages more overlap between query and positive than negative\n",
    "    margin = 1\n",
    "    pos_sim = (z_q_proj * pos_proj).sum(dim=1)\n",
    "    neg_sim = (z_q_proj * neg_proj).sum(dim=1)\n",
    "\n",
    "    # Mean margin-based ranking loss\n",
    "    loss = torch.mean(torch.relu(margin + neg_sim - pos_sim))\n",
    "    return loss\n",
    "\n",
    "def fence_sitting_loss(z_x, W_hat):\n",
    "    # Ensure all tensors are on the same device\n",
    "    device = z_x.device\n",
    "    z_x = z_x.to(device)  # Ensure z_x is on the same device\n",
    "    # loss = torch.mean(torch.norm(torch.abs(torch.tanh(z_x @ W_hat).T) - 1,p=1, dim=1))\n",
    "    loss = torch.mean(torch.norm(torch.abs(torch.tanh(z_x @ W_hat).T) - 1,p=2 ,dim=1)) \n",
    "\n",
    "    return loss\n",
    "\n",
    "def bit_balance_loss(z_x, W_hat):\n",
    "    # Ensure all tensors are on the same device\n",
    "    device = z_x.device\n",
    "    z_x = z_x.to(device)  # Ensure z_x is on the same device\n",
    "    bit_counts = torch.sum(torch.tanh(z_x @ W_hat).T, dim=0)\n",
    "    loss = torch.mean(torch.abs(bit_counts))\n",
    "    return loss\n",
    "\n",
    "def total_loss(z_q, z_x, W_hat, lambda1, lambda2, lambda3):\n",
    "    # Ensure all tensors are on the same device\n",
    "    device = z_x[0].device  # Using z_x_features for the device\n",
    "    z_q_features, z_q_labels = z_q\n",
    "    z_q_features = z_q_features.to(device)\n",
    "    z_q_labels = z_q_labels.to(device)\n",
    "    z_x_features, z_x_labels = z_x\n",
    "    z_x_features = z_x_features.to(device)\n",
    "    z_x_labels = z_x_labels.to(device)\n",
    "    W_hat = W_hat.to(device)\n",
    "    \n",
    "    bit_balance = lambda1 * bit_balance_loss(z_x_features, W_hat)\n",
    "    fence_sitting = lambda2 * fence_sitting_loss(z_x_features, W_hat)\n",
    "    collision = lambda3 * collision_loss(z_q_features, z_q_labels ,z_x_features, z_x_labels, W_hat)\n",
    "    loss = collision + fence_sitting + bit_balance\n",
    "    \n",
    "    return loss , collision , fence_sitting , bit_balance\n",
    "\n"
   ]
  },
  {
   "cell_type": "code",
   "execution_count": 263,
   "metadata": {},
   "outputs": [],
   "source": [
    "def train(phi_q, phi_x, x_dataloader, q_dataloader, optimizer, num_epochs=10):\n",
    "    phi_q.train()\n",
    "    phi_x.train()\n",
    "    \n",
    "    for epoch in range(num_epochs):\n",
    "        total_train_loss = 0\n",
    "        # Create a progress bar for the current epoch\n",
    "        progress_bar = tqdm(q_dataloader, desc=f\"Epoch [{epoch + 1}/{num_epochs}]\", leave=False)\n",
    "        \n",
    "        for q_batch in progress_bar:\n",
    "            for x_batch in x_dataloader:\n",
    "                query_features = q_batch['features'].to(device)\n",
    "                corpus_features = x_batch['features'].to(device)\n",
    "\n",
    "                # Get transformed features (z_q and z_x)\n",
    "                z_q_features = phi_q(query_features)\n",
    "                z_x_features = phi_x(corpus_features)\n",
    "                z_q_labels = q_batch['label']\n",
    "                z_x_labels = x_batch['label']\n",
    "\n",
    "                loss = cosine_similarity_loss(z_q_features, z_x_features, z_q_labels, z_x_labels)\n",
    "\n",
    "                # Backpropagation and optimization step\n",
    "                optimizer.zero_grad()\n",
    "                loss.backward()\n",
    "                optimizer.step()\n",
    "\n",
    "                total_train_loss += loss.item()\n",
    "                \n",
    "                progress_bar.set_postfix({'loss': loss.item()})\n",
    "\n",
    "        average_loss = total_train_loss / len(q_dataloader)\n",
    "        print(f'Epoch [{epoch + 1}/{num_epochs}], Loss: {average_loss:.4f}')\n",
    "\n",
    "        # Save the models after every epoch with epoch number in filename\n",
    "        model_save_path_q = f'phi_q_epoch_{epoch + 1}.pth'\n",
    "        model_save_path_x = f'phi_x_epoch_{epoch + 1}.pth'\n",
    "\n",
    "        torch.save(phi_q.state_dict(), model_save_path_q)\n",
    "        torch.save(phi_x.state_dict(), model_save_path_x)\n",
    "\n",
    "        print(f'Model phi_q saved to {model_save_path_q}')\n",
    "        print(f'Model phi_x saved to {model_save_path_x}')\n"
   ]
  },
  {
   "cell_type": "code",
   "execution_count": 264,
   "metadata": {},
   "outputs": [
    {
     "data": {
      "text/plain": [
       "Parameter containing:\n",
       "tensor([[-0.0125, -0.0656,  0.0707,  ...,  0.0405,  0.0168,  0.0195],\n",
       "        [-0.0752,  0.0534,  0.0684,  ...,  0.0280,  0.0571,  0.0042],\n",
       "        [ 0.0861, -0.0516,  0.0276,  ...,  0.0236,  0.0590,  0.0955],\n",
       "        ...,\n",
       "        [ 0.0709, -0.0388,  0.0099,  ...,  0.0368,  0.0609, -0.0889],\n",
       "        [-0.0584,  0.0705, -0.0640,  ..., -0.0118,  0.0938, -0.0915],\n",
       "        [-0.1043, -0.0903, -0.0412,  ..., -0.0870,  0.0879,  0.1038]],\n",
       "       requires_grad=True)"
      ]
     },
     "execution_count": 264,
     "metadata": {},
     "output_type": "execute_result"
    }
   ],
   "source": [
    "# Step 2: Initialize the transformation networks (φ_q and φ_x)\n",
    "phi_q = phi_q_model(feature_dim, output_dim).to(device)\n",
    "phi_x = phi_x_model(feature_dim, output_dim).to(device)\n",
    "\n",
    "# Step 3: Define the trainable hyperplanes (W^) with tanh smoothing\n",
    "W_hat = nn.Parameter(torch.empty(output_dim, H))\n",
    "nn.init.xavier_uniform_(W_hat)  #"
   ]
  },
  {
   "cell_type": "code",
   "execution_count": 265,
   "metadata": {},
   "outputs": [],
   "source": [
    "learning_rate = 1e-5\n",
    "num_epochs = 3"
   ]
  },
  {
   "cell_type": "code",
   "execution_count": 266,
   "metadata": {},
   "outputs": [],
   "source": [
    "optimizer = torch.optim.Adam(list(phi_q.parameters()) + list(phi_x.parameters()), lr=learning_rate, weight_decay=1e-4)\n",
    "# train(phi_q,phi_x,x_dataloader=x_dataloader,q_dataloader=q_dataloader, optimizer=optimizer, num_epochs=1)"
   ]
  },
  {
   "cell_type": "code",
   "execution_count": 267,
   "metadata": {},
   "outputs": [],
   "source": [
    "# Assuming phi_q and phi_x are your model instances\n",
    "model_save_path_q = 'phi_q_model.pt'  # Define the path to save phi_q model\n",
    "model_save_path_x = 'phi_x_model.pt'  # Define the path to save phi_x model"
   ]
  },
  {
   "cell_type": "code",
   "execution_count": 273,
   "metadata": {},
   "outputs": [
    {
     "name": "stdout",
     "output_type": "stream",
     "text": [
      "Models loaded successfully!\n"
     ]
    },
    {
     "name": "stderr",
     "output_type": "stream",
     "text": [
      "/var/folders/9x/cvl5gvjj3v31p6kyd5_lblgh0000gn/T/ipykernel_91673/768094594.py:2: FutureWarning: You are using `torch.load` with `weights_only=False` (the current default value), which uses the default pickle module implicitly. It is possible to construct malicious pickle data which will execute arbitrary code during unpickling (See https://github.com/pytorch/pytorch/blob/main/SECURITY.md#untrusted-models for more details). In a future release, the default value for `weights_only` will be flipped to `True`. This limits the functions that could be executed during unpickling. Arbitrary objects will no longer be allowed to be loaded via this mode unless they are explicitly allowlisted by the user via `torch.serialization.add_safe_globals`. We recommend you start setting `weights_only=True` for any use case where you don't have full control of the loaded file. Please open an issue on GitHub for any issues related to this experimental feature.\n",
      "  phi_q_loaded = torch.load(model_save_path_q)\n",
      "/var/folders/9x/cvl5gvjj3v31p6kyd5_lblgh0000gn/T/ipykernel_91673/768094594.py:3: FutureWarning: You are using `torch.load` with `weights_only=False` (the current default value), which uses the default pickle module implicitly. It is possible to construct malicious pickle data which will execute arbitrary code during unpickling (See https://github.com/pytorch/pytorch/blob/main/SECURITY.md#untrusted-models for more details). In a future release, the default value for `weights_only` will be flipped to `True`. This limits the functions that could be executed during unpickling. Arbitrary objects will no longer be allowed to be loaded via this mode unless they are explicitly allowlisted by the user via `torch.serialization.add_safe_globals`. We recommend you start setting `weights_only=True` for any use case where you don't have full control of the loaded file. Please open an issue on GitHub for any issues related to this experimental feature.\n",
      "  phi_x_loaded = torch.load(model_save_path_x)\n",
      "/var/folders/9x/cvl5gvjj3v31p6kyd5_lblgh0000gn/T/ipykernel_91673/768094594.py:4: FutureWarning: You are using `torch.load` with `weights_only=False` (the current default value), which uses the default pickle module implicitly. It is possible to construct malicious pickle data which will execute arbitrary code during unpickling (See https://github.com/pytorch/pytorch/blob/main/SECURITY.md#untrusted-models for more details). In a future release, the default value for `weights_only` will be flipped to `True`. This limits the functions that could be executed during unpickling. Arbitrary objects will no longer be allowed to be loaded via this mode unless they are explicitly allowlisted by the user via `torch.serialization.add_safe_globals`. We recommend you start setting `weights_only=True` for any use case where you don't have full control of the loaded file. Please open an issue on GitHub for any issues related to this experimental feature.\n",
      "  W_hat_loaded = torch.load(model_save_path_x)\n"
     ]
    }
   ],
   "source": [
    "# Load the complete model\n",
    "phi_q_loaded = torch.load(model_save_path_q)\n",
    "phi_x_loaded = torch.load(model_save_path_x)\n",
    "W_hat_loaded = torch.load(model_save_path_x)\n",
    "# If you're using GPU, you may want to move it to the appropriate device\n",
    "phi_q_loaded.to(device)\n",
    "phi_x_loaded.to(device)\n",
    "\n",
    "print('Models loaded successfully!')\n"
   ]
  },
  {
   "cell_type": "code",
   "execution_count": 269,
   "metadata": {},
   "outputs": [],
   "source": [
    "import torch\n",
    "from tqdm import tqdm\n",
    "\n",
    "def train(phi_q, phi_x, W_hat, lambda1, lambda2, lambda3, x_dataloader, q_dataloader, optimizer, num_epochs=10):\n",
    "    phi_q.train()\n",
    "    phi_x.train()\n",
    "    \n",
    "    for epoch in range(num_epochs):\n",
    "        total_train_loss = 0\n",
    "        # Create a progress bar for the current epoch\n",
    "        progress_bar = tqdm(q_dataloader, desc=f\"Epoch [{epoch + 1}/{num_epochs}]\", leave=False)\n",
    "        \n",
    "        for q_batch in progress_bar:\n",
    "            for x_batch in x_dataloader:\n",
    "                query_features = q_batch['features'].to(device)\n",
    "                corpus_features = x_batch['features'].to(device)\n",
    "\n",
    "                # Get transformed features (z_q and z_x)\n",
    "                z_q_features = phi_q(query_features)\n",
    "                z_x_features = phi_x(corpus_features)\n",
    "                z_q_labels = q_batch['label']\n",
    "                z_x_labels = x_batch['label']\n",
    "\n",
    "                z_q = z_q_features, z_q_labels\n",
    "                z_x = z_x_features, z_x_labels\n",
    "                \n",
    "                # Compute loss\n",
    "                loss, collision, fence_sitting, bit_balance = total_loss(z_q, z_x, W_hat, lambda1=lambda1, lambda2=lambda2, lambda3=lambda3)\n",
    "\n",
    "                # Backpropagation and optimization step\n",
    "                optimizer.zero_grad()\n",
    "                loss.backward()\n",
    "                optimizer.step()\n",
    "\n",
    "                total_train_loss += loss.item()\n",
    "                \n",
    "                progress_bar.set_postfix({\n",
    "                    'loss': loss.item(),\n",
    "                    'balance_loss': bit_balance.item(),\n",
    "                    'fence_loss': fence_sitting.item(),\n",
    "                    'weak_loss': collision.item()\n",
    "                })\n",
    "\n",
    "        # Calculate the average loss for the epoch\n",
    "        avg_loss = total_train_loss / len(x_dataloader)\n",
    "        print(f'Epoch [{epoch + 1}/{num_epochs}], Loss: {avg_loss:.4f}')\n",
    "        \n",
    "        # Save the W_hat parameters after every epoch\n",
    "        torch.save(W_hat.data, f'W_hat_parameters_epoch_{epoch + 1}.pth')\n"
   ]
  },
  {
   "cell_type": "code",
   "execution_count": 270,
   "metadata": {},
   "outputs": [],
   "source": [
    "learning_rate = 1e-5\n",
    "num_epochs = 10\n",
    "lambda1= 0.01\n",
    "lambda2=0.01\n",
    "lambda3 = 1-lambda1-lambda2\n",
    "phi_q.eval()\n",
    "phi_x.eval()"
   ]
  },
  {
   "cell_type": "code",
   "execution_count": 272,
   "metadata": {},
   "outputs": [
    {
     "name": "stderr",
     "output_type": "stream",
     "text": [
      "                                                                                                                       \r"
     ]
    },
    {
     "ename": "KeyboardInterrupt",
     "evalue": "",
     "output_type": "error",
     "traceback": [
      "\u001b[0;31m---------------------------------------------------------------------------\u001b[0m",
      "\u001b[0;31mKeyboardInterrupt\u001b[0m                         Traceback (most recent call last)",
      "Cell \u001b[0;32mIn[272], line 2\u001b[0m\n\u001b[1;32m      1\u001b[0m optimizer \u001b[38;5;241m=\u001b[39m torch\u001b[38;5;241m.\u001b[39moptim\u001b[38;5;241m.\u001b[39mAdam([W_hat], lr\u001b[38;5;241m=\u001b[39mlearning_rate, weight_decay\u001b[38;5;241m=\u001b[39m\u001b[38;5;241m1e-4\u001b[39m)\n\u001b[0;32m----> 2\u001b[0m train(phi_q,phi_x,W_hat, lambda1, lambda2, lambda3,x_dataloader\u001b[38;5;241m=\u001b[39mx_dataloader,q_dataloader\u001b[38;5;241m=\u001b[39mq_dataloader, optimizer\u001b[38;5;241m=\u001b[39moptimizer, num_epochs\u001b[38;5;241m=\u001b[39m\u001b[38;5;241m5\u001b[39m)\n",
      "Cell \u001b[0;32mIn[269], line 32\u001b[0m, in \u001b[0;36mtrain\u001b[0;34m(phi_q, phi_x, W_hat, lambda1, lambda2, lambda3, x_dataloader, q_dataloader, optimizer, num_epochs)\u001b[0m\n\u001b[1;32m     30\u001b[0m \u001b[38;5;66;03m# Backpropagation and optimization step\u001b[39;00m\n\u001b[1;32m     31\u001b[0m optimizer\u001b[38;5;241m.\u001b[39mzero_grad()\n\u001b[0;32m---> 32\u001b[0m loss\u001b[38;5;241m.\u001b[39mbackward()\n\u001b[1;32m     33\u001b[0m optimizer\u001b[38;5;241m.\u001b[39mstep()\n\u001b[1;32m     35\u001b[0m total_train_loss \u001b[38;5;241m+\u001b[39m\u001b[38;5;241m=\u001b[39m loss\u001b[38;5;241m.\u001b[39mitem()\n",
      "File \u001b[0;32m~/.local/lib/python3.12/site-packages/torch/_tensor.py:521\u001b[0m, in \u001b[0;36mTensor.backward\u001b[0;34m(self, gradient, retain_graph, create_graph, inputs)\u001b[0m\n\u001b[1;32m    511\u001b[0m \u001b[38;5;28;01mif\u001b[39;00m has_torch_function_unary(\u001b[38;5;28mself\u001b[39m):\n\u001b[1;32m    512\u001b[0m     \u001b[38;5;28;01mreturn\u001b[39;00m handle_torch_function(\n\u001b[1;32m    513\u001b[0m         Tensor\u001b[38;5;241m.\u001b[39mbackward,\n\u001b[1;32m    514\u001b[0m         (\u001b[38;5;28mself\u001b[39m,),\n\u001b[0;32m   (...)\u001b[0m\n\u001b[1;32m    519\u001b[0m         inputs\u001b[38;5;241m=\u001b[39minputs,\n\u001b[1;32m    520\u001b[0m     )\n\u001b[0;32m--> 521\u001b[0m torch\u001b[38;5;241m.\u001b[39mautograd\u001b[38;5;241m.\u001b[39mbackward(\n\u001b[1;32m    522\u001b[0m     \u001b[38;5;28mself\u001b[39m, gradient, retain_graph, create_graph, inputs\u001b[38;5;241m=\u001b[39minputs\n\u001b[1;32m    523\u001b[0m )\n",
      "File \u001b[0;32m~/.local/lib/python3.12/site-packages/torch/autograd/__init__.py:289\u001b[0m, in \u001b[0;36mbackward\u001b[0;34m(tensors, grad_tensors, retain_graph, create_graph, grad_variables, inputs)\u001b[0m\n\u001b[1;32m    284\u001b[0m     retain_graph \u001b[38;5;241m=\u001b[39m create_graph\n\u001b[1;32m    286\u001b[0m \u001b[38;5;66;03m# The reason we repeat the same comment below is that\u001b[39;00m\n\u001b[1;32m    287\u001b[0m \u001b[38;5;66;03m# some Python versions print out the first line of a multi-line function\u001b[39;00m\n\u001b[1;32m    288\u001b[0m \u001b[38;5;66;03m# calls in the traceback and some print out the last line\u001b[39;00m\n\u001b[0;32m--> 289\u001b[0m _engine_run_backward(\n\u001b[1;32m    290\u001b[0m     tensors,\n\u001b[1;32m    291\u001b[0m     grad_tensors_,\n\u001b[1;32m    292\u001b[0m     retain_graph,\n\u001b[1;32m    293\u001b[0m     create_graph,\n\u001b[1;32m    294\u001b[0m     inputs,\n\u001b[1;32m    295\u001b[0m     allow_unreachable\u001b[38;5;241m=\u001b[39m\u001b[38;5;28;01mTrue\u001b[39;00m,\n\u001b[1;32m    296\u001b[0m     accumulate_grad\u001b[38;5;241m=\u001b[39m\u001b[38;5;28;01mTrue\u001b[39;00m,\n\u001b[1;32m    297\u001b[0m )\n",
      "File \u001b[0;32m~/.local/lib/python3.12/site-packages/torch/autograd/graph.py:769\u001b[0m, in \u001b[0;36m_engine_run_backward\u001b[0;34m(t_outputs, *args, **kwargs)\u001b[0m\n\u001b[1;32m    767\u001b[0m     unregister_hooks \u001b[38;5;241m=\u001b[39m _register_logging_hooks_on_whole_graph(t_outputs)\n\u001b[1;32m    768\u001b[0m \u001b[38;5;28;01mtry\u001b[39;00m:\n\u001b[0;32m--> 769\u001b[0m     \u001b[38;5;28;01mreturn\u001b[39;00m Variable\u001b[38;5;241m.\u001b[39m_execution_engine\u001b[38;5;241m.\u001b[39mrun_backward(  \u001b[38;5;66;03m# Calls into the C++ engine to run the backward pass\u001b[39;00m\n\u001b[1;32m    770\u001b[0m         t_outputs, \u001b[38;5;241m*\u001b[39margs, \u001b[38;5;241m*\u001b[39m\u001b[38;5;241m*\u001b[39mkwargs\n\u001b[1;32m    771\u001b[0m     )  \u001b[38;5;66;03m# Calls into the C++ engine to run the backward pass\u001b[39;00m\n\u001b[1;32m    772\u001b[0m \u001b[38;5;28;01mfinally\u001b[39;00m:\n\u001b[1;32m    773\u001b[0m     \u001b[38;5;28;01mif\u001b[39;00m attach_logging_hooks:\n",
      "\u001b[0;31mKeyboardInterrupt\u001b[0m: "
     ]
    }
   ],
   "source": [
    "optimizer = torch.optim.Adam([W_hat], lr=learning_rate, weight_decay=1e-4)\n",
    "train(phi_q,phi_x,W_hat, lambda1, lambda2, lambda3,x_dataloader=x_dataloader,q_dataloader=q_dataloader, optimizer=optimizer, num_epochs=5)"
   ]
  },
  {
   "cell_type": "code",
   "execution_count": 231,
   "metadata": {},
   "outputs": [],
   "source": [
    "torch.save(W_hat.data, 'W_hat_parameters.pth')"
   ]
  },
  {
   "cell_type": "code",
   "execution_count": 275,
   "metadata": {},
   "outputs": [
    {
     "name": "stderr",
     "output_type": "stream",
     "text": [
      "/var/folders/9x/cvl5gvjj3v31p6kyd5_lblgh0000gn/T/ipykernel_91673/736595380.py:1: FutureWarning: You are using `torch.load` with `weights_only=False` (the current default value), which uses the default pickle module implicitly. It is possible to construct malicious pickle data which will execute arbitrary code during unpickling (See https://github.com/pytorch/pytorch/blob/main/SECURITY.md#untrusted-models for more details). In a future release, the default value for `weights_only` will be flipped to `True`. This limits the functions that could be executed during unpickling. Arbitrary objects will no longer be allowed to be loaded via this mode unless they are explicitly allowlisted by the user via `torch.serialization.add_safe_globals`. We recommend you start setting `weights_only=True` for any use case where you don't have full control of the loaded file. Please open an issue on GitHub for any issues related to this experimental feature.\n",
      "  W_hat = torch.load('W_hat_parameters.pth', map_location=torch.device(device))\n"
     ]
    }
   ],
   "source": [
    "W_hat = torch.load('W_hat_parameters.pth', map_location=torch.device(device))"
   ]
  },
  {
   "cell_type": "code",
   "execution_count": 276,
   "metadata": {},
   "outputs": [],
   "source": [
    "for i,j in model.named_parameters():\n",
    "    if i == 'loss_coefficients':\n",
    "        print(j)"
   ]
  },
  {
   "cell_type": "code",
   "execution_count": 277,
   "metadata": {},
   "outputs": [
    {
     "name": "stderr",
     "output_type": "stream",
     "text": [
      "Processing Batches:   1%|▏         | 252/20019 [00:07<10:13, 32.22it/s]\n"
     ]
    },
    {
     "ename": "KeyboardInterrupt",
     "evalue": "",
     "output_type": "error",
     "traceback": [
      "\u001b[0;31m---------------------------------------------------------------------------\u001b[0m",
      "\u001b[0;31mKeyboardInterrupt\u001b[0m                         Traceback (most recent call last)",
      "Cell \u001b[0;32mIn[277], line 17\u001b[0m\n\u001b[1;32m     14\u001b[0m random_positions \u001b[38;5;241m=\u001b[39m random\u001b[38;5;241m.\u001b[39msample(\u001b[38;5;28mrange\u001b[39m(H), J)\n\u001b[1;32m     15\u001b[0m position_list\u001b[38;5;241m.\u001b[39mappend(random_positions)\n\u001b[0;32m---> 17\u001b[0m \u001b[38;5;28;01mfor\u001b[39;00m batch_idx, data \u001b[38;5;129;01min\u001b[39;00m \u001b[38;5;28menumerate\u001b[39m(tqdm(train_dataloader, desc\u001b[38;5;241m=\u001b[39m\u001b[38;5;124m\"\u001b[39m\u001b[38;5;124mProcessing Batches\u001b[39m\u001b[38;5;124m\"\u001b[39m)):\n\u001b[1;32m     18\u001b[0m     \n\u001b[1;32m     19\u001b[0m     \u001b[38;5;66;03m# Extract features and compute hash code\u001b[39;00m\n\u001b[1;32m     20\u001b[0m     feature \u001b[38;5;241m=\u001b[39m data[\u001b[38;5;124m'\u001b[39m\u001b[38;5;124mfeatures\u001b[39m\u001b[38;5;124m'\u001b[39m]\u001b[38;5;241m.\u001b[39mto(device)\n\u001b[1;32m     21\u001b[0m     hash_value \u001b[38;5;241m=\u001b[39m phi_x(feature)\u001b[38;5;129m@W_hat\u001b[39m\n",
      "File \u001b[0;32m~/.local/lib/python3.12/site-packages/tqdm/std.py:1181\u001b[0m, in \u001b[0;36mtqdm.__iter__\u001b[0;34m(self)\u001b[0m\n\u001b[1;32m   1178\u001b[0m time \u001b[38;5;241m=\u001b[39m \u001b[38;5;28mself\u001b[39m\u001b[38;5;241m.\u001b[39m_time\n\u001b[1;32m   1180\u001b[0m \u001b[38;5;28;01mtry\u001b[39;00m:\n\u001b[0;32m-> 1181\u001b[0m     \u001b[38;5;28;01mfor\u001b[39;00m obj \u001b[38;5;129;01min\u001b[39;00m iterable:\n\u001b[1;32m   1182\u001b[0m         \u001b[38;5;28;01myield\u001b[39;00m obj\n\u001b[1;32m   1183\u001b[0m         \u001b[38;5;66;03m# Update and possibly print the progressbar.\u001b[39;00m\n\u001b[1;32m   1184\u001b[0m         \u001b[38;5;66;03m# Note: does not call self.update(1) for speed optimisation.\u001b[39;00m\n",
      "File \u001b[0;32m~/.local/lib/python3.12/site-packages/torch/utils/data/dataloader.py:630\u001b[0m, in \u001b[0;36m_BaseDataLoaderIter.__next__\u001b[0;34m(self)\u001b[0m\n\u001b[1;32m    627\u001b[0m \u001b[38;5;28;01mif\u001b[39;00m \u001b[38;5;28mself\u001b[39m\u001b[38;5;241m.\u001b[39m_sampler_iter \u001b[38;5;129;01mis\u001b[39;00m \u001b[38;5;28;01mNone\u001b[39;00m:\n\u001b[1;32m    628\u001b[0m     \u001b[38;5;66;03m# TODO(https://github.com/pytorch/pytorch/issues/76750)\u001b[39;00m\n\u001b[1;32m    629\u001b[0m     \u001b[38;5;28mself\u001b[39m\u001b[38;5;241m.\u001b[39m_reset()  \u001b[38;5;66;03m# type: ignore[call-arg]\u001b[39;00m\n\u001b[0;32m--> 630\u001b[0m data \u001b[38;5;241m=\u001b[39m \u001b[38;5;28mself\u001b[39m\u001b[38;5;241m.\u001b[39m_next_data()\n\u001b[1;32m    631\u001b[0m \u001b[38;5;28mself\u001b[39m\u001b[38;5;241m.\u001b[39m_num_yielded \u001b[38;5;241m+\u001b[39m\u001b[38;5;241m=\u001b[39m \u001b[38;5;241m1\u001b[39m\n\u001b[1;32m    632\u001b[0m \u001b[38;5;28;01mif\u001b[39;00m \u001b[38;5;28mself\u001b[39m\u001b[38;5;241m.\u001b[39m_dataset_kind \u001b[38;5;241m==\u001b[39m _DatasetKind\u001b[38;5;241m.\u001b[39mIterable \u001b[38;5;129;01mand\u001b[39;00m \\\n\u001b[1;32m    633\u001b[0m         \u001b[38;5;28mself\u001b[39m\u001b[38;5;241m.\u001b[39m_IterableDataset_len_called \u001b[38;5;129;01mis\u001b[39;00m \u001b[38;5;129;01mnot\u001b[39;00m \u001b[38;5;28;01mNone\u001b[39;00m \u001b[38;5;129;01mand\u001b[39;00m \\\n\u001b[1;32m    634\u001b[0m         \u001b[38;5;28mself\u001b[39m\u001b[38;5;241m.\u001b[39m_num_yielded \u001b[38;5;241m>\u001b[39m \u001b[38;5;28mself\u001b[39m\u001b[38;5;241m.\u001b[39m_IterableDataset_len_called:\n",
      "File \u001b[0;32m~/.local/lib/python3.12/site-packages/torch/utils/data/dataloader.py:673\u001b[0m, in \u001b[0;36m_SingleProcessDataLoaderIter._next_data\u001b[0;34m(self)\u001b[0m\n\u001b[1;32m    671\u001b[0m \u001b[38;5;28;01mdef\u001b[39;00m \u001b[38;5;21m_next_data\u001b[39m(\u001b[38;5;28mself\u001b[39m):\n\u001b[1;32m    672\u001b[0m     index \u001b[38;5;241m=\u001b[39m \u001b[38;5;28mself\u001b[39m\u001b[38;5;241m.\u001b[39m_next_index()  \u001b[38;5;66;03m# may raise StopIteration\u001b[39;00m\n\u001b[0;32m--> 673\u001b[0m     data \u001b[38;5;241m=\u001b[39m \u001b[38;5;28mself\u001b[39m\u001b[38;5;241m.\u001b[39m_dataset_fetcher\u001b[38;5;241m.\u001b[39mfetch(index)  \u001b[38;5;66;03m# may raise StopIteration\u001b[39;00m\n\u001b[1;32m    674\u001b[0m     \u001b[38;5;28;01mif\u001b[39;00m \u001b[38;5;28mself\u001b[39m\u001b[38;5;241m.\u001b[39m_pin_memory:\n\u001b[1;32m    675\u001b[0m         data \u001b[38;5;241m=\u001b[39m _utils\u001b[38;5;241m.\u001b[39mpin_memory\u001b[38;5;241m.\u001b[39mpin_memory(data, \u001b[38;5;28mself\u001b[39m\u001b[38;5;241m.\u001b[39m_pin_memory_device)\n",
      "File \u001b[0;32m~/.local/lib/python3.12/site-packages/torch/utils/data/_utils/fetch.py:50\u001b[0m, in \u001b[0;36m_MapDatasetFetcher.fetch\u001b[0;34m(self, possibly_batched_index)\u001b[0m\n\u001b[1;32m     48\u001b[0m \u001b[38;5;28;01mif\u001b[39;00m \u001b[38;5;28mself\u001b[39m\u001b[38;5;241m.\u001b[39mauto_collation:\n\u001b[1;32m     49\u001b[0m     \u001b[38;5;28;01mif\u001b[39;00m \u001b[38;5;28mhasattr\u001b[39m(\u001b[38;5;28mself\u001b[39m\u001b[38;5;241m.\u001b[39mdataset, \u001b[38;5;124m\"\u001b[39m\u001b[38;5;124m__getitems__\u001b[39m\u001b[38;5;124m\"\u001b[39m) \u001b[38;5;129;01mand\u001b[39;00m \u001b[38;5;28mself\u001b[39m\u001b[38;5;241m.\u001b[39mdataset\u001b[38;5;241m.\u001b[39m__getitems__:\n\u001b[0;32m---> 50\u001b[0m         data \u001b[38;5;241m=\u001b[39m \u001b[38;5;28mself\u001b[39m\u001b[38;5;241m.\u001b[39mdataset\u001b[38;5;241m.\u001b[39m__getitems__(possibly_batched_index)\n\u001b[1;32m     51\u001b[0m     \u001b[38;5;28;01melse\u001b[39;00m:\n\u001b[1;32m     52\u001b[0m         data \u001b[38;5;241m=\u001b[39m [\u001b[38;5;28mself\u001b[39m\u001b[38;5;241m.\u001b[39mdataset[idx] \u001b[38;5;28;01mfor\u001b[39;00m idx \u001b[38;5;129;01min\u001b[39;00m possibly_batched_index]\n",
      "File \u001b[0;32m~/.local/lib/python3.12/site-packages/datasets/arrow_dataset.py:2746\u001b[0m, in \u001b[0;36mDataset.__getitems__\u001b[0;34m(self, keys)\u001b[0m\n\u001b[1;32m   2744\u001b[0m \u001b[38;5;28;01mdef\u001b[39;00m \u001b[38;5;21m__getitems__\u001b[39m(\u001b[38;5;28mself\u001b[39m, keys: List) \u001b[38;5;241m-\u001b[39m\u001b[38;5;241m>\u001b[39m List:\n\u001b[1;32m   2745\u001b[0m \u001b[38;5;250m    \u001b[39m\u001b[38;5;124;03m\"\"\"Can be used to get a batch using a list of integers indices.\"\"\"\u001b[39;00m\n\u001b[0;32m-> 2746\u001b[0m     batch \u001b[38;5;241m=\u001b[39m \u001b[38;5;28mself\u001b[39m\u001b[38;5;241m.\u001b[39m\u001b[38;5;21m__getitem__\u001b[39m(keys)\n\u001b[1;32m   2747\u001b[0m     n_examples \u001b[38;5;241m=\u001b[39m \u001b[38;5;28mlen\u001b[39m(batch[\u001b[38;5;28mnext\u001b[39m(\u001b[38;5;28miter\u001b[39m(batch))])\n\u001b[1;32m   2748\u001b[0m     \u001b[38;5;28;01mreturn\u001b[39;00m [{col: array[i] \u001b[38;5;28;01mfor\u001b[39;00m col, array \u001b[38;5;129;01min\u001b[39;00m batch\u001b[38;5;241m.\u001b[39mitems()} \u001b[38;5;28;01mfor\u001b[39;00m i \u001b[38;5;129;01min\u001b[39;00m \u001b[38;5;28mrange\u001b[39m(n_examples)]\n",
      "File \u001b[0;32m~/.local/lib/python3.12/site-packages/datasets/arrow_dataset.py:2742\u001b[0m, in \u001b[0;36mDataset.__getitem__\u001b[0;34m(self, key)\u001b[0m\n\u001b[1;32m   2740\u001b[0m \u001b[38;5;28;01mdef\u001b[39;00m \u001b[38;5;21m__getitem__\u001b[39m(\u001b[38;5;28mself\u001b[39m, key):  \u001b[38;5;66;03m# noqa: F811\u001b[39;00m\n\u001b[1;32m   2741\u001b[0m \u001b[38;5;250m    \u001b[39m\u001b[38;5;124;03m\"\"\"Can be used to index columns (by string names) or rows (by integer index or iterable of indices or bools).\"\"\"\u001b[39;00m\n\u001b[0;32m-> 2742\u001b[0m     \u001b[38;5;28;01mreturn\u001b[39;00m \u001b[38;5;28mself\u001b[39m\u001b[38;5;241m.\u001b[39m_getitem(key)\n",
      "File \u001b[0;32m~/.local/lib/python3.12/site-packages/datasets/arrow_dataset.py:2727\u001b[0m, in \u001b[0;36mDataset._getitem\u001b[0;34m(self, key, **kwargs)\u001b[0m\n\u001b[1;32m   2725\u001b[0m formatter \u001b[38;5;241m=\u001b[39m get_formatter(format_type, features\u001b[38;5;241m=\u001b[39m\u001b[38;5;28mself\u001b[39m\u001b[38;5;241m.\u001b[39m_info\u001b[38;5;241m.\u001b[39mfeatures, \u001b[38;5;241m*\u001b[39m\u001b[38;5;241m*\u001b[39mformat_kwargs)\n\u001b[1;32m   2726\u001b[0m pa_subtable \u001b[38;5;241m=\u001b[39m query_table(\u001b[38;5;28mself\u001b[39m\u001b[38;5;241m.\u001b[39m_data, key, indices\u001b[38;5;241m=\u001b[39m\u001b[38;5;28mself\u001b[39m\u001b[38;5;241m.\u001b[39m_indices)\n\u001b[0;32m-> 2727\u001b[0m formatted_output \u001b[38;5;241m=\u001b[39m format_table(\n\u001b[1;32m   2728\u001b[0m     pa_subtable, key, formatter\u001b[38;5;241m=\u001b[39mformatter, format_columns\u001b[38;5;241m=\u001b[39mformat_columns, output_all_columns\u001b[38;5;241m=\u001b[39moutput_all_columns\n\u001b[1;32m   2729\u001b[0m )\n\u001b[1;32m   2730\u001b[0m \u001b[38;5;28;01mreturn\u001b[39;00m formatted_output\n",
      "File \u001b[0;32m~/.local/lib/python3.12/site-packages/datasets/formatting/formatting.py:647\u001b[0m, in \u001b[0;36mformat_table\u001b[0;34m(table, key, formatter, format_columns, output_all_columns)\u001b[0m\n\u001b[1;32m    645\u001b[0m \u001b[38;5;28;01melse\u001b[39;00m:\n\u001b[1;32m    646\u001b[0m     pa_table_to_format \u001b[38;5;241m=\u001b[39m pa_table\u001b[38;5;241m.\u001b[39mdrop(col \u001b[38;5;28;01mfor\u001b[39;00m col \u001b[38;5;129;01min\u001b[39;00m pa_table\u001b[38;5;241m.\u001b[39mcolumn_names \u001b[38;5;28;01mif\u001b[39;00m col \u001b[38;5;129;01mnot\u001b[39;00m \u001b[38;5;129;01min\u001b[39;00m format_columns)\n\u001b[0;32m--> 647\u001b[0m     formatted_output \u001b[38;5;241m=\u001b[39m formatter(pa_table_to_format, query_type\u001b[38;5;241m=\u001b[39mquery_type)\n\u001b[1;32m    648\u001b[0m     \u001b[38;5;28;01mif\u001b[39;00m output_all_columns:\n\u001b[1;32m    649\u001b[0m         \u001b[38;5;28;01mif\u001b[39;00m \u001b[38;5;28misinstance\u001b[39m(formatted_output, MutableMapping):\n",
      "File \u001b[0;32m~/.local/lib/python3.12/site-packages/datasets/formatting/formatting.py:407\u001b[0m, in \u001b[0;36mFormatter.__call__\u001b[0;34m(self, pa_table, query_type)\u001b[0m\n\u001b[1;32m    405\u001b[0m     \u001b[38;5;28;01mreturn\u001b[39;00m \u001b[38;5;28mself\u001b[39m\u001b[38;5;241m.\u001b[39mformat_column(pa_table)\n\u001b[1;32m    406\u001b[0m \u001b[38;5;28;01melif\u001b[39;00m query_type \u001b[38;5;241m==\u001b[39m \u001b[38;5;124m\"\u001b[39m\u001b[38;5;124mbatch\u001b[39m\u001b[38;5;124m\"\u001b[39m:\n\u001b[0;32m--> 407\u001b[0m     \u001b[38;5;28;01mreturn\u001b[39;00m \u001b[38;5;28mself\u001b[39m\u001b[38;5;241m.\u001b[39mformat_batch(pa_table)\n",
      "File \u001b[0;32m~/.local/lib/python3.12/site-packages/datasets/formatting/formatting.py:455\u001b[0m, in \u001b[0;36mPythonFormatter.format_batch\u001b[0;34m(self, pa_table)\u001b[0m\n\u001b[1;32m    453\u001b[0m \u001b[38;5;28;01mif\u001b[39;00m \u001b[38;5;28mself\u001b[39m\u001b[38;5;241m.\u001b[39mlazy:\n\u001b[1;32m    454\u001b[0m     \u001b[38;5;28;01mreturn\u001b[39;00m LazyBatch(pa_table, \u001b[38;5;28mself\u001b[39m)\n\u001b[0;32m--> 455\u001b[0m batch \u001b[38;5;241m=\u001b[39m \u001b[38;5;28mself\u001b[39m\u001b[38;5;241m.\u001b[39mpython_arrow_extractor()\u001b[38;5;241m.\u001b[39mextract_batch(pa_table)\n\u001b[1;32m    456\u001b[0m batch \u001b[38;5;241m=\u001b[39m \u001b[38;5;28mself\u001b[39m\u001b[38;5;241m.\u001b[39mpython_features_decoder\u001b[38;5;241m.\u001b[39mdecode_batch(batch)\n\u001b[1;32m    457\u001b[0m \u001b[38;5;28;01mreturn\u001b[39;00m batch\n",
      "File \u001b[0;32m~/.local/lib/python3.12/site-packages/datasets/formatting/formatting.py:151\u001b[0m, in \u001b[0;36mPythonArrowExtractor.extract_batch\u001b[0;34m(self, pa_table)\u001b[0m\n\u001b[1;32m    150\u001b[0m \u001b[38;5;28;01mdef\u001b[39;00m \u001b[38;5;21mextract_batch\u001b[39m(\u001b[38;5;28mself\u001b[39m, pa_table: pa\u001b[38;5;241m.\u001b[39mTable) \u001b[38;5;241m-\u001b[39m\u001b[38;5;241m>\u001b[39m \u001b[38;5;28mdict\u001b[39m:\n\u001b[0;32m--> 151\u001b[0m     \u001b[38;5;28;01mreturn\u001b[39;00m pa_table\u001b[38;5;241m.\u001b[39mto_pydict()\n",
      "\u001b[0;31mKeyboardInterrupt\u001b[0m: "
     ]
    }
   ],
   "source": [
    "import random\n",
    "import torch\n",
    "from tqdm import tqdm\n",
    "\n",
    "hash_dict_list = []\n",
    "L = 2  # number of hash tables\n",
    "J = 14  # number of bits to randomly sample from hash length\n",
    "position_list = []\n",
    "\n",
    "# Iterate through the dataset\n",
    "for i in range(L):\n",
    "    hash_dict = dict()\n",
    "     # Randomly select J unique positions from the range of the hash_length\n",
    "    random_positions = random.sample(range(H), J)\n",
    "    position_list.append(random_positions)\n",
    "    \n",
    "    for batch_idx, data in enumerate(tqdm(x_dataloader, desc=\"Processing Batches\")):\n",
    "        \n",
    "        # Extract features and compute hash code\n",
    "        feature = data['features'].to(device)\n",
    "        hash_value = phi_x(feature)@W_hat\n",
    "        hash_code = torch.where(hash_value > 0, 1, 0)\n",
    "        \n",
    "        # Convert the hash code tensor to a list of tuples for dictionary key compatibility\n",
    "        hash_code_list = hash_code.tolist()\n",
    "\n",
    "       \n",
    "        # Iterate through each image and label in the batch\n",
    "        for j in range(len(hash_code_list)):\n",
    "            # Create a unique key from the hash code of each image\n",
    "            hash_code_key = [hash_code_list[j][pos] for pos in random_positions]\n",
    "            hash_code_key = tuple(hash_code_key)\n",
    "            # Initialize the list if this hash code key is not yet in the dictionary\n",
    "            if hash_code_key not in hash_dict:\n",
    "                hash_dict[hash_code_key] = []\n",
    "            \n",
    "            # Append the tuple (batch index, image index, label) to the list of this hash code key\n",
    "            hash_dict[hash_code_key].append([data['index'][j], data['label'][j].item()])\n",
    "\n",
    "    print(len(hash_dict.keys()))\n",
    "    hash_dict_list.append(hash_dict)\n",
    "    \n",
    "\n",
    "# You now have a list of new hash tables with sampled bits, and a list of their corresponding positions\n"
   ]
  },
  {
   "cell_type": "code",
   "execution_count": 53,
   "metadata": {},
   "outputs": [
    {
     "data": {
      "text/plain": [
       "[[5, 3, 1, 12, 11, 15, 13, 10, 0, 14, 9, 6],\n",
       " [5, 4, 6, 7, 13, 0, 3, 1, 10, 11, 2, 8]]"
      ]
     },
     "execution_count": 53,
     "metadata": {},
     "output_type": "execute_result"
    }
   ],
   "source": [
    "position_list"
   ]
  },
  {
   "cell_type": "markdown",
   "metadata": {},
   "source": [
    "#### Number of buckets in each hash table"
   ]
  },
  {
   "cell_type": "code",
   "execution_count": 54,
   "metadata": {},
   "outputs": [
    {
     "name": "stdout",
     "output_type": "stream",
     "text": [
      "(1, 0, 1, 1, 1, 0, 0, 1, 0, 1, 0, 1) [[0, 0, 0, (14.126840591430664, -11.465263366699219, 5.023034572601318, -29.156818389892578, 20.036251068115234, 11.69014835357666, -5.303621768951416, 0.01815047487616539, 0.18797419965267181, -19.478862762451172, 2.128295421600342, 3.465289831161499, -7.226108074188232, 15.794605255126953, -15.994659423828125, -21.155792236328125, 11.096128463745117, -13.228044509887695, -3.7666175365448, -4.208788871765137, 15.252692222595215, 21.010601043701172, -59.54191970825195, 5.462034225463867, -1.476148247718811, 2.194478750228882, 10.211012840270996, -9.753870964050293, -16.167240142822266, -14.224655151367188, -4.045254230499268, -1.3426427841186523, 17.444448471069336, -8.793740272521973, 3.334364414215088, 13.548185348510742, 1.9909882545471191, 29.32215690612793, -3.8064684867858887, 2.546656608581543, -5.175571918487549, -9.018769264221191, 1.246333122253418, -21.61476707458496, -10.377633094787598, -3.0035388469696045, 14.50636100769043, 0.556563138961792, 11.029930114746094, 26.120126724243164, 7.430466175079346, -8.780808448791504, -16.67611312866211, -18.682695388793945, -16.611934661865234, 14.216436386108398, -2.281771421432495, 5.980668067932129, -1.033158302307129, -4.422050952911377, 1.3472307920455933, 4.019771099090576, -0.352372407913208, -8.596570014953613, 5.3242011070251465, 14.55670166015625, 13.174012184143066, 2.0790305137634277, 1.056169033050537, 20.133148193359375, 0.7374963164329529, 25.277973175048828, -10.664944648742676, 12.9602632522583, 16.894493103027344, -4.834308624267578, 7.059656143188477, -2.439138174057007, 13.474653244018555, -13.017988204956055, -18.547353744506836, 9.99664306640625, -4.519818305969238, -0.8319576978683472, 9.057619094848633, 0.8056743144989014, -14.354747772216797, -7.526201248168945, -0.18182171881198883, -7.659770488739014, -17.971607208251953, 4.169861316680908, -8.87854290008545, -0.4873589873313904, -16.378501892089844, -10.975424766540527, 14.874639511108398, -1.6150290966033936, 6.802824020385742, 7.845277309417725, -16.902006149291992, 3.2010691165924072, 15.823659896850586, -5.345488548278809, -4.345865726470947, 9.158315658569336, 11.81374454498291, -7.862282752990723, -0.9443609714508057, 16.83794403076172, -60.582191467285156, 7.58155632019043, -4.1106486320495605, 2.1055614948272705, -0.817036509513855, -0.0436064749956131, 4.172519683837891, 0.6849154829978943, -0.15789180994033813, -13.47192668914795, -17.04037857055664, -1.258900761604309, 0.35823750495910645, -4.118653774261475, 8.862969398498535, -22.931001663208008, -26.100309371948242, -16.670358657836914, 13.620814323425293, 4.0043625831604, -21.233112335205078, 21.57875633239746, 4.412286281585693, 3.052943229675293, 22.032142639160156, -23.03908920288086, -13.43692684173584, -3.0665972232818604, 2.748354911804199, -3.253549814224243, -7.674976348876953, -8.057785987854004, -3.001087188720703, 6.0170578956604, -1.500496506690979, 6.45801305770874, -7.979797840118408, -11.153463363647461, 8.91403579711914, 18.09994888305664, 8.921710014343262, -14.308987617492676, 7.171270370483398, 8.749078750610352, 0.22957739233970642, 3.075137138366699, 20.28211784362793, -1.9098334312438965, 12.961372375488281, 3.6915953159332275, -4.50706672668457, -4.7711334228515625, 19.563934326171875, 3.9919779300689697, -18.102664947509766, 10.507692337036133, 4.3753485679626465, 0.1665390431880951, -2.859827995300293, -2.781184673309326, 7.9333343505859375, -26.2078857421875, 7.990511417388916, -0.7710277438163757, 4.964931488037109, -9.074346542358398, -9.960623741149902, -1.24788498878479, -5.877554416656494, 7.1909050941467285, 7.590466499328613, 6.825545787811279, 15.437407493591309, 1.1072783470153809, 10.0090970993042, 1.4984772205352783, -14.341261863708496, 12.86584758758545, -116.64822387695312, -5.678077220916748, -22.718353271484375, 21.654266357421875, 5.629337310791016, -2.289738893508911, 16.137353897094727, -2.9756057262420654, 13.432659149169922, 2.0621442794799805, -0.8319898247718811, 0.14120566844940186, 20.79009437561035, -10.521523475646973, 5.906164169311523, -13.057947158813477, -4.1571364402771, 7.714454174041748, 36.39787673950195, -20.784578323364258, -11.777420997619629, -8.424349784851074, 5.06528902053833, 9.449759483337402, -11.634315490722656, -3.225964307785034, 13.784621238708496, -2.6281635761260986, 8.145710945129395, 11.868195533752441, -1.076675534248352, -7.498530864715576, 0.05051157623529434, 11.555817604064941, -1.0227898359298706, -7.250232219696045, 13.003771781921387, -1.78644597530365, 5.254481792449951, 14.891870498657227, -15.912765502929688, -1.812126636505127, 5.641127586364746, -1.7395402193069458, -3.21431565284729, -4.753185749053955, -7.502245903015137, 11.519770622253418, 9.08305835723877, 16.155691146850586, 13.979052543640137, -7.663419246673584, -2.5303399562835693, 2.1027309894561768, -13.194191932678223, 9.455742835998535, 24.587116241455078, -0.591271162033081, -8.590266227722168, -8.781347274780273, 7.8417439460754395, 2.432060718536377, -4.793940544128418, -8.48529052734375, -18.101818084716797, 3.0444865226745605, -13.607955932617188, -0.6152805089950562, 18.237144470214844, -0.7773022055625916, -10.663163185119629, -4.900232791900635, -13.713016510009766, -6.797397136688232, 15.116490364074707, 21.55491828918457, -1.8731675148010254, -0.8063483238220215, 31.327255249023438, 10.953056335449219, -21.37163734436035, 0.5720311403274536, -13.131749153137207, 6.088911056518555, -1.8041247129440308, -14.304830551147461, 2.422785997390747, -2.3366153240203857, 1.9170260429382324, -7.148646354675293, -15.232553482055664, -13.255581855773926, 11.468851089477539, 1.451001524925232, 7.597860813140869, -1.1835618019104004, -6.099595069885254, -13.103858947753906, 11.150018692016602, 3.9901552200317383, -16.708250045776367, 4.340647220611572, 4.476789951324463, 12.058517456054688, -7.591005325317383, -19.880815505981445, -18.61614227294922, 11.061763763427734, 4.4007439613342285, 7.684787273406982, -4.472301483154297, -15.221373558044434, -4.214025497436523, 2.752330780029297, -10.632979393005371, 6.7919158935546875, 8.042763710021973, -3.0688371658325195, 4.654104232788086, -4.2156195640563965, -3.483511209487915, -7.926202297210693, -70.29071807861328, 2.391338348388672, -4.146753787994385, -35.616676330566406, -32.139610290527344, -7.418989181518555, -1.3439905643463135, 0.4940585494041443, 14.39770793914795, -10.153844833374023, 7.168580532073975, 1.5853807926177979, 6.477170944213867, 11.05115032196045, -10.667901039123535, -19.990612030029297, 5.0786519050598145, 15.040666580200195, 3.549903631210327, 2.8637163639068604, -15.590950012207031, -9.844908714294434, -10.096307754516602, 1.2121280431747437, -14.533964157104492, 14.315109252929688, 21.797128677368164, -12.74620532989502, -28.138029098510742, -8.114638328552246, 8.547033309936523, 11.113816261291504, 9.216604232788086, 9.408685684204102, -1.5128268003463745, -2.4614436626434326, 6.9050984382629395, 10.326072692871094, 12.688507080078125, -5.927072525024414, -2.0533876419067383, -10.223498344421387, -4.137601375579834, 21.40478515625, 23.746639251708984, 5.173316478729248, -18.910903930664062, -9.315682411193848, -1.7097711563110352, 0.46475693583488464, -10.564205169677734, -17.297080993652344, 17.241405487060547, -5.519838333129883, 10.008896827697754, 10.838028907775879, 5.212808132171631, 15.129670143127441, 1.6133155822753906, -7.250629901885986, -20.322036743164062, 0.36075401306152344, 1.7508625984191895, -15.211688041687012, 15.888480186462402, -3.00779390335083, 16.020830154418945, 8.017804145812988, 9.806769371032715, 2.918090343475342, -16.32530975341797, 16.926677703857422, 2.473644256591797, -2.6178195476531982, 6.122402667999268, -12.745257377624512, -8.994136810302734, 13.610767364501953, 0.4485059082508087, -11.639745712280273, 0.28719067573547363, 1.5080991983413696, 3.3896796703338623, -1.6845808029174805, -8.6887845993042, -36.3729133605957, -14.685221672058105, -11.025062561035156, -8.74993896484375, 13.061797142028809, 2.269080400466919, -0.17776373028755188, 5.041770935058594, 1.0466182231903076, 20.045804977416992, 21.116601943969727, -1.2922492027282715, -8.611420631408691, -5.294267177581787, 3.526226043701172, -12.598925590515137, 6.148122787475586, 5.609216213226318, 0.9872963428497314, 5.56720495223999, 19.071683883666992, 2.362030506134033, -7.4923601150512695, 17.143705368041992, 2.2650065422058105, 2.810426950454712, -12.996787071228027, -3.0648937225341797, -13.500720977783203, -9.685432434082031, 12.154046058654785, -3.602726697921753, 2.7587924003601074, -12.597719192504883, 20.105173110961914, 11.715648651123047, -8.490992546081543, 9.87417984008789, 21.79709243774414, 6.655996799468994, 0.06181991845369339, 2.3568274974823, -10.331156730651855, 24.170942306518555, 8.940999984741211, -14.442352294921875, -2.5523736476898193, 11.855710983276367, -13.689800262451172, -17.640039443969727, 4.453495502471924, 0.9004340767860413, 6.895693302154541, -12.972152709960938, -15.635560035705566, 4.438208103179932, 5.526021480560303, 4.181998252868652, 1.8779264688491821, 7.212191104888916, 7.708347797393799, 0.7776627540588379, -11.40413761138916, 11.393452644348145, -6.823972702026367, 7.823968887329102, 19.26942253112793, -4.9660749435424805, 7.134693145751953, 13.625248908996582, -8.947145462036133, 1.7541818618774414, -4.571290969848633, 9.606517791748047, -9.588225364685059, -4.981356620788574, 10.649653434753418, 14.260533332824707, -4.265185356140137, -6.390129089355469, -8.520044326782227, -4.890480995178223, 10.581503868103027, 13.384063720703125, 0.03150217607617378, -3.254365921020508, 6.423169136047363, -15.72796630859375, -0.38585183024406433, -3.249319076538086, -0.15647974610328674, 13.388911247253418, -20.126611709594727, 1.4831463098526, 7.972501277923584, 0.9577930569648743, -14.924245834350586, -7.6111016273498535, -1.018905758857727, -21.974796295166016, -12.799152374267578, 0.8294235467910767, -8.20706558227539, -1.838636040687561, 6.109428405761719, -25.81012535095215, -9.717802047729492, -17.8603515625, 13.344347953796387, 17.981761932373047, -7.690108299255371, 12.540567398071289, 10.335603713989258, -12.725643157958984, 8.227710723876953, 21.892358779907227, -13.60222053527832, 0.48708102107048035, -7.905608654022217, 18.972204208374023, 12.217672348022461, 13.95457935333252, 11.98305892944336, 19.658714294433594, -11.631471633911133, -12.113927841186523, 17.62236976623535, 5.204225063323975, 30.69620132446289, -5.1245527267456055, -7.265808582305908, -11.222681045532227, 12.538053512573242, 14.778529167175293, -2.822207450866699, -19.235347747802734, 3.1005027294158936, -0.8944056034088135, -6.171726703643799, -0.24504347145557404, -8.116951942443848, 11.878588676452637, 4.448030948638916, 11.944784164428711, -8.771925926208496, -13.084661483764648, -1.0897481441497803, -4.947842121124268, 6.744778156280518, 0.38145557045936584, -11.216111183166504, -32.76639175415039, 0.9950658082962036, 17.935819625854492, -7.318175792694092, 8.690512657165527, -0.24435703456401825, -11.739128112792969, -4.587644100189209, 7.4547953605651855, -18.727075576782227, -6.320981979370117, -4.664407730102539, -13.082592010498047, 0.5911452770233154, 1.3790651559829712, 4.584105491638184, -3.1982998847961426, 10.95974063873291, 6.3165130615234375, 7.354708671569824, -10.537190437316895, -18.262060165405273, -7.364607810974121, -2.236867904663086, -18.432565689086914, -0.10996641963720322, 8.821394920349121, 6.902303218841553, -9.577238082885742, 17.49640655517578, 9.994447708129883, 3.1785013675689697, 2.272958993911743, -4.072968006134033, 0.26801708340644836, -8.916625022888184, 1.718587040901184, 12.583834648132324, -5.032029628753662, -9.940402030944824, -21.968473434448242, -2.8797245025634766, 1.7716518640518188, 11.412789344787598, 11.633758544921875, -0.35690709948539734, -20.498014450073242, 8.437589645385742, -9.171041488647461, 11.939443588256836, 1.8601558208465576, -22.86892318725586, -0.9082056283950806, -17.681011199951172, -10.596179962158203, 6.031639099121094, 10.877236366271973, -17.841964721679688, 27.172042846679688, 0.39501798152923584, -14.636942863464355, -4.348564624786377, -12.558110237121582, -6.373210430145264, 9.860369682312012, 9.167810440063477, 3.7016525268554688, -9.588647842407227, -14.216497421264648, -7.117495536804199, 9.291759490966797, -6.4236369132995605, -18.149049758911133, 9.81912612915039, -14.347946166992188, 14.972882270812988, -11.226879119873047, -0.5377355217933655, 8.038397789001465, -0.8706457614898682, 13.968704223632812, 5.328737258911133, -3.3715033531188965, 30.676097869873047, -14.404967308044434, -5.465979099273682, -8.96519660949707, 7.094274520874023, -3.6754322052001953, 8.566271781921387, 18.755468368530273, -4.104330062866211, -11.360939979553223, -13.19556713104248, 0.5450236201286316, -4.5706281661987305, 1.0085973739624023, -7.967627048492432, 21.518203735351562, 7.387287139892578, -10.349251747131348, 32.02089309692383, -8.441971778869629, 7.479935169219971, -7.752852916717529, -9.390377044677734, -6.800241947174072, 14.203054428100586, -3.5113277435302734, -7.561676502227783, 10.384589195251465, -3.241471529006958, 6.599279880523682, 2.7937846183776855, -15.226256370544434, 3.7443737983703613, -4.803870677947998, -1.7139257192611694, 17.58334732055664, -13.846474647521973, 10.248221397399902, -14.71751594543457, 15.757598876953125, 1.2258191108703613, 1.405682921409607, -1.2457350492477417, -8.37964153289795, -5.310815334320068, -58.52912902832031, 6.490779399871826, -13.907682418823242, -2.6434245109558105, 8.78570556640625, -15.140405654907227, -2.313837766647339, -16.476985931396484, 10.689289093017578, -9.660353660583496, 14.73786735534668, 6.724978446960449, 14.292463302612305, 10.403681755065918, -2.295084238052368, 8.329537391662598, 16.150798797607422, -9.689090728759766, -5.164597988128662, 2.4688472747802734, -18.51904296875, 15.669649124145508, 3.350058078765869, 21.809965133666992, -18.73470115661621, -23.87898063659668, -12.04975700378418, 12.387497901916504, -3.9287259578704834, -1.5677846670150757, -7.5638108253479, 1.6893622875213623, -1.340302586555481, -8.149837493896484, 39.74129104614258, 4.204434871673584, 0.8354567289352417, 2.6862263679504395, -11.162165641784668, -6.74632453918457, 8.400799751281738, 0.632882297039032, 1.7902082204818726, 25.31211280822754, 7.942290306091309, 2.259108066558838, 6.646335124969482, -60.88449478149414, -1.5177427530288696, 15.61808967590332, -17.98795509338379, 7.343896389007568, 1.1239595413208008, -3.2737529277801514, -7.412053108215332, 19.259382247924805, -0.26370489597320557, -10.127493858337402, 8.815276145935059, -1.2930153608322144, 2.1577694416046143, -19.028242111206055, 9.982208251953125, -6.989582538604736, -0.1950538456439972, 16.716176986694336, 8.77945327758789, 4.783937931060791, 2.2109646797180176, 2.125643491744995, 69.95099639892578, 8.670352935791016, 4.27779483795166, -1.2744204998016357, -15.005879402160645, 11.219687461853027, 3.8490562438964844, 19.720531463623047, -25.587440490722656, 4.274351119995117, -4.479791641235352, 11.22994327545166, -0.00980863906443119, -1.4671881198883057, 6.357582092285156, 4.610428810119629, 16.74602699279785, 15.420289039611816, -1.6242046356201172, -5.281119346618652, -3.304962635040283, 13.548659324645996, -9.709920883178711, 9.274297714233398, -3.5880863666534424, 12.930940628051758, -11.430980682373047, 21.638809204101562, 4.252784252166748, 6.577575206756592, -1.542714238166809, -1.389515995979309, -5.9078545570373535, 24.73903465270996, -8.607467651367188, -17.850313186645508, 4.412528991699219, -25.924930572509766, -2.2110371589660645, 24.928451538085938, 16.483890533447266, -8.663168907165527, -14.589166641235352, 18.737009048461914, 1.1978199481964111, 13.982734680175781, 27.540821075439453, -3.634752035140991, -9.677278518676758, -5.858687877655029, -5.235231876373291, -4.87300968170166, 6.108926296234131, -7.425353527069092, -2.1221957206726074, 1.8776596784591675, -10.98419189453125, 13.667648315429688, -17.979265213012695, 11.680049896240234, -18.03122901916504, 26.120878219604492, -6.3129706382751465, -5.183974266052246, -17.957054138183594, 6.648251056671143, 4.208059310913086, 8.725656509399414, -15.510725021362305, 4.621842861175537, -14.609313011169434, 3.7196788787841797, -8.556952476501465, 2.285707473754883, 6.272326469421387, -1.6617382764816284, 9.65873908996582, -14.769344329833984, -8.345678329467773, 15.344285011291504, 14.452338218688965, -0.8140429258346558, -0.5090379118919373, -15.08875560760498, 5.79648494720459, 1.4712488651275635, -9.873147010803223, 19.398605346679688, -11.766520500183105, -5.802394390106201, 0.15186406672000885, 5.929501533508301, -3.121481418609619, 11.676423072814941, -5.997341156005859, -16.2974853515625, -7.993544578552246, -0.6781718134880066, 13.596636772155762, 0.20538099110126495, -0.9370197057723999, -2.9757537841796875, -17.44361114501953, 9.084263801574707, 18.867130279541016, 6.5888543128967285, 4.234792232513428, 7.781862735748291, 6.4081292152404785, -3.1202173233032227, -5.548532485961914, -0.9494248032569885, -5.840389251708984, 5.9447221755981445, -3.7862038612365723, 2.3814520835876465, 12.584644317626953, -2.668978214263916, 0.3114652633666992, 2.032762289047241, 16.97072982788086, 5.051613807678223, -17.038230895996094, -0.8124276995658875, 7.93529748916626, -3.4326210021972656, -20.095739364624023, 0.8060169219970703, 20.098615646362305, -7.893689155578613, 9.84914779663086, -7.840342998504639, 14.555536270141602, -8.592373847961426, 11.074189186096191, 5.120152950286865, 9.992090225219727, -12.060956001281738, 7.166842460632324, -5.524143695831299, -12.8002347946167, -16.46048355102539, -7.164648532867432, 10.254225730895996, 8.446632385253906, 2.5358059406280518, -4.986379623413086, 9.277414321899414, 9.467005729675293, -6.515317916870117, 8.10626220703125, -6.757031440734863, -13.9589204788208, 14.386674880981445, 2.2795732021331787, 3.0451765060424805, -51.694602966308594, -14.794455528259277, 15.802961349487305, -21.140941619873047, 8.007298469543457, 18.308626174926758, 17.724828720092773, -9.033913612365723, -32.016029357910156, 16.648765563964844, -22.60370445251465, -2.8298583030700684, -3.2075254917144775, 21.954389572143555, -2.445038080215454, -8.27734375, -10.467588424682617, -3.0405871868133545, 3.1235694885253906, -5.677831172943115, -1.2574682235717773, -7.071419715881348, 14.35594367980957, 3.9044172763824463, -3.235567569732666, -0.5718937516212463, 17.535268783569336, 4.456849575042725, -2.030935525894165, -0.5749344229698181, 4.965996265411377, -17.360557556152344, -8.055169105529785, -2.9665653705596924, 18.665678024291992, 17.10882568359375, 19.723482131958008, 6.487484931945801, -14.26282024383545, 15.674226760864258, -7.565234184265137, 19.503734588623047, -0.33193111419677734, 2.1468536853790283, -21.127477645874023, -2.381108522415161, -11.962767601013184, 2.9081623554229736, 2.0897889137268066, 5.4093523025512695, 3.9088211059570312, 29.019948959350586, -12.79654598236084, -16.142498016357422, -9.357402801513672, 15.278654098510742, 9.981616973876953, 5.040922164916992, -7.255869388580322, -9.521283149719238, -14.763131141662598, -21.64006233215332, -11.55564022064209, 2.3692967891693115, 3.1372323036193848, -10.409857749938965, 2.7451019287109375, 4.49457311630249, 13.368168830871582, 6.7285990715026855, 16.24898338317871, 14.858880043029785, 2.8451743125915527, 8.087679862976074, 15.004205703735352, 9.332534790039062, 18.2576961517334, -2.181278944015503, 4.092284679412842, -7.669295310974121, 15.341821670532227, -0.23778513073921204, -6.187612056732178, -7.080103397369385, -12.88861083984375, 15.652130126953125, 20.274019241333008, -20.318727493286133, 3.2185258865356445, 2.315950870513916, -0.3277694284915924, -14.822967529296875, -11.978931427001953, 13.544642448425293, -15.761226654052734, -11.684701919555664, -8.531010627746582, -14.429181098937988, -6.766694068908691, 18.026859283447266, 5.100436687469482, -9.185811042785645, 4.959812641143799, -17.99664306640625, 22.353675842285156, 4.4937214851379395, -5.938600063323975, -5.75624942779541, 2.330144166946411, -18.042898178100586, -0.23251937329769135, 24.671218872070312, 7.830560684204102, 4.744593620300293, -4.092419147491455, 15.26709270477295, -4.539486408233643, -6.6154303550720215, -2.3186681270599365, -6.950046062469482, -10.671524047851562, -16.806636810302734, -23.353843688964844, 8.570172309875488)], [0, 1, 6, (-11.896246910095215, -3.7479686737060547, 11.752325057983398, -0.9181423783302307, 1.5974236726760864, -16.142452239990234, -12.126669883728027, -3.3926942348480225, 10.368511199951172, -3.43078875541687, -26.575029373168945, 13.635350227355957, -8.161255836486816, 2.6742076873779297, -2.993518829345703, -4.234886169433594, -11.36850357055664, -16.815444946289062, 8.789331436157227, 7.747513294219971, -27.341732025146484, 11.393963813781738, -23.5477237701416, -9.163105964660645, 0.07424486428499222, 6.912209510803223, 3.2662010192871094, 3.5553946495056152, -15.563557624816895, 22.89974021911621, -3.867724657058716, -10.526995658874512, 8.701725959777832, 3.7076146602630615, 29.80666160583496, 4.3455071449279785, 6.611604690551758, 10.915918350219727, 0.3879721462726593, 16.37055778503418, -2.2021725177764893, -7.213484764099121, -9.03498649597168, 0.6160293817520142, 0.26604345440864563, -2.396591901779175, -3.0473744869232178, -12.25342082977295, 0.3758604824542999, 13.201323509216309, 3.65106201171875, 2.2501535415649414, -4.459619998931885, 8.756103515625, -1.692226767539978, -6.417120933532715, 9.67116928100586, -4.369328498840332, -6.241410255432129, 18.777019500732422, 3.35192608833313, -17.504304885864258, -6.4297966957092285, -1.5507010221481323, 2.7342605590820312, 8.663930892944336, 17.017393112182617, -16.827016830444336, -5.515672206878662, 7.5890913009643555, -16.676837921142578, -0.6979121565818787, -19.638755798339844, -7.230862617492676, 0.49651020765304565, 7.395120620727539, -13.373302459716797, 7.359084606170654, 19.44654083251953, -0.5552154779434204, -15.102160453796387, -22.06230354309082, -6.212030410766602, 11.825777053833008, -6.0847578048706055, 3.4018945693969727, 14.436661720275879, -1.9656031131744385, 1.7472809553146362, -19.20869255065918, 13.7108154296875, 4.481794834136963, -0.20648501813411713, 5.6558732986450195, 21.254680633544922, 1.770972490310669, 5.719611644744873, 17.890201568603516, 20.552095413208008, 13.327507019042969, 10.366572380065918, 10.195324897766113, -4.771856307983398, 19.929893493652344, 0.41148409247398376, -16.94287109375, 6.44222354888916, -13.006017684936523, -13.318020820617676, -15.059601783752441, -30.0906982421875, -12.829227447509766, -2.831930637359619, 9.813987731933594, -7.694836139678955, 16.59779167175293, 9.784628868103027, -2.686077356338501, -5.167448043823242, -11.500362396240234, -2.2095494270324707, 8.657370567321777, -9.718703269958496, -7.015682220458984, -5.253194332122803, 12.612842559814453, 5.610143661499023, -2.2105751037597656, -4.778321743011475, 2.3852322101593018, 0.0886290967464447, -6.158694744110107, 28.47303581237793, -17.58719253540039, 10.735553741455078, 11.363974571228027, -12.120708465576172, -33.09654235839844, -9.18528938293457, -11.305859565734863, -2.8454201221466064, 2.8072493076324463, 15.374368667602539, -11.208657264709473, -10.494571685791016, 4.4656243324279785, -0.5309433341026306, -13.748157501220703, 1.0425525903701782, -0.11943717300891876, 3.3554515838623047, -4.196951389312744, -5.296553611755371, -13.488151550292969, 1.8082679510116577, 2.2325165271759033, -11.519492149353027, -16.312355041503906, 36.156761169433594, 0.41749656200408936, -7.338527679443359, 10.518915176391602, 11.980618476867676, -5.166750907897949, 0.26963746547698975, -22.60743522644043, -6.705603122711182, 12.771524429321289, 1.3731553554534912, -0.6758517622947693, -6.05628776550293, 11.698898315429688, 27.19399642944336, -8.989706039428711, -12.481868743896484, 5.0455002784729, 5.924034595489502, 4.830949306488037, -2.908318042755127, -14.890103340148926, -2.3832695484161377, -7.065858840942383, 7.003788471221924, 13.435441017150879, 2.157477855682373, 15.222400665283203, 8.869050025939941, 38.54999923706055, -107.46543884277344, 6.916192531585693, -2.2223823070526123, 0.018876122310757637, -4.486548900604248, -11.488760948181152, 5.117059230804443, 37.7129020690918, -18.848308563232422, 5.762215614318848, -18.2130184173584, 2.073397397994995, 2.4371178150177, -0.43139174580574036, 12.530441284179688, -5.078861236572266, -7.7056145668029785, 23.782215118408203, 18.3459415435791, -3.8487141132354736, -15.478187561035156, 9.94347858428955, 8.742461204528809, -0.9765353202819824, 4.493819236755371, 9.213218688964844, 17.476848602294922, -8.939459800720215, -11.342360496520996, 18.788293838500977, -7.8874897956848145, 11.255178451538086, 7.4490275382995605, -2.4025697708129883, -5.81361198425293, -16.18645477294922, 11.55027961730957, -9.205198287963867, -5.087880611419678, -12.738080978393555, -2.0236499309539795, 5.474433422088623, -9.391761779785156, -0.941397488117218, 0.4307520091533661, -18.25197982788086, -24.524065017700195, -9.187000274658203, -5.933414459228516, -11.041184425354004, -20.8887939453125, 7.167297840118408, -3.534602403640747, -4.642467021942139, 13.898184776306152, -7.121011257171631, -0.12396175414323807, -17.748188018798828, 13.158281326293945, 10.767510414123535, 20.64501953125, 10.302816390991211, -13.845359802246094, 0.4288041889667511, 14.814776420593262, 1.4984815120697021, 27.91810417175293, 4.041268825531006, -3.3736464977264404, -4.543628692626953, -35.89000701904297, -5.527451992034912, 5.970582485198975, 15.50758171081543, 25.135326385498047, 10.051061630249023, 11.39929485321045, -12.228460311889648, -1.3511911630630493, 3.9888389110565186, 8.089180946350098, -18.907289505004883, 1.42544686794281, 20.859472274780273, 19.67866325378418, -9.741268157958984, 18.238048553466797, 7.5423197746276855, 4.354985237121582, -20.7959041595459, -0.971072793006897, -25.564430236816406, 2.386986017227173, -5.740420818328857, -6.152202129364014, 7.926974773406982, 6.340272426605225, 1.2620099782943726, 2.8155291080474854, -6.171641826629639, -13.537483215332031, 4.731409549713135, 0.7079612016677856, -2.990382194519043, 12.505252838134766, -5.337841987609863, -0.0036249884869903326, -4.073843955993652, 10.864828109741211, 7.802218437194824, -9.408570289611816, -13.019116401672363, -6.338859558105469, 3.312530040740967, -1.5304343700408936, -15.27952766418457, 10.50863265991211, -2.809364080429077, -2.66864013671875, 5.227062702178955, -25.51091766357422, -4.158535003662109, -58.766876220703125, 3.6988298892974854, -3.265777587890625, -6.423097133636475, -14.251540184020996, 30.03472900390625, 22.30678939819336, 19.061386108398438, -5.190857410430908, -19.186843872070312, 8.469313621520996, 3.8250865936279297, -13.036273956298828, 15.923744201660156, 23.89784049987793, 16.113317489624023, -10.973569869995117, 7.241982936859131, -14.103668212890625, -4.356960296630859, 19.089441299438477, -2.589195966720581, 10.129024505615234, -13.214923858642578, -9.063294410705566, 5.1791157722473145, -14.148639678955078, -5.857710361480713, 15.416501998901367, 2.6550285816192627, -3.4110052585601807, 8.30706787109375, -13.257247924804688, 6.04491662979126, -19.814586639404297, -10.329378128051758, -1.501043438911438, -15.637785911560059, -2.71528959274292, -8.755070686340332, 13.587934494018555, -13.444692611694336, -1.3088765144348145, -19.474626541137695, -2.7003631591796875, 14.218585014343262, -6.978730201721191, 10.062511444091797, 4.2259202003479, 1.4158599376678467, -26.944978713989258, -21.25856590270996, -1.892387866973877, 1.6354646682739258, 15.986964225769043, -11.713605880737305, -24.457876205444336, 10.325152397155762, -4.727176189422607, 9.818769454956055, 1.1487938165664673, 1.9072892665863037, -32.91492462158203, -8.146950721740723, -17.69481086730957, -9.187705039978027, 4.916654586791992, 10.867456436157227, -2.125746250152588, -29.83255958557129, -2.6379446983337402, 25.032657623291016, 2.339911937713623, 5.488760471343994, 10.534255027770996, 7.846828460693359, 3.097057580947876, -1.453704833984375, -17.787702560424805, 5.54263973236084, -6.505592346191406, -9.67546272277832, 0.06780990213155746, -16.9713134765625, 3.556812047958374, 9.425856590270996, -4.182087421417236, 15.58027172088623, 0.8792067766189575, -15.880270004272461, 3.170623779296875, -18.09123992919922, 10.739253044128418, -10.43725872039795, 8.629931449890137, 8.270347595214844, 16.983293533325195, 0.06473091244697571, -9.945270538330078, -5.765183448791504, -10.80400562286377, -13.315435409545898, -0.6199060082435608, -0.5561803579330444, 13.518935203552246, 11.164390563964844, 7.628354072570801, -25.80667495727539, 1.7372156381607056, -3.2269160747528076, -15.088394165039062, -10.90937328338623, 8.325723648071289, -14.369657516479492, 12.10010051727295, -7.918051242828369, 2.5588300228118896, 6.443617820739746, 7.047494888305664, -2.1246399879455566, -4.692422389984131, -1.425910234451294, 8.515811920166016, 18.428747177124023, -19.871158599853516, 27.171127319335938, 30.084125518798828, 16.58842658996582, -9.736135482788086, -5.654428005218506, 9.342727661132812, 14.419120788574219, 1.4390419721603394, -8.399346351623535, -23.221965789794922, 13.870766639709473, -19.560672760009766, -0.43854206800460815, -22.10933494567871, 4.6705322265625, 1.4597643613815308, -4.300071716308594, 7.329444885253906, 0.11457046121358871, 20.130874633789062, 30.617961883544922, -11.408255577087402, -2.030360460281372, -4.701111316680908, -9.199264526367188, 18.417062759399414, -6.348590850830078, -9.545397758483887, -11.41526985168457, -9.748866081237793, -14.77931022644043, -3.2256102561950684, -23.903284072875977, 21.661611557006836, 7.445187091827393, -3.631260871887207, 1.219446063041687, 8.105030059814453, 13.307428359985352, -8.691243171691895, 4.695831298828125, -6.274970531463623, 15.733704566955566, -20.42311668395996, 14.504744529724121, -11.850804328918457, -0.6796393990516663, -5.103524684906006, 19.453598022460938, -0.6482252478599548, 24.337085723876953, -2.1636855602264404, 7.666537761688232, -7.355251312255859, 5.541484355926514, -0.9695074558258057, 1.8440862894058228, -1.4092222452163696, 6.049506187438965, 7.045182704925537, 12.001543998718262, 4.655542850494385, -0.05224572494626045, 19.817073822021484, 4.4020586013793945, -6.920309066772461, -0.47665879130363464, -2.6962907314300537, 1.0402145385742188, 4.911319732666016, 1.2049615383148193, 5.835856914520264, -13.211681365966797, 3.590735673904419, -24.312978744506836, -1.882261872291565, -7.373620986938477, -8.455925941467285, 15.19013500213623, 3.169766426086426, -19.6478214263916, -7.838186264038086, 7.586296081542969, -8.222528457641602, -6.121212482452393, -0.9636844992637634, 8.25660514831543, 9.499561309814453, 15.717557907104492, 6.651173114776611, -10.206633567810059, 14.68756103515625, -2.3152527809143066, 4.614887714385986, 9.901607513427734, 5.739199638366699, -11.535274505615234, -4.551220893859863, 10.495041847229004, -13.635533332824707, -22.469316482543945, 4.070391654968262, 7.249532699584961, 5.314602851867676, -8.690423965454102, -4.7465105056762695, -9.489978790283203, 9.5153169631958, -2.0956239700317383, -7.229287624359131, 5.983190059661865, 10.651715278625488, 6.488863945007324, -4.92712926864624, 0.6833699941635132, -6.894994258880615, 9.695690155029297, 3.679018259048462, 11.644965171813965, 0.16702179610729218, 2.9858760833740234, 8.686393737792969, 3.4234492778778076, 10.79134750366211, -5.515251159667969, 19.100080490112305, -6.182644367218018, -10.742640495300293, 8.209376335144043, 11.05727767944336, 5.94955587387085, -9.830575942993164, -3.8916115760803223, -1.4896031618118286, -6.811758518218994, -10.133689880371094, -11.208971977233887, 3.1696646213531494, 4.624830722808838, 13.81602954864502, 20.138334274291992, 15.107418060302734, 0.5109761357307434, -3.8273017406463623, -14.324939727783203, -24.818082809448242, -8.282052993774414, 2.856579542160034, -19.486156463623047, 6.346908092498779, 24.808000564575195, -2.813655138015747, -9.102746963500977, 8.389556884765625, 11.885805130004883, 2.3310394287109375, -14.651124954223633, -1.5237987041473389, 11.735980987548828, 11.339540481567383, 10.935355186462402, -7.576268672943115, 18.3153133392334, 4.907075881958008, -2.8663787841796875, -10.284843444824219, 10.448203086853027, -11.933036804199219, 9.396358489990234, 14.32855224609375, -5.168700218200684, -13.31760025024414, -5.927602291107178, -9.356276512145996, 2.1539812088012695, 4.879858016967773, -10.577231407165527, 11.494948387145996, -19.801836013793945, 12.444740295410156, 8.357096672058105, 20.524215698242188, 3.660926580429077, 3.914126396179199, 16.012643814086914, -4.339879035949707, -5.138214588165283, -4.726768970489502, -20.407114028930664, 9.457677841186523, 4.093297481536865, 34.70718002319336, -8.049039840698242, 0.8508738279342651, -6.355130195617676, -5.292294502258301, 0.0047832359559834, 3.8024144172668457, 4.313964366912842, 3.858427047729492, -14.514281272888184, -4.162804126739502, 1.7181707620620728, -2.8361947536468506, 9.945021629333496, 4.767093181610107, 4.525883197784424, 8.412823677062988, -11.155604362487793, 1.3267790079116821, 13.144597053527832, -6.9576287269592285, -5.546352386474609, 18.561540603637695, -2.9447262287139893, 5.701245307922363, -0.4291739761829376, 1.6313660144805908, 2.7999372482299805, 4.842593669891357, -9.241508483886719, -6.428844451904297, -6.353650093078613, 10.299718856811523, 11.722569465637207, -5.522054672241211, 1.505522608757019, 4.751371383666992, 16.07078742980957, 23.83802604675293, -27.631742477416992, 9.761289596557617, -3.6170687675476074, -6.33880090713501, 0.6958207488059998, -15.716651916503906, 0.4529929757118225, -4.777256011962891, 2.052051305770874, -30.789255142211914, 7.69215726852417, 9.89694881439209, -8.303899765014648, 16.617910385131836, -1.8902348279953003, 14.047054290771484, 2.1339869499206543, -4.5695319175720215, -1.218765139579773, 1.3545480966567993, -9.233976364135742, 9.547792434692383, 3.696824073791504, 12.263739585876465, 7.897678852081299, 9.911479949951172, -1.067582368850708, -11.26506519317627, 0.18059608340263367, -5.872555255889893, 2.256132125854492, 6.272075176239014, 18.87053871154785, 10.392043113708496, 8.247597694396973, -8.04526138305664, 11.777975082397461, -9.330439567565918, 1.5784835815429688, 2.884762763977051, -13.962464332580566, 11.703367233276367, -25.86669921875, 18.151479721069336, 5.903735160827637, 0.03285790607333183, 25.41752815246582, 12.924211502075195, -2.0092880725860596, 8.602400779724121, 0.7505859732627869, -2.578857898712158, -6.781887054443359, -10.112874984741211, 23.24812126159668, 16.94059944152832, -23.30174446105957, 2.5503201484680176, 5.513527870178223, 0.5884140729904175, -9.023791313171387, -22.54840850830078, -2.164140462875366, 18.530010223388672, 11.633569717407227, -15.437161445617676, 10.788965225219727, -13.553637504577637, -12.659699440002441, -6.930405139923096, -2.10664439201355, -5.292162895202637, -0.9449064135551453, 1.5977447032928467, 21.757761001586914, -17.068111419677734, 6.2654500007629395, -14.835223197937012, 0.2217712104320526, 59.83860397338867, 17.732036590576172, -12.83972454071045, -10.454615592956543, -13.203853607177734, 2.125762462615967, 16.977218627929688, -5.078647613525391, -1.1296207904815674, 0.19051896035671234, 2.7727291584014893, -4.347090721130371, 16.618038177490234, 6.778235912322998, 2.1643450260162354, 0.08645790070295334, 5.104303359985352, -16.3031005859375, 12.558018684387207, 6.099636077880859, 11.270721435546875, 1.9281233549118042, -22.164751052856445, 13.554800033569336, 8.64780330657959, 5.751728534698486, 25.933080673217773, 19.072063446044922, -18.05807876586914, -16.5577449798584, 4.291537761688232, -6.78387975692749, 10.318474769592285, 17.43099021911621, 13.055749893188477, -13.27538013458252, -2.5403215885162354, 0.30880865454673767, 23.23932647705078, -10.295563697814941, 6.668511867523193, 18.756383895874023, -6.803077220916748, 9.6505126953125, -1.6357097625732422, -16.056385040283203, 2.0141735076904297, 24.69378089904785, -17.352296829223633, 2.54724383354187, 11.427872657775879, 9.142602920532227, -10.761075019836426, 11.122074127197266, -3.862006187438965, 7.284661293029785, 3.2949531078338623, 3.761528491973877, -1.9741501808166504, 4.478575229644775, -9.810895919799805, -0.8590567708015442, -18.167890548706055, 2.1240241527557373, 3.0887386798858643, -14.654244422912598, 14.635478019714355, 0.4413421154022217, -13.213774681091309, 6.889750003814697, -18.538671493530273, 3.9928221702575684, -1.8138000965118408, -10.720690727233887, -2.855226755142212, 8.935989379882812, 19.148305892944336, 12.154783248901367, -3.2535433769226074, -1.1385579109191895, 7.094278812408447, -9.980545997619629, -12.452971458435059, -10.668703079223633, 13.62537670135498, 16.68555450439453, 8.178275108337402, 10.508734703063965, -16.428417205810547, -20.11237907409668, -5.638463973999023, 11.690791130065918, -3.3868188858032227, -8.236638069152832, -6.079460144042969, -17.710508346557617, -5.138411521911621, -0.9992616772651672, -10.641901016235352, 8.443099975585938, 11.275890350341797, 10.347254753112793, -1.4880456924438477, -12.583305358886719, 4.296795845031738, 1.7112301588058472, -8.40380573272705, 1.6868624687194824, 0.2611244320869446, -19.277841567993164, -4.301355361938477, -5.758193016052246, 22.6690731048584, -15.405908584594727, 35.85105895996094, -2.6655054092407227, 3.537290334701538, 6.292595386505127, 20.89101219177246, -12.24227523803711, -4.859135627746582, -5.986623287200928, -6.523743152618408, -16.32065200805664, -12.72966194152832, -2.292121648788452, -0.5777989625930786, 0.8192524909973145, -5.909207820892334, -1.9261032342910767, 3.946438789367676, 3.5879740715026855, 6.581260681152344, 8.862910270690918, -10.261212348937988, -9.865480422973633, 9.674543380737305, -9.803882598876953, -6.943484783172607, -0.9428268671035767, 0.569019615650177, -24.176027297973633, -5.290740966796875, 1.0213700532913208, 0.6257736086845398, -6.828135013580322, 9.240517616271973, 1.2192782163619995, -14.904847145080566, 15.105937004089355, 3.9679982662200928, -3.9534971714019775, 9.678128242492676, -6.928645133972168, 16.53460693359375, -7.388837814331055, -17.7213077545166, -9.258777618408203, 13.448486328125, 16.1178035736084, -13.592758178710938, -2.137284278869629, -0.38206571340560913, 5.6804327964782715, -10.959181785583496, -13.75229263305664, 3.963006019592285, -10.109302520751953, -6.384492874145508, 25.560251235961914, -22.234323501586914, -6.88792085647583, -9.687019348144531, -0.08572681993246078, -15.231172561645508, 7.350365161895752, -11.959525108337402, -10.326897621154785, 6.989422798156738, 5.6209869384765625, -6.011773586273193, -4.628528118133545, 1.26738703250885, 0.35227394104003906, -3.410719394683838, -2.159273624420166, 2.722041368484497, 7.777249336242676, -2.871574878692627, -1.748044729232788, -11.564369201660156, 10.64870548248291, -3.3846042156219482, -2.585099458694458, -8.622925758361816, -10.548174858093262, 5.863565444946289, 2.2414603233337402, 1.7205027341842651, 26.030534744262695, -3.9101877212524414, 16.342182159423828, -3.156604766845703, -4.263387203216553, 0.8726928234100342, -3.614954948425293, 0.6416283249855042, 17.359785079956055, 7.320246696472168, 6.2784576416015625, 6.104636192321777, 19.005680084228516, -6.366697311401367, 27.00200843811035, 7.709187984466553, -8.0127592086792, -16.434375762939453, 12.095004081726074, -27.444299697875977, -9.26045036315918, -0.30764707922935486, -14.557992935180664, 2.8959197998046875, 8.659446716308594, -11.394227027893066, -3.964198112487793, 10.888870239257812, -3.714725971221924, 1.0954152345657349, -0.06877459585666656, 7.28454065322876, 1.957535982131958, -9.869322776794434, -2.271569013595581, -3.925281286239624, -6.256723880767822, 10.7902250289917, 13.068958282470703, -33.346710205078125, -10.263018608093262, 0.19525180757045746, -0.8048033714294434, -1.6045193672180176, -10.45356273651123, -15.740762710571289, 16.74877166748047, 11.075026512145996, -14.649521827697754, 6.572193145751953, -14.001625061035156, 27.159719467163086, -12.989137649536133, 7.208512783050537, -13.539323806762695, 13.178513526916504, -0.944653332233429, 10.338407516479492, -2.211968183517456, 8.878602981567383, -9.407462120056152, 7.168440341949463, -1.564529299736023, -8.67393970489502, 3.370441198348999, 2.0137741565704346, 17.309598922729492, -3.5205814838409424, 1.015701174736023, 8.042916297912598, -1.0217854976654053, -2.4745476245880127, -13.249175071716309, 3.515634775161743, -3.673135280609131, -0.20237450301647186, -28.092195510864258, -0.0016139326617121696, -13.4309720993042, -8.465279579162598, 2.334383726119995)], [0, 4, 7, (5.501773834228516, 1.2514957189559937, -7.77146577835083, -2.9068565368652344, 2.227982759475708, 6.805092811584473, -6.229317665100098, -9.470617294311523, -9.707411766052246, -5.964040279388428, -3.4171063899993896, 2.6611626148223877, 7.202864646911621, 0.0830700546503067, 0.21335700154304504, 4.617904186248779, -8.353665351867676, -1.381170392036438, -2.573014497756958, -7.058061599731445, -3.864344596862793, -1.3500767946243286, 9.778962135314941, -1.8457485437393188, 10.474632263183594, 0.06993776559829712, 19.422800064086914, 10.287740707397461, -5.514873027801514, -13.783018112182617, 5.633639812469482, -0.8236927390098572, 0.2775164246559143, -13.746452331542969, -2.1364712715148926, 11.267660140991211, 2.9916534423828125, 0.45722681283950806, -0.830616295337677, 6.957671165466309, 1.1155225038528442, -10.149260520935059, 6.632206439971924, 6.780262470245361, 5.680983543395996, 9.300249099731445, 5.257138729095459, 2.715265989303589, -1.882408857345581, -4.132893085479736, 4.467525005340576, 3.206836700439453, 0.4257083237171173, 1.4768413305282593, 3.186258554458618, -2.4833099842071533, 4.145395755767822, -0.949734628200531, 1.39434015750885, -7.114495277404785, 12.248473167419434, 7.643024444580078, 6.154327392578125, -14.754045486450195, -6.449599266052246, 7.479593276977539, -8.301676750183105, -11.992255210876465, -1.505964756011963, 0.97479647397995, 8.835994720458984, 4.684725761413574, -8.190431594848633, -8.917686462402344, -0.6875523924827576, -5.1601362228393555, 12.49687671661377, 3.3008880615234375, -3.3547658920288086, -3.067902088165283, -0.16024233400821686, 7.00443172454834, -1.7294549942016602, 7.878511428833008, 4.545857906341553, 18.823026657104492, -5.515628337860107, 0.8905242085456848, -13.28222942352295, 1.0274070501327515, -11.797536849975586, -2.09558367729187, 0.13511791825294495, 12.580432891845703, 0.5644584894180298, 4.1201066970825195, 9.73412036895752, 6.419217109680176, 14.994453430175781, -5.513576030731201, 6.924983978271484, -2.5641286373138428, -0.20504967868328094, 5.685123443603516, 17.77858543395996, -7.410046577453613, 10.288591384887695, 12.163527488708496, -0.6916411519050598, 8.31370735168457, 10.127766609191895, -11.258368492126465, -14.87348461151123, -7.595767021179199, -12.586822509765625, 0.01728057861328125, 0.7185132503509521, 10.640063285827637, -0.5051298141479492, 4.452955722808838, -18.00668716430664, 14.473474502563477, -9.182136535644531, 1.4838486909866333, 3.1054818630218506, 5.3920416831970215, -8.747343063354492, -4.9131550788879395, -4.59813928604126, 2.0436816215515137, 1.4488908052444458, -0.21173253655433655, 13.828556060791016, -0.8402552008628845, -1.6130499839782715, 4.0393242835998535, -5.811557769775391, -11.46286392211914, -0.7992838621139526, -9.50958251953125, -1.1766618490219116, 7.936790466308594, 6.307517051696777, -8.804028511047363, -7.658259391784668, 3.512796640396118, -3.4615516662597656, -19.415372848510742, 0.7516393065452576, -10.171113967895508, -0.6789970993995667, -3.3398635387420654, -2.042651891708374, -0.5941322445869446, 9.943872451782227, -3.9348583221435547, -5.395256519317627, -5.308940410614014, -13.2776517868042, -9.49964427947998, 2.885822057723999, -12.966856002807617, 10.993985176086426, 11.891717910766602, 5.303409576416016, 3.0505921840667725, 0.7421410083770752, -0.7418460249900818, -11.230945587158203, -5.879237174987793, 15.49743366241455, -4.693103790283203, 3.711367607116699, -2.5714101791381836, 8.303834915161133, 11.999263763427734, -2.638402223587036, 5.019469261169434, 7.634610652923584, -8.152002334594727, -3.4401345252990723, 6.232577800750732, -0.20743416249752045, -1.6009236574172974, -1.0939055681228638, 4.650885581970215, 7.661618709564209, 3.9909942150115967, -78.85601043701172, 4.536201000213623, -4.799310207366943, 5.211143970489502, -5.529061317443848, 3.2141900062561035, 1.6849720478057861, 15.265769958496094, -3.0228443145751953, 2.4276185035705566, 3.2313480377197266, 8.295848846435547, 5.4847092628479, 2.2213141918182373, -7.599688529968262, 0.9291968941688538, -9.597189903259277, -1.88937509059906, 3.382162570953369, -28.01137924194336, -4.254785060882568, -8.955734252929688, 2.3271548748016357, 12.373125076293945, 9.336064338684082, -6.070695877075195, 8.090461730957031, 7.2173171043396, 9.592698097229004, 1.9699082374572754, 4.678483963012695, 3.2996561527252197, 1.591856837272644, 14.575468063354492, -2.8785977363586426, -11.27625560760498, 9.230902671813965, -2.5249457359313965, 1.1592646837234497, 6.443791389465332, -4.885324478149414, 10.609439849853516, -17.96385955810547, 0.5554072856903076, 3.854017734527588, 3.220435857772827, 2.22963809967041, -0.3275045156478882, -2.9048445224761963, -4.379807949066162, -10.969854354858398, -11.203489303588867, -16.29823112487793, 18.72596549987793, 0.5298437476158142, 21.465309143066406, 17.731637954711914, -2.007794141769409, -7.843010902404785, 3.927913188934326, 2.192065477371216, 14.516779899597168, -11.046197891235352, -9.728584289550781, 9.84133529663086, 1.4729784727096558, 56.53720474243164, 11.329642295837402, -6.459713459014893, -11.691819190979004, -17.690479278564453, 3.512071132659912, -0.9312921762466431, 4.41826057434082, -10.053570747375488, 5.965095520019531, 1.7572520971298218, 1.490551233291626, 14.687575340270996, 17.044050216674805, 6.612272262573242, 6.575557708740234, 3.6466379165649414, 1.3510998487472534, -6.669628620147705, 3.4671406745910645, 1.1142866611480713, -7.344471454620361, 3.1632721424102783, 3.0592117309570312, 11.56787109375, 3.7535340785980225, -9.586956024169922, -8.702102661132812, -9.895153999328613, -2.4129629135131836, 24.858341217041016, -5.4378533363342285, 8.239307403564453, -7.5470356941223145, -11.78734302520752, -1.4455541372299194, 0.5267878770828247, 7.658351421356201, -3.125399351119995, -1.7743123769760132, -11.770661354064941, -0.02987348660826683, -1.5119942426681519, -4.0906877517700195, 10.00024700164795, 3.4552388191223145, -5.208768844604492, 7.945755481719971, -1.6127952337265015, -2.2053592205047607, -2.933558702468872, 9.949437141418457, -3.9720897674560547, 0.39619091153144836, -10.953570365905762, -10.351734161376953, -33.80341339111328, -3.7623708248138428, -12.963311195373535, -2.5401992797851562, -3.452340841293335, 0.6325359344482422, 10.901298522949219, -6.195069313049316, 0.2609875798225403, -1.5017986297607422, -6.055037498474121, -2.867875576019287, 5.042940139770508, -2.1087300777435303, -1.9970067739486694, -1.23058021068573, -0.3395611047744751, 0.38645973801612854, -7.849085807800293, 4.733489513397217, -3.794236660003662, 12.057703018188477, -9.558116912841797, -3.568223714828491, -1.4388455152511597, -9.699907302856445, 3.5353095531463623, -11.406515121459961, 6.261575222015381, -9.689611434936523, 2.9354474544525146, -2.927255868911743, 0.2417212575674057, 4.132953643798828, -8.592188835144043, 2.373185157775879, 5.598658084869385, 3.0783183574676514, -10.455672264099121, 10.858986854553223, 2.8682916164398193, 0.13459356129169464, 0.013475286774337292, -8.979262351989746, 2.0760507583618164, 0.5713580846786499, 8.516854286193848, 0.772913932800293, -0.7894834876060486, 9.654229164123535, -8.650527000427246, -0.18418489396572113, -5.369502067565918, 7.053523063659668, -3.988086700439453, -3.0918128490448, -9.586676597595215, 4.837133407592773, -12.040006637573242, -11.140165328979492, -12.926868438720703, 4.123317718505859, -10.71242904663086, -2.9946296215057373, 0.6160330772399902, -4.082132339477539, 0.3103581368923187, -2.4166951179504395, -3.949343681335449, 0.2443595677614212, -14.64865493774414, -1.5458652973175049, 11.359294891357422, -6.329936504364014, -3.28275990486145, 2.9368462562561035, -6.871797561645508, 16.250110626220703, -6.958653450012207, 4.026221752166748, -4.047464370727539, 3.979356527328491, 2.0599944591522217, -5.756343841552734, 10.20335578918457, -4.645342826843262, -9.583788871765137, 11.91052532196045, -5.476999282836914, -1.4894760847091675, 0.8660231828689575, -6.778292655944824, 6.745707988739014, 6.273298740386963, -2.2471518516540527, 10.038534164428711, 0.29673460125923157, 10.244690895080566, 10.753485679626465, -5.012340068817139, -3.2272799015045166, -7.640178680419922, -0.2587447762489319, 3.8432512283325195, 7.978075981140137, -13.643292427062988, 6.961564540863037, 9.890829086303711, -8.135344505310059, -13.627533912658691, -17.486711502075195, -1.7813695669174194, 11.140484809875488, 2.5422375202178955, -4.665582656860352, -1.763854742050171, 4.975419044494629, -1.10819673538208, 11.729764938354492, -15.386090278625488, -0.6948497891426086, -3.1273550987243652, -8.577445030212402, 6.549490451812744, -8.91055965423584, -13.533488273620605, -3.6508848667144775, -7.053349018096924, 2.87624454498291, 13.734838485717773, -1.972229242324829, 2.0065274238586426, 7.948575496673584, 1.383172869682312, -15.19731616973877, 15.003569602966309, 0.29526424407958984, 5.6500091552734375, -8.749725341796875, -2.6000516414642334, -5.603170871734619, -2.773926258087158, 6.370734691619873, 1.0770914554595947, 5.220200061798096, -3.2521567344665527, 4.251624584197998, -3.013587713241577, -7.922183036804199, 0.9765117764472961, -4.1855363845825195, 6.431976318359375, 9.367892265319824, 4.3687052726745605, -9.066771507263184, 4.89592981338501, 0.4840959310531616, -12.167662620544434, 8.89509391784668, 7.727091312408447, 1.4453766345977783, -2.5685343742370605, -12.145264625549316, -7.37938928604126, -4.410302639007568, -17.778873443603516, -15.678284645080566, -6.6174421310424805, 4.397348403930664, 8.118367195129395, -14.947054862976074, -11.586450576782227, -3.3445160388946533, 3.6985230445861816, -15.382856369018555, 4.548241138458252, -6.824635982513428, -3.8379571437835693, 4.528110027313232, 9.45926570892334, 1.4367997646331787, -3.1632773876190186, -0.11040646582841873, 0.5018935203552246, 14.989823341369629, 6.533763408660889, 1.1810916662216187, 3.998729705810547, -0.1427275538444519, 5.0226850509643555, -5.449441432952881, 18.924137115478516, 5.486405372619629, -5.922322750091553, 14.511736869812012, 2.9363484382629395, -2.2460525035858154, 18.017438888549805, 2.7757527828216553, -0.935604989528656, 13.841766357421875, 0.4137600064277649, 12.35380744934082, -7.061333656311035, 9.62788200378418, 3.714138984680176, 0.46464085578918457, 3.6335196495056152, 11.458582878112793, -6.496409893035889, 5.134791851043701, 1.260641098022461, 12.007054328918457, 14.360782623291016, 1.8369799852371216, 2.000170946121216, 0.9704647660255432, 0.06154540553689003, -8.976385116577148, 5.250464916229248, -0.23580589890480042, 4.185196876525879, -9.268715858459473, -6.641107559204102, 3.3927805423736572, 5.781832695007324, -0.4038676917552948, 8.559396743774414, 0.40428972244262695, 7.3353776931762695, 20.418262481689453, -1.4887803792953491, -1.589632272720337, -10.901808738708496, -2.4491889476776123, -3.3670644760131836, 7.111060619354248, -3.004856586456299, 9.51440143585205, -1.1618907451629639, -16.516923904418945, -0.3963150680065155, 9.501985549926758, 8.601058006286621, 9.814330101013184, -1.8772355318069458, 7.646775722503662, 3.2275545597076416, -1.1322880983352661, 2.1543967723846436, 0.8919141888618469, 5.9162750244140625, 7.967328071594238, -2.0242836475372314, -2.188854455947876, 6.553603172302246, -3.821972131729126, -13.593560218811035, 1.6659051179885864, -6.46096134185791, -2.3387703895568848, -0.05583663657307625, -2.7357184886932373, 4.166243076324463, -5.19690465927124, 12.124878883361816, -4.880527496337891, -9.458115577697754, 2.5027472972869873, -6.833529949188232, -1.8807529211044312, -4.878763198852539, -3.141653537750244, -12.880877494812012, -6.497078895568848, -12.676188468933105, -6.815696716308594, -11.488421440124512, -1.4536091089248657, 9.797477722167969, -11.38747787475586, 3.8559987545013428, 5.076566696166992, -2.7589967250823975, 2.483558416366577, 3.1920313835144043, 4.989012718200684, 2.285341739654541, 4.771311283111572, 4.754470348358154, 13.24329662322998, -7.031156063079834, -15.416433334350586, 0.97747802734375, 7.71497106552124, -4.033383846282959, 6.643872261047363, -12.256600379943848, 1.072860598564148, -22.927871704101562, -2.9185361862182617, -4.200558185577393, 5.342554569244385, -4.962977409362793, -22.0343074798584, 8.710501670837402, -1.8819912672042847, 2.423598289489746, 9.046533584594727, 12.168760299682617, -6.573470115661621, 14.207059860229492, -4.181169033050537, -4.090513706207275, 9.611099243164062, -7.619765281677246, 6.118935585021973, -0.09223374724388123, 1.3869359493255615, 2.6698858737945557, 4.814558506011963, -0.4876174330711365, 8.055932998657227, -7.76806640625, -0.08582079410552979, -1.5705264806747437, 6.153598785400391, 3.2952332496643066, -5.630857944488525, 6.079666614532471, 1.5195809602737427, 11.490029335021973, 2.234116315841675, -3.8899471759796143, 2.5909242630004883, -8.269120216369629, -1.547389030456543, 8.390454292297363, -3.891828775405884, 12.727272987365723, 18.112899780273438, -11.438690185546875, -3.5574159622192383, -4.413074970245361, -4.8214826583862305, -11.452431678771973, -3.341364622116089, 0.37698283791542053, -2.932284116744995, -2.835192918777466, 4.3037872314453125, 1.163307785987854, -4.2624664306640625, -11.618551254272461, -0.30014216899871826, -21.777423858642578, -7.1694135665893555, -10.776776313781738, -10.316372871398926, 3.540146827697754, 3.009509801864624, 13.959712028503418, 1.2762428522109985, -10.510493278503418, 17.035734176635742, 3.5977773666381836, 4.943559646606445, 1.26254403591156, 1.4616682529449463, 4.767889499664307, -3.8009109497070312, 6.555263519287109, -24.38276481628418, 8.76641845703125, 0.5176407098770142, 15.351551055908203, 15.999218940734863, 6.989407539367676, 9.914709091186523, 13.723588943481445, 6.39699125289917, -9.345819473266602, -4.35092306137085, 8.962185859680176, -6.833923816680908, -3.2918708324432373, -1.1555122137069702, -4.110274791717529, 0.12759341299533844, 1.8270225524902344, -2.8473525047302246, -10.376398086547852, -12.925098419189453, -5.440277576446533, -4.330277919769287, 9.484643936157227, 2.8926639556884766, -3.6244144439697266, -16.646530151367188, -0.9851372241973877, 0.24771639704704285, 7.992547035217285, 12.577325820922852, 20.487987518310547, 7.8655104637146, -22.996952056884766, 12.843626976013184, -0.5248304605484009, 5.018700122833252, -4.496766090393066, 0.9878882169723511, 23.199932098388672, 1.1963363885879517, 8.763269424438477, -4.563244342803955, -1.6930285692214966, -3.6162362098693848, 4.78933572769165, 0.50700443983078, 5.981400489807129, 3.6678719520568848, 1.5552575588226318, 3.333811044692993, -10.468253135681152, 3.0159504413604736, -1.4885927438735962, -10.149301528930664, -5.160645484924316, 4.490090370178223, -1.2576279640197754, -16.191402435302734, 9.233757019042969, -11.032184600830078, 5.029865264892578, 37.092018127441406, 2.46425199508667, -7.720513820648193, -7.4795308113098145, -3.3509528636932373, 3.664407968521118, -12.74095344543457, -2.702110767364502, -8.700921058654785, 1.1253329515457153, -4.339214324951172, 4.897719383239746, -5.914599895477295, 12.912769317626953, 14.751748085021973, -13.643026351928711, -17.7818660736084, -16.244476318359375, 1.911787748336792, 0.8898149132728577, 7.3069586753845215, -12.363945960998535, -3.4800822734832764, 12.696137428283691, -1.7812161445617676, -2.27091646194458, -0.580207109451294, -0.7870759963989258, 1.6955420970916748, -2.200268268585205, 15.444564819335938, 1.1802706718444824, -18.25918197631836, -1.1593658924102783, -11.407694816589355, -0.33692070841789246, -1.5995694398880005, -12.937219619750977, -3.3059725761413574, -11.7273530960083, 5.38366174697876, 1.597244143486023, -1.5647534132003784, -6.001206874847412, 5.81930685043335, 10.48440170288086, -1.9845831394195557, 7.397655487060547, 2.5523133277893066, 10.227675437927246, 4.662814617156982, 2.0631136894226074, -4.671620845794678, 11.887979507446289, -6.319085597991943, -0.7241513729095459, 4.639819145202637, 1.128067135810852, -16.697843551635742, 7.890514850616455, 3.7710087299346924, 4.578592300415039, -13.266936302185059, 10.359975814819336, -7.665948867797852, 5.633801460266113, -1.9214249849319458, 0.042468078434467316, -5.043868064880371, 11.151734352111816, -15.5927734375, 12.058209419250488, 18.12309455871582, 11.199390411376953, -5.301029205322266, 8.516985893249512, 5.074990749359131, 10.250921249389648, 20.786691665649414, 5.631131649017334, 3.1781599521636963, 13.756852149963379, -14.834391593933105, -2.382004499435425, 8.353067398071289, -3.6700308322906494, 0.6595680117607117, 3.401942729949951, -6.891387939453125, -20.153791427612305, -2.563045024871826, 13.937409400939941, -5.9969868659973145, 5.375041484832764, -5.249914646148682, 1.9569984674453735, 3.0924618244171143, -9.18914794921875, 13.643139839172363, -3.9107565879821777, -0.8061301708221436, 4.84967565536499, -0.8587589263916016, -8.350993156433105, 6.299468517303467, -7.926114559173584, 3.056807041168213, 0.807715654373169, -3.921055316925049, 12.360273361206055, -5.120026588439941, 20.4769229888916, -4.95518159866333, -3.96610951423645, 16.543664932250977, -1.737070918083191, 3.826646327972412, -4.486868381500244, 7.480950355529785, 8.515978813171387, -7.802289009094238, -3.1403400897979736, -2.9894561767578125, 10.308552742004395, -6.083964824676514, 1.9511040449142456, 15.776987075805664, 1.6818580627441406, 6.823581218719482, -3.6674563884735107, -10.8632230758667, -3.9680774211883545, -2.996943235397339, -6.193016529083252, -5.929716110229492, -4.595160961151123, 0.7848638296127319, -6.361807823181152, -6.689496994018555, -5.318119525909424, 3.489427089691162, 0.13882583379745483, -4.014272212982178, -2.4795186519622803, -12.403754234313965, 18.822877883911133, -2.308565616607666, -6.683701515197754, -1.0100865364074707, 3.695237636566162, 3.5326762199401855, -20.228193283081055, -3.1809558868408203, -7.588757514953613, -2.378781795501709, -1.2468006610870361, 10.146530151367188, -15.778968811035156, 19.283193588256836, -1.1034460067749023, -11.482258796691895, 12.236370086669922, 4.069108009338379, -0.06130644679069519, 0.1718635857105255, 2.878833293914795, -2.8529036045074463, -8.865269660949707, -8.419363021850586, 15.645345687866211, 1.8592666387557983, -6.266560077667236, -9.121901512145996, -13.305252075195312, -4.813836097717285, 5.525265216827393, 11.662191390991211, 1.304578185081482, 18.816600799560547, 18.68756103515625, 0.9248253107070923, -8.150195121765137, -9.597567558288574, -7.411778450012207, 13.55594253540039, -12.924839973449707, 5.218359470367432, -3.140291452407837, 1.0973930358886719, -9.489384651184082, 13.67310619354248, 14.07593059539795, 2.070025682449341, 4.700726509094238, 9.997974395751953, -16.810819625854492, -6.666784286499023, -4.882216453552246, 12.55864143371582, -2.495547294616699, -7.540078639984131, -10.843636512756348, -11.239005088806152, 9.458423614501953, 6.848052978515625, 12.422414779663086, 1.188660979270935, -4.941799163818359, -3.667973041534424, -0.014576510526239872, 5.551690101623535, -2.8998963832855225, -3.377290725708008, 8.024456024169922, -3.771949052810669, -1.9247958660125732, -3.5746378898620605, 0.300009548664093, 2.1596288681030273, 14.31793212890625, 1.2666871547698975, -7.06688928604126, -10.04785442352295, -10.145960807800293, 5.330399513244629, 13.299799919128418, -1.5769199132919312, -2.508202314376831, 6.562075138092041, -5.140570163726807, 27.04252052307129, -0.2714856266975403, -0.6784603595733643, -2.7733638286590576, 4.287520885467529, -7.6665730476379395, 8.540493965148926, -0.9404280781745911, 3.34940767288208, -6.061566352844238, 10.129020690917969, -3.67067289352417, 13.505643844604492, -5.362398624420166, -5.078470230102539, -1.9574016332626343, 1.6724666357040405, -0.7003516554832458, 8.951024055480957, 3.7295806407928467, -5.276607513427734, -4.482675552368164, -4.722911834716797, 7.260560512542725, -7.863205432891846, -11.050853729248047, 0.321466863155365, -2.861135244369507, 5.821326732635498, -13.015027046203613, -0.1416686773300171, -2.426408052444458, -4.768681049346924, 12.920797348022461, 8.521881103515625, 1.4855999946594238, -14.002326965332031, 5.9997239112854, 12.315428733825684, -9.233990669250488, -0.7823367714881897, -14.053489685058594, -0.9111623764038086, 7.094454765319824, 0.36039164662361145, -7.736306190490723, 1.868514060974121, 0.5001610517501831, 14.387246131896973, 1.9549341201782227)], [0, 5, 2, (6.101478099822998, -0.2825906574726105, 15.505494117736816, 1.9850139617919922, 2.8256466388702393, -8.857868194580078, 2.9923620223999023, -5.449552059173584, 2.5535054206848145, 13.138331413269043, 7.095674514770508, 3.460200309753418, 0.12059596925973892, -4.888383865356445, 17.339599609375, 7.857499122619629, 3.986720085144043, 14.385115623474121, 11.813982009887695, -6.0625481605529785, 12.662788391113281, -7.295228481292725, -49.99758529663086, 6.319531440734863, -2.763597249984741, -11.03715991973877, 24.749561309814453, -0.7053619623184204, -10.865118980407715, 9.673248291015625, -9.647489547729492, -2.696057081222534, -3.681079864501953, -7.926958084106445, 26.87821388244629, 16.288795471191406, 8.046954154968262, 11.452249526977539, 8.117433547973633, 7.6606268882751465, 18.6488037109375, -1.0605701208114624, 15.367999076843262, -0.8423721790313721, 6.508686542510986, -2.374130964279175, 7.752638339996338, 4.310568809509277, -4.189815998077393, 2.881782293319702, 5.324529647827148, -8.76506233215332, 3.5267090797424316, -4.793090343475342, -7.86971378326416, -0.4861913323402405, 0.1915399730205536, -20.35529136657715, -1.8886462450027466, 6.113431930541992, -14.619534492492676, 3.9474563598632812, -3.9332571029663086, 9.022074699401855, -10.546120643615723, 19.0216121673584, -14.154687881469727, -15.042441368103027, -11.097616195678711, -2.4692487716674805, -4.313124656677246, 8.709714889526367, -8.91961669921875, 4.495872974395752, 7.223178386688232, -2.558833360671997, 13.818951606750488, -1.7083280086517334, 4.016930103302002, -0.9427210092544556, -2.319856643676758, 14.635221481323242, 14.825413703918457, 14.980315208435059, -16.958663940429688, 20.31363296508789, 10.668956756591797, 8.354901313781738, 3.677152633666992, 13.661765098571777, -12.059394836425781, -20.018390655517578, -0.6113389730453491, -17.857677459716797, 6.770341396331787, -8.164266586303711, 9.915287971496582, -10.538591384887695, -2.838303565979004, -24.462533950805664, -7.823604106903076, -20.839563369750977, 5.945797443389893, -7.741116523742676, -11.077889442443848, 0.42715689539909363, 7.314269542694092, 12.993339538574219, -14.811318397521973, -11.713798522949219, -44.35685729980469, -4.676978588104248, 11.414807319641113, 1.6539078950881958, -4.18757438659668, 1.1550315618515015, -3.399653196334839, 14.452631950378418, -8.791990280151367, -9.365330696105957, -1.5010581016540527, 12.0697603225708, -17.1927433013916, 4.4706315994262695, 1.8919532299041748, -1.6514934301376343, -7.2100653648376465, 12.189932823181152, 19.6033935546875, 7.368494987487793, -20.498767852783203, -4.016455173492432, 1.4569281339645386, -5.8532609939575195, -6.305460453033447, -7.531566619873047, 7.906764507293701, -16.620716094970703, -7.154303550720215, 2.0416040420532227, -14.29155445098877, 18.805984497070312, -0.5973494648933411, 11.391764640808105, 19.17136573791504, 0.6088895797729492, -2.4153871536254883, -1.403394341468811, -20.33867835998535, -6.151247024536133, 1.733860731124878, -13.14496898651123, -0.27699217200279236, 3.2558670043945312, 2.7419540882110596, -4.394831657409668, -13.801133155822754, -22.042823791503906, -5.919846534729004, -9.11666202545166, 13.258294105529785, 9.482419967651367, -2.4646570682525635, 4.892639636993408, 3.237541437149048, 1.7939749956130981, -27.72487449645996, 0.2405313104391098, 2.7842540740966797, -0.49196335673332214, 23.292163848876953, -7.635598182678223, 22.988203048706055, -11.301447868347168, 10.662982940673828, 8.457775115966797, -5.447923183441162, 15.365333557128906, -0.2349238097667694, -4.102563381195068, 3.016993761062622, 17.89142608642578, 0.432502418756485, 8.138504981994629, -14.00110912322998, -17.266263961791992, 10.839149475097656, 8.818418502807617, -136.3112335205078, 5.244498252868652, -5.481203556060791, -5.089070796966553, -12.054596900939941, -8.118560791015625, -0.5896058678627014, -1.6990916728973389, -28.613229751586914, -3.421743869781494, 11.807985305786133, -5.925724983215332, 7.972299098968506, -3.6673214435577393, 7.244325160980225, 14.846059799194336, 8.05980110168457, 2.5030834674835205, -14.443887710571289, -25.81081199645996, 8.753591537475586, -1.7565332651138306, 0.08853325992822647, -3.106419563293457, -3.380805015563965, 14.66308879852295, 10.82961368560791, -15.199898719787598, 10.316619873046875, 7.570796489715576, -1.8722410202026367, 14.671452522277832, 16.747255325317383, -2.3601322174072266, -1.1983487606048584, -9.721707344055176, -0.35277992486953735, -5.641836166381836, 12.736132621765137, 9.907015800476074, -12.74908447265625, 2.1283981800079346, 2.3200039863586426, 3.2249839305877686, -8.919840812683105, -10.993303298950195, 2.581007957458496, -4.212005138397217, 2.195284605026245, -6.761844158172607, 7.739636421203613, 25.229434967041016, 8.297460556030273, 15.371731758117676, -11.264189720153809, -3.945219039916992, 10.566495895385742, -2.961904287338257, -4.465183734893799, -5.87674617767334, 4.362028121948242, -15.822137832641602, -11.732020378112793, 11.55188274383545, -10.637543678283691, 3.389292001724243, 12.896554946899414, -15.74636459350586, 4.095611572265625, 2.019547939300537, 8.201169967651367, 4.112661838531494, 0.7224668264389038, -9.875771522521973, 21.923498153686523, 0.11927822977304459, 18.186838150024414, 6.692690372467041, 1.4366010427474976, 17.16668701171875, -1.42813241481781, -7.544491767883301, -5.236439228057861, 1.1856433153152466, -8.083703994750977, 14.141963958740234, -7.56928014755249, 1.7102575302124023, -19.077638626098633, -0.10905532538890839, 1.7886182069778442, 11.738762855529785, 7.6696648597717285, 2.4177956581115723, 22.992900848388672, 8.095566749572754, -3.3853654861450195, -13.49939250946045, 17.6387996673584, 2.103562831878662, -5.231234073638916, 0.5648388862609863, -0.16299690306186676, -2.592949628829956, -8.366899490356445, -1.392829418182373, 10.208474159240723, -12.447404861450195, -3.7194995880126953, -7.835500717163086, -10.0031099319458, 17.917808532714844, 3.1647722721099854, -0.11665529757738113, -6.394256591796875, -22.48830223083496, 3.937145471572876, -3.084044933319092, -0.9444064497947693, -18.741321563720703, 3.7417118549346924, -1.4545964002609253, -82.97061157226562, 5.855165004730225, 1.0636541843414307, 1.7772929668426514, -12.651994705200195, 28.741910934448242, -7.847907066345215, 5.0935258865356445, 10.662435531616211, -11.601998329162598, -10.265148162841797, -2.7074379920959473, 7.329014778137207, 8.212239265441895, 2.35333514213562, 17.223867416381836, 6.678902626037598, -3.3680617809295654, -10.35692024230957, 6.420105457305908, 8.773377418518066, 9.727048873901367, -13.965290069580078, -30.164264678955078, -1.5484269857406616, -2.719144105911255, 2.898531675338745, -5.9341020584106445, 0.5203641057014465, 13.42097282409668, -6.530036926269531, 7.206025123596191, -9.866207122802734, -13.560256958007812, 10.041918754577637, -0.5053263306617737, 0.3374122977256775, 0.8229302763938904, 4.7862019538879395, 11.079977035522461, 9.810201644897461, -19.159271240234375, -1.202966332435608, 13.733184814453125, -17.21044158935547, 3.4940555095672607, -5.9772443771362305, -8.868989944458008, 17.39837646484375, 18.58253288269043, 2.8099794387817383, -14.742959022521973, 4.240018367767334, 9.767327308654785, -11.813764572143555, -1.5654137134552002, -9.802175521850586, 5.044723987579346, -9.667583465576172, 3.2877087593078613, -5.615854740142822, 6.420395851135254, -2.9554283618927, -4.566170692443848, -0.447227418422699, -18.931373596191406, 9.331172943115234, -8.868232727050781, 7.8797101974487305, -6.650822639465332, -7.601032733917236, 21.218273162841797, -2.589289903640747, 20.29591941833496, 4.957942962646484, -0.1030866950750351, -10.119396209716797, 1.4159109592437744, -11.81831169128418, -16.50828742980957, 22.344013214111328, -13.988809585571289, 2.023517370223999, -1.680033802986145, 2.973947286605835, -20.156843185424805, 1.6590633392333984, -1.8005200624465942, -3.9130687713623047, 12.099666595458984, 5.489334583282471, -10.39377212524414, -4.140554904937744, 1.3639273643493652, 7.718046188354492, -8.91186237335205, 15.220005989074707, 10.325909614562988, 4.372831344604492, -0.6295891404151917, 14.480464935302734, -4.084714889526367, 0.1382988542318344, -4.127842903137207, -7.211508274078369, -13.10061264038086, 3.8653767108917236, 2.835294246673584, -2.004570484161377, -12.045607566833496, -3.7113828659057617, -5.754387855529785, 7.08595609664917, -9.680924415588379, -4.590163230895996, -1.7481211423873901, 8.928685188293457, 7.059998989105225, -2.074359655380249, -13.91573429107666, -0.2930140197277069, -10.985087394714355, -10.348129272460938, 19.292585372924805, -8.419638633728027, -3.0926928520202637, 13.076517105102539, -6.337037086486816, 4.300937652587891, -12.903076171875, 8.309782028198242, -0.8808411359786987, 3.698437452316284, 2.197045087814331, -3.8192474842071533, 22.116436004638672, -2.5319061279296875, 15.568706512451172, -6.44588565826416, 8.879950523376465, 7.738227367401123, -11.544235229492188, 4.080710411071777, 23.853759765625, -11.004286766052246, 1.026541829109192, -10.41236400604248, 0.731450080871582, -10.156270027160645, 2.3697421550750732, -6.553782939910889, 8.964129447937012, -5.14032506942749, -17.62397003173828, 3.7397427558898926, 20.58143424987793, 7.439407825469971, 2.9186899662017822, 13.990283966064453, -3.2201850414276123, -0.9103021025657654, 5.092464447021484, 4.866750717163086, 1.541038155555725, -11.729910850524902, 4.422262191772461, -0.2722606956958771, 7.762914180755615, -0.6079597473144531, 5.4666619300842285, -0.9239041805267334, -16.498762130737305, 1.494065761566162, -3.9480152130126953, 4.949555397033691, -9.820810317993164, -5.045697212219238, 10.071553230285645, 5.953540802001953, -5.153128623962402, 16.69713020324707, -10.733989715576172, -12.142012596130371, -10.82736587524414, 7.014715194702148, -0.616158664226532, -12.255438804626465, 9.108983039855957, -10.552021980285645, -3.6049771308898926, -8.019115447998047, 10.30084228515625, -7.997806072235107, 3.291224718093872, 6.329617500305176, 6.2380051612854, -10.084036827087402, 11.243562698364258, -3.3292362689971924, -5.404140472412109, 24.69823455810547, -20.038009643554688, -11.514551162719727, 15.670867919921875, -3.967879056930542, 10.679835319519043, 28.204343795776367, -7.4108195304870605, -7.158700466156006, 20.926115036010742, 6.317317485809326, -7.54564094543457, 18.874418258666992, 9.710277557373047, 9.591310501098633, 2.6874046325683594, -2.83665132522583, 11.259814262390137, 6.735062599182129, 8.712176322937012, 5.100474834442139, 4.916479110717773, 11.281771659851074, -4.564610481262207, -18.13193702697754, -9.230414390563965, -2.56768536567688, 11.625502586364746, 5.616998195648193, -23.95754051208496, 2.6264877319335938, 9.654864311218262, -21.638521194458008, 2.91369891166687, 12.129620552062988, 4.567353248596191, 7.069424152374268, 7.014481067657471, -14.483475685119629, -13.720133781433105, 1.4546281099319458, -7.790572166442871, 9.672609329223633, 9.234018325805664, 3.8514630794525146, -9.275775909423828, 5.3209638595581055, -8.166810989379883, 1.805542230606079, -9.143889427185059, -5.5068206787109375, -10.828845977783203, 0.35755082964897156, -2.4190194606781006, 19.43561363220215, -7.454357624053955, 5.025713920593262, -10.452999114990234, 9.361202239990234, -3.1352920532226562, -9.51708698272705, 21.66942024230957, 5.471297740936279, 6.151895999908447, -14.335803985595703, -3.4532833099365234, 11.018818855285645, -4.285813331604004, 2.5041468143463135, -2.0176963806152344, 13.372960090637207, 9.679720878601074, 6.012803077697754, 6.807326793670654, -19.689823150634766, 9.700831413269043, 1.925478219985962, -11.354483604431152, -2.6019809246063232, 19.640287399291992, -12.589797019958496, -6.289332866668701, -5.878274440765381, 5.7927751541137695, -6.723362922668457, 12.28083610534668, -3.9407100677490234, -4.419559955596924, 7.171295642852783, -2.1038224697113037, -9.312809944152832, 24.535139083862305, 8.072043418884277, -5.372217655181885, -5.6107707023620605, 14.263811111450195, -3.305938720703125, -4.826981067657471, -15.920537948608398, -6.617373466491699, -3.798494815826416, 3.832531213760376, -11.69420337677002, 6.5103068351745605, 1.5929923057556152, -0.044242531061172485, 2.840521812438965, 11.957229614257812, 0.9064938426017761, -10.98187255859375, -12.564407348632812, 12.886207580566406, -5.26033353805542, -27.09071159362793, -4.579317092895508, 10.829110145568848, 24.42955780029297, 8.093684196472168, 6.514840126037598, 29.264366149902344, 1.11636483669281, 16.506662368774414, 9.860179901123047, 20.548791885375977, 0.9948014616966248, 13.448714256286621, 3.6158151626586914, -5.661909103393555, 0.475833922624588, -5.067965984344482, 9.128273963928223, -5.63562536239624, -0.7936551570892334, 3.345243453979492, -4.71741247177124, 4.274843692779541, 11.902783393859863, -11.686806678771973, 9.291498184204102, 13.651823997497559, 3.2220072746276855, -1.983206868171692, 0.2693343162536621, -5.316311359405518, -2.405622959136963, -5.086951732635498, -0.32605913281440735, -0.21019373834133148, 5.291088581085205, -8.713981628417969, 14.127944946289062, 0.636142909526825, 1.484709620475769, -10.74199104309082, 10.370640754699707, -16.287248611450195, 3.541111469268799, 11.475240707397461, 21.812881469726562, 13.407669067382812, 10.00001049041748, 12.529833793640137, 0.6298540830612183, -5.355764389038086, -50.821800231933594, 18.214311599731445, 2.894143581390381, -0.5580306649208069, 9.455695152282715, 8.7118501663208, -11.391402244567871, -6.721126556396484, -5.589999675750732, -9.269975662231445, -6.2952423095703125, -7.49439001083374, -8.941217422485352, -12.915331840515137, -15.151175498962402, 4.982812404632568, 9.720698356628418, -6.210245609283447, -21.294965744018555, -15.389540672302246, -8.759771347045898, 22.643735885620117, 10.791841506958008, 11.849440574645996, 10.063055992126465, -18.070436477661133, -20.278093338012695, -3.92590594291687, 3.614443778991699, -5.397826671600342, 15.600727081298828, -0.5212739706039429, 4.82490348815918, -13.3742036819458, 37.19545364379883, -4.686722755432129, -6.198250770568848, 1.7800722122192383, 22.215476989746094, 11.428963661193848, -6.005998134613037, -14.922632217407227, -18.67230224609375, -4.1357316970825195, -1.5945714712142944, -4.99153995513916, -15.786792755126953, -41.497520446777344, -2.5690484046936035, 8.712035179138184, -0.020530056208372116, 5.04517126083374, -3.5456223487854004, 6.79849100112915, 3.3223319053649902, -0.9845112562179565, -12.514345169067383, 12.742268562316895, 2.4386911392211914, 2.6653072834014893, 1.27540922164917, 4.7475385665893555, -9.596747398376465, -16.19225311279297, 0.3170674741268158, 5.075552463531494, -0.9962484240531921, -7.610616683959961, -11.170585632324219, 17.223787307739258, 82.08424377441406, -12.746866226196289, 2.9320151805877686, -2.011488914489746, -11.49001407623291, -1.1903373003005981, -10.964731216430664, 8.632790565490723, -4.896342754364014, 7.941237926483154, 2.587064027786255, -2.2954204082489014, 12.754107475280762, -10.179945945739746, -7.545687198638916, 10.049114227294922, -20.6072940826416, -11.845362663269043, -8.966178894042969, -17.125831604003906, -1.4952391386032104, 10.596602439880371, 1.912773847579956, 3.3373312950134277, -9.644371032714844, -7.651284694671631, -1.4600133895874023, 22.396800994873047, -11.428897857666016, 14.702933311462402, 10.46238899230957, -12.205059051513672, 7.6230268478393555, -4.5888519287109375, 15.340571403503418, -7.418780326843262, 10.494994163513184, 12.3197603225708, -8.255412101745605, -2.8374745845794678, 1.0671290159225464, -8.280733108520508, -11.374510765075684, -15.449304580688477, 10.264841079711914, 2.353315830230713, 4.881039619445801, -4.5399651527404785, 7.870303153991699, 19.377748489379883, 9.97607135772705, -0.9450344443321228, -1.6801234483718872, 7.116688251495361, 2.9128012657165527, -6.5124735832214355, 1.9533064365386963, 14.05950927734375, -0.15473532676696777, -3.7782113552093506, -20.129587173461914, -7.6888108253479, 10.99764633178711, -3.3921682834625244, -0.7768439054489136, 12.681057929992676, 2.332979679107666, 6.65770149230957, -7.434513092041016, 21.41774559020996, -19.03496742248535, -11.631817817687988, 12.541451454162598, 10.565555572509766, 2.063058614730835, -8.170124053955078, 2.17406964302063, 6.163369655609131, 1.5289355516433716, -3.925750970840454, 9.961918830871582, 3.3409786224365234, 3.0254461765289307, 2.1785480976104736, -4.100000381469727, -3.0056207180023193, -6.902911186218262, -11.353239059448242, -2.88995361328125, -17.12218475341797, 6.368655681610107, -15.572993278503418, 6.224118709564209, 8.217086791992188, 0.8359227776527405, -16.059280395507812, 4.432981014251709, 0.2040226310491562, -2.418774366378784, -9.886476516723633, -18.095064163208008, 11.358510971069336, 7.845676898956299, -17.14824867248535, -1.4581230878829956, -11.808734893798828, 6.460818290710449, 3.744187831878662, 3.374875068664551, 1.697884440422058, -0.5537284016609192, 13.099892616271973, -15.12791919708252, -16.604854583740234, 0.35590219497680664, -6.692699432373047, 12.722610473632812, 0.938315212726593, 10.506789207458496, 7.948076248168945, -3.7093615531921387, 8.965142250061035, -8.464361190795898, -10.814099311828613, -16.719268798828125, -3.949930191040039, 17.833593368530273, 3.4526240825653076, 18.167457580566406, 7.40065336227417, -4.224661827087402, -6.8231635093688965, 8.506031036376953, -3.479396104812622, -11.845232963562012, 20.81133460998535, 8.102450370788574, 3.8748013973236084, -7.912474632263184, 3.160592794418335, -17.975629806518555, 1.9609404802322388, -0.2893648147583008, 2.310620069503784, -1.6731430292129517, 5.528500556945801, -2.572540521621704, -8.360676765441895, -16.20812225341797, 16.64694595336914, -0.7064028382301331, -16.335786819458008, 1.2976720333099365, -19.029857635498047, 4.5167341232299805, 2.5214858055114746, -33.59013366699219, 3.0130839347839355, 23.368738174438477, 4.511483669281006, 2.2503154277801514, -3.1028947830200195, -16.493955612182617, -6.560325622558594, 2.174668788909912, 9.340041160583496, -6.411301136016846, 8.777669906616211, -24.507375717163086, -4.528609752655029, 20.493534088134766, -12.957367897033691, -24.9318904876709, -29.752159118652344, -10.16986083984375, -4.992566108703613, -15.838101387023926, -20.3703670501709, 13.933235168457031, 15.516298294067383, 15.915451049804688, 5.914842128753662, -4.962182998657227, -2.018197774887085, -4.313575267791748, -4.147037506103516, -4.151363849639893, -1.6507562398910522, -24.028976440429688, -15.97557544708252, 9.533285140991211, -19.678089141845703, 11.845758438110352, 5.97687292098999, -12.388653755187988, -10.877826690673828, -3.706930160522461, -1.620727300643921, -3.954862594604492, 10.40047836303711, -14.492424964904785, 8.216863632202148, -10.490303993225098, -5.766175746917725, -0.18055292963981628, 2.4322502613067627, 5.148294925689697, -5.804581165313721, -10.3300199508667, -15.79664134979248, -0.8066903948783875, -9.459226608276367, 8.284637451171875, -6.425443172454834, 5.652886867523193, -3.9742112159729004, 4.792941570281982, -4.060283660888672, -4.033962249755859, 4.683373928070068, -9.169034004211426, -4.145570755004883, 10.40319538116455, -16.508697509765625, 4.203711032867432, 10.592000961303711, -9.304997444152832, -2.051851272583008, 5.155052185058594, -6.123465061187744, 18.649181365966797, 13.039274215698242, 12.539358139038086, -6.334451198577881, 7.822080612182617, -27.626794815063477, 1.0629936456680298, 7.5998215675354, -11.053855895996094, -7.348928928375244, -1.248062014579773, -6.875913619995117, -3.8229820728302, 8.65776538848877, -7.015876770019531, 9.398979187011719, 1.13113534450531, -5.574597358703613, -13.850892066955566, 4.977912902832031, 4.319364547729492, -1.2229008674621582, 21.7476749420166, 0.5511828064918518, 1.2114614248275757, -1.326096534729004, -6.4907965660095215, 23.930782318115234, -2.34743595123291, -5.397753715515137, 15.39992904663086, 2.5104405879974365, 4.160348892211914, -0.6059064269065857, -9.013147354125977, 24.821901321411133, 17.800010681152344, 1.5402145385742188, 12.094541549682617, 5.772932052612305, -3.6997365951538086, -5.865019798278809, -6.739755153656006, 15.185395240783691, -17.525114059448242, -5.30864143371582, -3.981996774673462, 21.109668731689453, 8.840744972229004, 14.653162002563477)], [0, 6, 1, (-8.93478012084961, 3.424229383468628, -0.9992608428001404, -10.625802040100098, 9.163227081298828, 19.305891036987305, -6.413026332855225, 8.986811637878418, 2.2015042304992676, -11.414548873901367, 3.234308958053589, 8.675889015197754, 21.024805068969727, 24.355161666870117, -14.676505088806152, -11.646240234375, 1.451324701309204, 13.407729148864746, 2.7786288261413574, 0.1405729204416275, 6.988907814025879, 2.2546088695526123, -17.72074317932129, 9.557039260864258, 7.1732659339904785, -4.902520656585693, 8.815500259399414, 0.6280900835990906, -9.208355903625488, 6.345989227294922, -7.369368076324463, 9.98795223236084, 5.529831409454346, -0.29483211040496826, 6.8603692054748535, -2.163461923599243, -0.08228559792041779, 16.408597946166992, -13.149200439453125, 12.25706958770752, 3.739950656890869, -0.024162571877241135, -3.765904426574707, 0.1965678334236145, 9.741106033325195, -4.7694902420043945, 9.475866317749023, 1.950721025466919, 2.177130699157715, -6.991037845611572, 4.230119228363037, 9.87464714050293, 8.351114273071289, 10.031604766845703, 2.492918014526367, -14.604899406433105, 1.693960189819336, -11.354397773742676, 2.889625310897827, -10.51206111907959, -5.762467384338379, -3.9460976123809814, 0.29676517844200134, -9.53839111328125, 9.140313148498535, 23.818553924560547, -4.600311279296875, 1.6043505668640137, 2.093118190765381, 1.4996838569641113, 4.272890090942383, 18.426027297973633, -4.629190444946289, 23.139799118041992, -10.67946720123291, 1.7513099908828735, 2.9956817626953125, 9.792936325073242, -0.25040581822395325, 2.4100565910339355, 4.814673900604248, 6.483101844787598, -7.395835876464844, -15.077474594116211, 2.368016004562378, 2.833944320678711, 11.577461242675781, 0.9174590110778809, 4.298133373260498, -2.6140291690826416, -20.052249908447266, 2.2983155250549316, -16.045251846313477, 15.580111503601074, 6.421984672546387, -3.902940511703491, -6.541923522949219, 14.044617652893066, 0.40730324387550354, 5.083156585693359, -11.35886001586914, 0.20169882476329803, 3.658447265625, -12.504931449890137, -4.918494701385498, -5.5559234619140625, 19.54047966003418, -11.352254867553711, -1.2518198490142822, 10.921998023986816, -14.58814525604248, -17.093067169189453, -8.305669784545898, 10.143081665039062, -4.763882160186768, -1.0205504894256592, 13.967606544494629, 12.557971954345703, 3.5841140747070312, -2.6769332885742188, -16.850696563720703, 11.398503303527832, -13.84915828704834, -26.624820709228516, -1.0503329038619995, -13.499032020568848, -11.38236141204834, -12.775259971618652, -4.363619327545166, 8.451225280761719, -4.1783127784729, 16.256792068481445, 20.089014053344727, 5.287517070770264, -2.841007947921753, 5.493330001831055, -11.710522651672363, -0.2658747732639313, 14.73205852508545, 3.470001697540283, 4.723913192749023, 2.732703924179077, -4.510849952697754, -3.726783037185669, 12.446797370910645, -7.03900671005249, -22.31325912475586, -20.7955379486084, 8.990326881408691, -7.422322750091553, -1.8737043142318726, -13.360264778137207, 12.230549812316895, -14.090551376342773, 5.74586820602417, 5.02702522277832, -0.8672096729278564, -2.294638156890869, -2.2088117599487305, 0.1562456637620926, 1.0020451545715332, -4.910338401794434, 8.922224998474121, -2.126469373703003, -17.269624710083008, 11.207453727722168, 0.005828173365443945, -6.840298175811768, -12.962727546691895, -4.45258903503418, 6.569197177886963, -9.691712379455566, 13.209243774414062, -0.4494950771331787, 2.182805299758911, -1.1478756666183472, 8.600632667541504, -3.489426374435425, 3.1606297492980957, 8.777405738830566, -0.19863662123680115, 2.5418291091918945, -1.0819445848464966, -7.016360282897949, 10.306156158447266, -1.633459210395813, -7.9153876304626465, 2.9109456539154053, -69.7710952758789, -10.009713172912598, -6.378807067871094, -5.006216526031494, 3.9224023818969727, -8.612340927124023, 0.09904156625270844, 21.78168296813965, -1.2659642696380615, 1.9154728651046753, 3.8844258785247803, 11.055365562438965, 16.126985549926758, -21.20888900756836, -0.6751307845115662, 3.8586344718933105, 2.0338900089263916, 6.646117687225342, -1.612909197807312, -6.21553373336792, -26.06405258178711, 10.432621955871582, 6.763680458068848, 5.759454250335693, -14.919859886169434, -11.238456726074219, -0.2778606414794922, 6.291563034057617, 8.095282554626465, -3.6885831356048584, -7.512157440185547, -5.398236274719238, -2.947453260421753, -2.078260898590088, 0.7651475667953491, -11.38786506652832, -6.443568229675293, 5.8221049308776855, -2.090731143951416, -6.8298540115356445, -1.953621745109558, -11.724095344543457, -2.9933924674987793, -3.1015405654907227, 0.7202114462852478, -9.794100761413574, -2.3232953548431396, 7.263924598693848, 0.24470698833465576, -16.288997650146484, -9.338427543640137, -11.61131477355957, 6.9783759117126465, 8.738191604614258, 1.492782711982727, 3.9887678623199463, -5.830371856689453, 8.877466201782227, 10.712457656860352, 15.555006980895996, -1.644775390625, 15.810344696044922, -15.762200355529785, 11.694892883300781, -3.8323330879211426, -7.377245903015137, 25.276512145996094, -8.134747505187988, -6.699753284454346, 4.163562297821045, -14.348533630371094, -3.133096933364868, -17.005334854125977, -3.43463134765625, 8.085152626037598, -8.34526538848877, 19.829132080078125, 8.311720848083496, 8.710502624511719, 5.686967849731445, -8.149492263793945, -13.142436981201172, -4.383352756500244, -8.940165519714355, -3.6762619018554688, -16.060474395751953, 19.877317428588867, -7.170620441436768, 12.125314712524414, -26.11842918395996, -18.058788299560547, -6.668704032897949, 16.79618263244629, 17.550609588623047, 0.9787980914115906, -7.807125568389893, -11.628763198852539, -15.094029426574707, 17.198171615600586, 2.963489532470703, 14.833454132080078, 5.428411960601807, -3.7939229011535645, 0.4769631624221802, -11.063034057617188, -7.43455696105957, 13.170191764831543, 7.869605541229248, -7.294158458709717, 26.8690185546875, -10.099446296691895, 5.491359233856201, -13.404972076416016, -2.740089178085327, -10.66147232055664, 0.878702700138092, -9.300348281860352, -4.067628860473633, -12.536245346069336, -10.810723304748535, -14.355317115783691, 4.961930751800537, -30.663991928100586, 6.311163902282715, -7.052013874053955, -26.496379852294922, -11.10381031036377, 12.304889678955078, -3.273240089416504, -22.305606842041016, 1.7753982543945312, -21.936853408813477, 2.8978137969970703, 3.5265936851501465, 2.551894426345825, -5.560311317443848, 17.67226219177246, -4.722847938537598, 13.424359321594238, -8.987100601196289, -2.487382173538208, 2.6748390197753906, -5.875134468078613, -17.808589935302734, -10.304160118103027, -9.940706253051758, -8.295686721801758, 2.686257839202881, 11.257152557373047, 9.664953231811523, -13.518454551696777, 13.221757888793945, 3.0883476734161377, -7.0081329345703125, 15.4951810836792, 10.158927917480469, -5.35667085647583, 4.018879413604736, 11.969877243041992, -3.009005308151245, 16.28750991821289, -4.380267143249512, 11.570964813232422, -0.9831269383430481, -1.8823596239089966, 6.12962007522583, -7.121676921844482, -1.6438074111938477, -0.7565282583236694, 8.48051643371582, -7.636047840118408, -4.018994331359863, 4.289079189300537, -16.662200927734375, -2.888408899307251, -0.5065441131591797, 9.66990852355957, -11.84670352935791, -7.1626667976379395, 0.9932270646095276, 1.4407137632369995, -9.889298439025879, -6.6252570152282715, 1.4776036739349365, -16.859954833984375, -2.7477610111236572, -15.745935440063477, -18.64682388305664, 3.6740810871124268, 2.7326483726501465, -13.242420196533203, -3.141261100769043, -9.93091869354248, 11.14660358428955, -11.736594200134277, 1.2406387329101562, -5.64233922958374, -9.24783992767334, 8.081228256225586, -2.8342232704162598, 5.197033882141113, -6.373685836791992, 17.169557571411133, -17.656400680541992, 5.109072208404541, -9.510698318481445, -14.20036506652832, -10.921451568603516, 9.629643440246582, -3.3784143924713135, 3.293553352355957, 6.572192668914795, -9.762168884277344, 0.24686795473098755, 11.031201362609863, -3.1200716495513916, 13.366448402404785, 2.4982357025146484, 4.897292613983154, 15.534366607666016, 3.2019729614257812, 4.654381275177002, -6.76236629486084, 21.75588607788086, 2.1071457862854004, 3.477970600128174, 5.800938606262207, -0.8759866952896118, 6.984577655792236, -9.72141170501709, -1.476301670074463, -5.336092472076416, -7.123658180236816, -4.059439659118652, -12.843233108520508, -14.247820854187012, -5.1359710693359375, -7.381408214569092, 3.9623546600341797, 11.945846557617188, -8.668625831604004, -11.310847282409668, 19.24013328552246, -5.680375576019287, -0.07954364269971848, 16.445690155029297, -19.713623046875, 4.5663371086120605, -10.127679824829102, 3.7447593212127686, -20.61275863647461, -8.578277587890625, -5.647554397583008, -6.922756195068359, 2.421318292617798, -2.4073128700256348, -12.16651439666748, 0.038934484124183655, 9.637921333312988, -1.0489057302474976, -14.248306274414062, -1.0186374187469482, 6.441290855407715, 9.83780288696289, -0.6220067739486694, 6.594484329223633, 12.717790603637695, 15.362557411193848, 9.425411224365234, -3.2321529388427734, -5.771332263946533, 4.784651756286621, 11.982776641845703, -15.045814514160156, 1.0747727155685425, 0.9727398157119751, 13.551928520202637, 13.890047073364258, 17.081430435180664, 4.402818202972412, 6.361875057220459, 6.2451629638671875, -4.059790134429932, 0.2991158366203308, 5.955173969268799, 10.41001033782959, 3.353037118911743, -3.5220611095428467, -7.921753883361816, 2.7613866329193115, -4.126163959503174, 4.684815883636475, -18.555084228515625, 28.34284019470215, 5.871857166290283, 3.7289180755615234, 13.214043617248535, 19.149442672729492, 6.766592502593994, -3.9194095134735107, -5.254248142242432, -3.2131192684173584, 13.269827842712402, 0.0826781690120697, -1.3317950963974, 8.217910766601562, -9.895105361938477, 4.465281009674072, 7.700767517089844, -13.97689437866211, 9.6116943359375, -6.77207088470459, -1.329345703125, -9.091285705566406, -9.93287467956543, 21.02534294128418, 0.8255610466003418, -14.615423202514648, 0.7585633397102356, -2.210141181945801, -0.9043139219284058, 8.002618789672852, -21.08969497680664, -24.722095489501953, 14.113572120666504, -1.4988590478897095, -1.0613075494766235, 7.480857849121094, -1.7058669328689575, 0.2729651629924774, 7.759029865264893, 16.77155113220215, 8.742490768432617, -3.972400426864624, -7.272696495056152, 12.0573091506958, -12.800590515136719, -1.1102511882781982, -4.452491283416748, -2.644566297531128, 2.6519312858581543, 23.265277862548828, -9.27437686920166, 1.3316371440887451, -6.146176338195801, 7.839380741119385, -14.736661911010742, -8.272214889526367, 8.115618705749512, 11.667619705200195, -1.6527363061904907, 14.768378257751465, 0.09650905430316925, -10.108967781066895, 1.210831880569458, -1.3847031593322754, 2.247130870819092, -16.744905471801758, 8.242101669311523, 16.824874877929688, -1.088173270225525, -9.28800106048584, -27.007429122924805, 11.672900199890137, -2.6776480674743652, -1.2291452884674072, 8.558257102966309, -10.19183349609375, 1.9781228303909302, -7.380904674530029, -22.00908088684082, 9.960768699645996, 2.7332427501678467, 12.804472923278809, 2.5577943325042725, 9.018528938293457, -17.907381057739258, 1.5795141458511353, 5.498303413391113, -4.656955242156982, -1.342728614807129, 5.5506272315979, -12.110849380493164, 13.169403076171875, 6.910745143890381, -11.202425003051758, 16.138742446899414, 17.986051559448242, -4.572946548461914, 26.278778076171875, 13.539498329162598, -1.1755499839782715, -5.428253173828125, -0.43715620040893555, 19.10759925842285, -19.03277015686035, -8.92015552520752, -13.940515518188477, 12.885505676269531, -8.288360595703125, 7.356192588806152, 16.263378143310547, -0.4041883051395416, -6.912251949310303, 3.1185083389282227, -0.9580830335617065, 2.524738311767578, -11.574116706848145, 11.228631973266602, 4.7108893394470215, 2.727473020553589, -14.621427536010742, 10.893136978149414, -5.696019172668457, -4.77779483795166, -10.010427474975586, 20.038278579711914, 5.713128089904785, -19.735645294189453, 12.240571022033691, -16.959806442260742, -35.41643524169922, 14.273078918457031, 2.184598922729492, -2.084210157394409, -20.594806671142578, -0.16427786648273468, -3.5675344467163086, -6.607633113861084, -6.382086753845215, -5.729623317718506, 1.163373589515686, 9.042794227600098, -14.686063766479492, 14.102590560913086, 19.60744285583496, 13.202986717224121, -8.796784400939941, 0.7288303971290588, -6.659680366516113, 3.0475668907165527, 24.5876522064209, -0.17048081755638123, -1.9721894264221191, 8.157450675964355, -15.243194580078125, -5.820379734039307, -1.1228283643722534, 2.8237974643707275, -11.455820083618164, -4.473346710205078, 6.74381160736084, -9.444308280944824, 9.945768356323242, 3.0965373516082764, 5.739647388458252, 10.043118476867676, -5.449755668640137, 1.1992747783660889, -10.624040603637695, 11.57937240600586, -4.745581150054932, 11.139094352722168, -9.428030967712402, -12.865742683410645, 12.383197784423828, -3.657827615737915, -1.4215978384017944, 8.320164680480957, -5.0264692306518555, 21.40507698059082, 8.113428115844727, 11.613720893859863, 15.822881698608398, 4.168258190155029, -12.46510124206543, 3.662120819091797, -22.517837524414062, 6.2731451988220215, -14.780535697937012, 15.487604141235352, -0.25657832622528076, 1.5985113382339478, -12.68667984008789, 3.3822150230407715, 1.0858681201934814, -14.926885604858398, 16.391443252563477, -12.101907730102539, -0.2564329504966736, -5.270534515380859, -0.05472814664244652, -1.5531420707702637, 3.962294578552246, -6.417730331420898, 2.7657809257507324, 10.805625915527344, -3.8688888549804688, -8.345893859863281, 11.300627708435059, 8.365912437438965, 1.130997896194458, 12.791691780090332, -3.5961720943450928, 2.057325839996338, 12.590371131896973, 2.3618218898773193, -5.326052188873291, -4.6055169105529785, -1.1354765892028809, 6.221038341522217, -14.468320846557617, -11.116795539855957, -9.948598861694336, -18.99725914001465, 4.247792720794678, 1.8690168857574463, -8.86587142944336, -0.8799867033958435, 2.407440423965454, 3.7124369144439697, 4.643287658691406, -6.5208892822265625, -2.586987257003784, 8.824706077575684, 3.4267678260803223, -8.589092254638672, -7.441407680511475, -12.503599166870117, -0.696281909942627, 8.106807708740234, 4.197974681854248, 9.302926063537598, -0.5521063208580017, -0.8021056056022644, 10.550200462341309, -1.8595787286758423, -0.840724766254425, -3.8450725078582764, -10.127700805664062, -8.971780776977539, 3.3347420692443848, -9.210230827331543, -3.933631658554077, -3.245565891265869, 1.9515295028686523, 6.472090244293213, 14.261459350585938, -3.450150728225708, -7.713761806488037, -6.221347808837891, 5.605116844177246, 9.856122016906738, -13.129131317138672, -6.6946210861206055, 8.005345344543457, 34.97174072265625, -0.0038307453505694866, 3.031688928604126, -2.504199743270874, 5.315865516662598, -11.926990509033203, -3.5252432823181152, 25.784221649169922, -7.2161688804626465, -1.6967284679412842, -13.230239868164062, -3.698430299758911, 10.284200668334961, -12.7364501953125, 9.072677612304688, 10.455625534057617, 5.09047794342041, 9.90699291229248, -4.939144611358643, 5.3134565353393555, 4.161497592926025, 1.3762726783752441, -10.184932708740234, 18.136943817138672, -2.3287594318389893, -13.181106567382812, 4.0508713722229, -1.5045727491378784, -3.0596771240234375, 8.715872764587402, -4.310296058654785, 17.49732208251953, 9.780344009399414, -3.8938586711883545, 3.275364875793457, -2.7245447635650635, 17.52151870727539, -8.091212272644043, 13.813011169433594, -6.0329718589782715, 4.033390998840332, -12.877850532531738, 6.684192180633545, 13.382514953613281, 9.589731216430664, 6.137694358825684, -8.686798095703125, 10.761529922485352, 5.947668552398682, 3.168445348739624, -9.582989692687988, -10.72298812866211, -5.956368923187256, 5.570483684539795, -5.83624792098999, 11.935798645019531, 4.456501483917236, 9.635176658630371, -24.322832107543945, 17.703784942626953, -6.541776657104492, 10.279979705810547, -18.13770866394043, 11.643708229064941, -8.488578796386719, 9.584757804870605, 4.701888084411621, -2.5711419582366943, -19.958345413208008, 15.4092435836792, 3.6073801517486572, 4.543745040893555, 6.5293707847595215, -4.097978591918945, -8.898749351501465, -5.0618767738342285, 6.718843460083008, 8.536229133605957, -4.625624179840088, 5.386946678161621, -3.159428596496582, 6.867448806762695, 5.297664165496826, -7.786260604858398, 5.279164791107178, 8.538046836853027, -12.99835205078125, -0.980808675289154, -10.907842636108398, 0.8206042051315308, -7.012065887451172, -0.3319932520389557, -1.9957754611968994, -9.750947952270508, -5.723822593688965, -6.758054733276367, -5.040985107421875, 4.831693172454834, 8.453782081604004, -0.8151401877403259, 10.902412414550781, -2.02636456489563, -9.057904243469238, -9.988039016723633, 22.736793518066406, 17.079242706298828, 13.022634506225586, 21.70534324645996, -7.632460594177246, -2.903244972229004, -5.971654891967773, 4.01817512512207, 5.55875301361084, -4.733757019042969, 8.69970703125, 2.498159170150757, -5.655632495880127, -2.420970916748047, -15.132843017578125, 0.984210729598999, 4.107750415802002, 1.1563769578933716, -6.2340087890625, 1.8647178411483765, -16.224903106689453, -13.044873237609863, -2.757750988006592, -0.46575111150741577, 4.047971248626709, 5.572514057159424, 15.312836647033691, 9.91420841217041, 7.717288494110107, -12.742013931274414, 8.01379680633545, 6.776771068572998, 11.972662925720215, -7.298251628875732, -10.69898509979248, 7.148735523223877, 1.058252215385437, 5.347919940948486, 16.480016708374023, 4.230014801025391, -2.3586838245391846, 6.373634338378906, -0.6785528659820557, 4.233821868896484, 8.365225791931152, -3.569208860397339, 2.428896903991699, -20.677162170410156, -4.815919399261475, 15.983842849731445, 6.029839992523193, 4.818526268005371, -8.086777687072754, -12.477351188659668, 24.572586059570312, 0.9944849610328674, 8.066815376281738, 11.793396949768066, 6.748342990875244, -10.620614051818848, 9.899869918823242, 1.0134268999099731, 0.20361438393592834, 8.036517143249512, 1.1044167280197144, 23.015201568603516, 5.550319194793701, -14.556636810302734, -5.864570140838623, -10.116559982299805, -8.8388090133667, -10.873779296875, -1.3850276470184326, -9.577556610107422, 15.775527000427246, 22.57713508605957, 4.307779788970947, -9.844871520996094, 5.141186714172363, 6.279845714569092, 7.782873153686523, -3.696728467941284, 16.60405731201172, 2.6794092655181885, -4.842286586761475, 5.097253799438477, 10.17218017578125, 8.31407356262207, -7.30060338973999, 11.585610389709473, -13.23436450958252, 6.008542060852051, 7.161378383636475, -5.3125200271606445, 9.022686004638672, -4.593485355377197, 3.3893930912017822, -16.223339080810547, 5.206888198852539, 2.8441872596740723, 28.956876754760742, 16.206287384033203, 5.809865474700928, 14.155200958251953, -4.305202007293701, -3.0192747116088867, -11.719893455505371, -2.8439671993255615, -3.5442471504211426, -2.617917776107788, -4.691808700561523, 0.6796396970748901, -7.605504035949707, 5.042091369628906, 4.3152546882629395, 2.4301187992095947, 18.29225730895996, -7.190103054046631, 2.273879289627075, 5.106471061706543, 5.239020347595215, 0.34654736518859863, -8.973128318786621, 7.790205955505371, -5.580580711364746, -11.815690994262695, 10.578155517578125, -0.937774121761322, 4.927662372589111, -4.477970123291016, 23.0007381439209, -0.8060095310211182, 11.895228385925293, 9.369468688964844, 6.024229049682617, -9.861966133117676, 3.9118824005126953, 7.196282386779785, -3.7601284980773926, -2.4757955074310303, 4.283895492553711, -3.7028517723083496, -0.30926042795181274, -14.622642517089844, 7.879185676574707, -11.363636016845703, 23.427160263061523, -2.518002510070801, -2.9965054988861084, -5.89647912979126, -22.70258903503418, -12.158693313598633, 9.46833610534668, -18.010652542114258, -7.395118713378906, -6.263895511627197, -14.5460786819458, -1.7149626016616821, 1.5212100744247437, -0.46629807353019714, -12.500113487243652, -11.652411460876465, 3.407255172729492, 2.203800678253174, -1.5062861442565918, -0.5488741993904114, -6.382660865783691, 2.0692193508148193, -13.250306129455566, -2.5490410327911377, -18.273027420043945, -5.538066864013672, -3.339904546737671, -17.900634765625, -10.980354309082031, 18.53602409362793)]]\n"
     ]
    }
   ],
   "source": [
    "for i,j in hash_dict_list[0].items():\n",
    "    print(i,j[:5])\n",
    "    break"
   ]
  },
  {
   "cell_type": "code",
   "execution_count": null,
   "metadata": {},
   "outputs": [],
   "source": []
  },
  {
   "cell_type": "markdown",
   "metadata": {},
   "source": [
    "### Hash codes for test data"
   ]
  },
  {
   "cell_type": "code",
   "execution_count": 173,
   "metadata": {},
   "outputs": [
    {
     "name": "stderr",
     "output_type": "stream",
     "text": [
      "Processing Test Batches: 100%|██████████| 157/157 [00:06<00:00, 24.82it/s]\n",
      "Processing Test Batches: 100%|██████████| 157/157 [00:06<00:00, 23.20it/s]\n"
     ]
    }
   ],
   "source": [
    "# Initialize a list to store similar images for each hyperplane\n",
    "similar_images_list = []\n",
    "\n",
    "# Iterate through each hyperplane\n",
    "for i in range(L):\n",
    "    # Create a dictionary to store similar images for this hyperplane\n",
    "    similar_images = {}\n",
    "    random_positions = position_list[i]\n",
    "    # Process test data\n",
    "    for batch_idx, data in enumerate(tqdm(test_dataloader, desc=\"Processing Test Batches\")):\n",
    "        feature = data['features'].to(device)\n",
    "        \n",
    "\n",
    "        # Compute hash values for the test data\n",
    "        hash_value = phi_x(feature)@W_hat\n",
    "        test_hash_code = torch.where(hash_value > 0, 1, 0)\n",
    "\n",
    "        # Convert the hash code tensor to a list of tuples for dictionary key compatibility\n",
    "        test_hash_code_list = test_hash_code.tolist()\n",
    "        \n",
    "        # Iterate through each test image\n",
    "        for j in range(len(test_hash_code_list)):\n",
    "            # Create a unique key from (batch_idx, i, label)\n",
    "            test_key = (data['index'][j], data['label'][j].item())  # Convert tensor to tuple\n",
    "            test_hash_code_key = [test_hash_code_list[j][pos] for pos in random_positions]\n",
    "            # Create a unique key from the test hash code\n",
    "            test_hash_code_key = tuple(test_hash_code_key)\n",
    "\n",
    "            # Check if this hash code exists in the training hash dictionary\n",
    "            if test_hash_code_key in hash_dict_list[i]:\n",
    "                # Retrieve the corresponding images and their labels from the training hash dictionary\n",
    "                similar_images[test_key] = hash_dict_list[i][test_hash_code_key]\n",
    "            else:\n",
    "                similar_images[test_key] = []\n",
    "\n",
    "    # Store the similar images found for this hyperplane\n",
    "    similar_images_list.append(similar_images)\n",
    "\n",
    "# Now similar_images_list contains keys as (batch_idx, i, label) and values as similar images\n"
   ]
  },
  {
   "cell_type": "code",
   "execution_count": 174,
   "metadata": {},
   "outputs": [
    {
     "name": "stdout",
     "output_type": "stream",
     "text": [
      "[[0, 13, 3, (12.045876502990723, 5.887991428375244, -2.3138439655303955, -13.887799263000488, -1.3073891401290894, -0.28828126192092896, -2.5414435863494873, 5.622004985809326, -4.3306779861450195, 8.543529510498047, -0.6436425447463989, 4.6241936683654785, -3.518933057785034, -2.811086893081665, 8.111305236816406, -8.008687973022461, 5.416823863983154, -17.91381072998047, -0.16152937710285187, 10.656754493713379, 2.0685760974884033, 8.167309761047363, 7.578545093536377, 20.31664276123047, 10.34548568725586, 3.325634241104126, 14.272555351257324, 4.633854866027832, -15.228202819824219, 4.094171047210693, -3.8235325813293457, 3.102696657180786, -9.246621131896973, -10.13953685760498, -12.762266159057617, -2.78100848197937, -5.115204811096191, 4.400285720825195, 5.852871417999268, 3.685391902923584, 17.2583065032959, 3.853842258453369, -6.876890659332275, 1.832915186882019, 11.633397102355957, 3.9622037410736084, 10.114022254943848, -6.645434379577637, 6.145081043243408, 4.594612121582031, -3.2350032329559326, -3.5952725410461426, 11.633474349975586, 8.23829174041748, -1.170097827911377, -10.614941596984863, 7.0101728439331055, 10.069847106933594, -9.735649108886719, -4.943290710449219, -7.683425426483154, -12.749689102172852, 7.070113658905029, -7.026220798492432, -21.235057830810547, 8.458673477172852, 2.9597322940826416, 18.31181526184082, 3.642331123352051, -0.6958805322647095, 11.219440460205078, 9.697529792785645, -6.280642986297607, 1.7774841785430908, -1.4512758255004883, 9.72010326385498, 12.32960319519043, 6.867701053619385, 9.365668296813965, 4.671196460723877, -2.4863336086273193, -0.6307088732719421, 6.089779853820801, 1.0652002096176147, 6.254096031188965, -6.823938369750977, -1.3591476678848267, 3.4804463386535645, 6.965369701385498, -5.80704402923584, 9.422242164611816, 1.9250774383544922, -3.4972758293151855, -6.775597095489502, -2.354707717895508, -3.7219789028167725, 5.897903919219971, -0.6613410115242004, -5.432544231414795, -8.367585182189941, -1.8739737272262573, -6.0392069816589355, 16.58638572692871, -9.063189506530762, -6.141958713531494, 7.468985557556152, 2.5301122665405273, -10.144641876220703, 8.546038627624512, -4.461312294006348, 13.89816665649414, -7.637818813323975, 5.6716837882995605, -7.796768665313721, 5.357767105102539, -9.774446487426758, 18.24184799194336, 0.11402729898691177, 1.7572145462036133, 6.493714332580566, 16.72850799560547, -9.020408630371094, -4.114952564239502, 7.3089399337768555, -10.244250297546387, 0.7439871430397034, -12.065228462219238, -5.853621006011963, -6.927032470703125, -3.5222926139831543, -8.958797454833984, 3.0551962852478027, 5.087035179138184, 7.550443649291992, 0.7136813402175903, 0.027227336540818214, -6.578561305999756, -7.180030345916748, 13.227548599243164, -2.334306478500366, -1.1363413333892822, -1.8730672597885132, -18.163785934448242, -1.3366080522537231, 0.429151326417923, -16.00392723083496, -5.822413444519043, -8.004929542541504, -0.5574613213539124, -0.8719992637634277, -2.7483348846435547, -5.787898540496826, -3.798647880554199, 20.08892250061035, -13.208710670471191, 7.734992980957031, -6.186168193817139, 2.559817314147949, 17.402738571166992, -7.990038871765137, 5.358701705932617, -4.6207966804504395, -1.1593371629714966, 2.461198091506958, 11.40181827545166, -10.630327224731445, 7.12174129486084, -10.604635238647461, -5.383069038391113, -10.606907844543457, -2.1277832984924316, -5.464557647705078, -13.67112922668457, 8.40821361541748, 9.09687328338623, -10.3984956741333, 5.365103244781494, 0.33822038769721985, 8.304856300354004, 13.494297981262207, 0.8379462957382202, -2.2281219959259033, -0.8166326284408569, -10.001087188720703, 8.743145942687988, 14.149577140808105, -2.1873655319213867, 14.168288230895996, -22.292348861694336, -11.47065258026123, 7.49122953414917, 2.3731913566589355, 0.21663236618041992, 5.750279426574707, -2.1879806518554688, -2.3428025245666504, -14.44904899597168, 12.483071327209473, -2.3588061332702637, 3.768587589263916, 0.5334318280220032, -8.15356731414795, 3.655125141143799, -2.0070621967315674, 4.8285322189331055, 1.9598132371902466, 21.069656372070312, -9.993707656860352, 2.904141426086426, 1.6816766262054443, 4.485200881958008, -8.128189086914062, 8.508048057556152, 5.867423057556152, 2.500509738922119, 0.4523264765739441, -12.529136657714844, 2.199007511138916, 3.3389792442321777, 9.3597993850708, 3.523493528366089, -19.392112731933594, -6.989686489105225, -2.2115139961242676, 2.1498303413391113, -5.168541431427002, -7.952422618865967, -9.14590835571289, 1.9509782791137695, -0.3233519494533539, 0.48673322796821594, 2.4560623168945312, -6.40371561050415, -2.7808139324188232, -10.719816207885742, 20.34938621520996, -15.688520431518555, 2.9147400856018066, -8.21052360534668, -4.940329074859619, 3.5462443828582764, -5.549924850463867, -7.8173136711120605, -1.1189237833023071, -7.6181159019470215, -15.438368797302246, 10.640623092651367, 6.523633003234863, -0.48589709401130676, 0.7378060817718506, -9.09021282196045, -1.4318962097167969, -0.5995424389839172, -7.981256484985352, 61.232147216796875, -5.9210205078125, 16.1630859375, -12.174915313720703, -17.390159606933594, -3.3561863899230957, 9.69857120513916, 3.6997697353363037, 3.182664394378662, -2.7101082801818848, -8.924782752990723, -8.664525032043457, 17.63542938232422, 0.5237654447555542, -3.2758920192718506, -11.374593734741211, 8.570080757141113, 0.8935992121696472, -1.135701298713684, -15.299582481384277, 4.150476455688477, 0.08306658267974854, 10.472846031188965, -1.320191740989685, -0.04717838764190674, -0.9975316524505615, 9.302092552185059, -3.3279528617858887, -3.525918483734131, -10.94824504852295, -3.5657284259796143, -4.204194068908691, 0.32919779419898987, -8.84061050415039, -7.953754901885986, -14.732982635498047, -6.764511585235596, -7.435204982757568, -3.2434215545654297, -11.347565650939941, 1.5843266248703003, 3.149170398712158, 9.395059585571289, 7.7344136238098145, -7.2569260597229, 9.290165901184082, -0.940064013004303, 6.478317737579346, -14.582127571105957, -27.18448257446289, -3.0330634117126465, -16.888914108276367, -7.901124477386475, 4.468906879425049, -9.628875732421875, -4.859964370727539, 10.471160888671875, 1.4660810232162476, 7.628262996673584, -7.382689476013184, -5.0372700691223145, 10.250862121582031, -15.90134334564209, 0.300971657037735, 4.071968078613281, -11.241683959960938, 22.01637840270996, 13.498456954956055, 8.797831535339355, -9.957365989685059, 0.2968030273914337, -6.562994956970215, 12.844658851623535, 0.5212781429290771, -5.870984077453613, 12.082667350769043, 12.31840991973877, 5.5411601066589355, -4.226826190948486, -12.413122177124023, -11.791626930236816, 13.017931938171387, 9.525080680847168, 1.4778350591659546, 12.007925987243652, 3.2979516983032227, -3.998976230621338, -26.47813606262207, -13.401885986328125, 4.205053806304932, 0.6370609998703003, -3.346531867980957, 2.8211185932159424, -8.069061279296875, -7.5114054679870605, -1.1696617603302002, 4.519553184509277, -7.09690523147583, 4.248816967010498, 7.365645408630371, -2.0111892223358154, -6.083923816680908, -0.23571324348449707, 1.2568596601486206, 7.224372863769531, 4.781375408172607, 4.594031810760498, -11.066401481628418, 2.180175304412842, 7.4460859298706055, 8.617822647094727, -15.825666427612305, 9.093207359313965, -8.620226860046387, -20.377317428588867, -11.118803977966309, 3.8708412647247314, -7.166335582733154, -0.6067750453948975, -2.7027406692504883, -25.346776962280273, -2.083712339401245, 8.48035717010498, 4.329987049102783, -2.508143424987793, -7.535215377807617, 8.28552532196045, -8.898432731628418, 6.970463275909424, 2.1500847339630127, -3.201589822769165, 8.444062232971191, -3.985506534576416, 8.429170608520508, 7.458066940307617, 14.482529640197754, 1.2372782230377197, 5.578073501586914, -1.3725075721740723, -7.6194353103637695, -9.128334045410156, 6.515197277069092, -6.021394729614258, -6.60033655166626, -0.5677276849746704, 11.309401512145996, 7.302574157714844, -15.412718772888184, -8.11253547668457, 5.39165735244751, 8.76566219329834, 2.9979336261749268, -7.112006664276123, -13.252126693725586, 3.3023736476898193, 20.206148147583008, -0.8941178917884827, -11.764852523803711, -10.897132873535156, -5.077524662017822, -18.307504653930664, -6.385829925537109, 13.002359390258789, -2.655618667602539, 12.977117538452148, 13.40316390991211, -7.045528888702393, -5.562559127807617, 9.95249080657959, 7.2471113204956055, -3.525524377822876, -2.5139219760894775, -6.055799961090088, -0.6339027881622314, 16.509185791015625, 5.210378170013428, -13.180509567260742, -5.355737209320068, 8.702108383178711, 10.57165813446045, 3.603666305541992, 5.501481533050537, -7.349822998046875, 2.031672239303589, -1.9399785995483398, -1.5262024402618408, 5.919982433319092, 8.242313385009766, 3.617697238922119, 5.3651204109191895, -7.863648414611816, -2.2338061332702637, -8.910704612731934, -9.165021896362305, -3.2810604572296143, 6.276554584503174, 2.1397604942321777, 7.589591026306152, -4.040068626403809, 7.281798839569092, 14.21673583984375, -3.158996105194092, -13.256731033325195, 2.196235179901123, 1.9277337789535522, -11.576664924621582, -4.867944240570068, 1.358831524848938, 10.461033821105957, 9.457322120666504, 5.920774459838867, -5.692495346069336, 7.224602699279785, -19.589874267578125, 4.155771732330322, 1.1742790937423706, -0.3128700256347656, -8.07955265045166, -9.102679252624512, 4.140909671783447, -20.946001052856445, 0.06771163642406464, 2.3070244789123535, -5.730682849884033, -0.013670901767909527, 1.019370436668396, -18.87575340270996, 8.756704330444336, 7.473789215087891, -17.863086700439453, 6.258589744567871, -5.621815204620361, 9.804839134216309, 7.103451728820801, 22.16650390625, -5.153132438659668, -3.157001256942749, -2.6807637214660645, 6.930213928222656, 20.7136287689209, -0.8393868207931519, 6.483827114105225, 7.201413631439209, 3.702627420425415, -9.243639945983887, -1.4607367515563965, 2.5954389572143555, -0.4796362519264221, -7.063368797302246, -3.8238580226898193, 12.280579566955566, 6.079041004180908, -9.324660301208496, -1.1114146709442139, 23.352155685424805, 6.799270153045654, -5.314406871795654, -17.08054542541504, -8.173563003540039, 1.2881560325622559, 8.024991989135742, -7.445448875427246, -3.8773193359375, 14.054067611694336, 5.540825366973877, -0.940561830997467, -13.617134094238281, -2.4231176376342773, 7.638979911804199, -4.101274490356445, -1.5666921138763428, 7.254075527191162, -1.0656222105026245, 14.196452140808105, 18.15578269958496, 4.246842861175537, -3.025940418243408, 17.327011108398438, 4.375108242034912, 4.372125148773193, -6.282831192016602, 6.111911296844482, -1.458760380744934, -7.257925510406494, 5.293351173400879, -17.90167808532715, 1.8012456893920898, -0.1618020087480545, -15.03654670715332, -6.649755001068115, -0.6353837847709656, 6.023173809051514, -7.0272393226623535, 1.5762147903442383, -1.1494474411010742, 3.689262866973877, -4.831824779510498, -0.024696560576558113, 12.449045181274414, 10.701255798339844, -5.308472633361816, 0.006339605897665024, 18.128276824951172, -5.439391613006592, 3.5129456520080566, -4.035995960235596, 16.66681671142578, 3.8362300395965576, -6.521999359130859, 3.042461633682251, 1.9811670780181885, -5.13192081451416, 5.793594837188721, 8.364141464233398, 2.8263542652130127, 7.829174041748047, -9.16994857788086, 7.420055866241455, 7.08836555480957, -1.5662760734558105, 13.345582008361816, 12.70335578918457, 1.088857650756836, -3.2052206993103027, 3.1966943740844727, -11.560909271240234, 0.3997502326965332, -1.6198079586029053, -12.72684383392334, 12.726953506469727, -2.2287750244140625, 3.9695703983306885, -13.044867515563965, -0.49299511313438416, 5.1685471534729, 0.9503028392791748, -4.86835241317749, 9.977640151977539, 1.514642596244812, 6.001099109649658, 2.719862937927246, 6.632089138031006, 3.929408073425293, 12.418916702270508, -2.416823387145996, 2.852167844772339, -2.706517457962036, -7.090476036071777, -2.605412006378174, -9.100129127502441, -6.176784515380859, 12.621599197387695, -6.705229759216309, 1.6789709329605103, -12.085759162902832, 14.311125755310059, 12.379485130310059, 6.838333606719971, -0.784233033657074, 13.373394966125488, -10.469895362854004, 5.055306911468506, 4.114087104797363, 9.729823112487793, -5.181807994842529, 3.2757837772369385, -4.624517917633057, 22.252798080444336, -11.217034339904785, -1.6747418642044067, 7.222523212432861, 2.367964506149292, -3.32930326461792, 9.292726516723633, 4.882781982421875, -1.4179716110229492, -1.4566601514816284, 24.715797424316406, -1.2100987434387207, 4.018832683563232, -7.231732368469238, 8.188437461853027, -3.2408647537231445, -2.6271049976348877, -4.108534812927246, -3.5706698894500732, 7.317226409912109, -6.1753010749816895, 17.2432804107666, -0.17536047101020813, 8.411385536193848, -8.549848556518555, 0.348560094833374, 7.319733142852783, -16.27827262878418, 17.418363571166992, 3.4336071014404297, -9.670650482177734, 5.931153774261475, -22.384679794311523, -11.099520683288574, -13.824166297912598, -13.019477844238281, -9.234722137451172, -10.683624267578125, 9.412392616271973, 1.2741791009902954, 8.370315551757812, -6.475621223449707, -4.956171035766602, -14.235696792602539, 0.06497446447610855, -1.7604279518127441, 4.437680244445801, 4.178567886352539, 7.598171234130859, -0.3572397232055664, -2.249370813369751, 2.2848522663116455, -4.249218940734863, 12.190057754516602, 17.8203182220459, -4.475997447967529, -12.496716499328613, 16.60150909423828, -2.244572401046753, -7.928371429443359, 2.1505935192108154, -4.0598859786987305, 9.80105972290039, 5.716347694396973, -3.367495059967041, -3.0079050064086914, 0.19968122243881226, 9.805582046508789, -6.235162258148193, -16.84979248046875, -11.859580039978027, -9.851642608642578, -0.4701102375984192, 5.00977087020874, -7.155442714691162, -4.7363667488098145, -1.4726089239120483, -3.261897563934326, -2.813941717147827, -9.885746955871582, -7.232768535614014, -1.0063745975494385, -2.103172540664673, 24.571760177612305, -22.362974166870117, -6.799787521362305, -1.5719351768493652, -26.93879508972168, -2.8705031871795654, -7.897424697875977, -8.978642463684082, 10.746082305908203, -2.1208529472351074, 1.5278549194335938, -8.028960227966309, 6.278135299682617, 1.49737548828125, -1.7364534139633179, -1.217441439628601, -7.6554436683654785, 11.076424598693848, 0.7532087564468384, 0.950654149055481, -28.418170928955078, -9.289227485656738, 3.040581226348877, 6.7075910568237305, -2.48289155960083, -7.43968391418457, -5.673415660858154, -4.32758092880249, 7.617387771606445, 14.556431770324707, -13.965954780578613, 9.281621932983398, -0.40133556723594666, -1.2360732555389404, -3.0342049598693848, -0.19544409215450287, 1.5647701025009155, -1.694336175918579, -3.859652042388916, 17.159727096557617, -9.692832946777344, 6.730964660644531, -8.96091079711914, 1.777984380722046, -8.789902687072754, -4.774622917175293, 10.534780502319336, 6.881810188293457, 15.244793891906738, -4.46384859085083, -4.868293762207031, 0.2656698226928711, 5.564373970031738, -12.011308670043945, -9.175554275512695, -0.49876636266708374, -5.643893718719482, -12.06567668914795, 6.288609981536865, -9.77924633026123, 3.674182176589966, 13.781881332397461, 17.421138763427734, 5.519047737121582, 1.979050874710083, 3.726435899734497, -0.17056570947170258, 9.976062774658203, -17.474010467529297, 12.539813041687012, -5.139958381652832, 0.2035699188709259, 9.758646011352539, 16.79271697998047, -13.043909072875977, 4.546616077423096, 5.679598331451416, 5.207403182983398, 11.624541282653809, -4.647549629211426, 2.7041256427764893, -2.3880605697631836, -5.707023620605469, 3.56933331489563, 3.625570774078369, 1.8160566091537476, 2.896496534347534, -6.9728684425354, -10.578516960144043, -1.0964792966842651, -0.7035523653030396, 4.031023979187012, 6.689863204956055, 3.801252603530884, 0.9879103899002075, -8.951172828674316, 11.507962226867676, 7.729288578033447, -9.29175090789795, -6.3053460121154785, -4.719499111175537, 5.754136085510254, -17.968008041381836, 6.9941205978393555, -7.074696063995361, -10.01764965057373, -3.051952362060547, 1.6338151693344116, -10.286651611328125, 13.779109001159668, 6.5880045890808105, -3.658637523651123, 12.440362930297852, 4.7222723960876465, -1.5786226987838745, 4.41156005859375, 11.474649429321289, 10.324104309082031, 3.8309695720672607, -6.974521636962891, 3.1234917640686035, 11.297954559326172, 8.434772491455078, -5.267629623413086, -2.1264424324035645, 13.354166030883789, -4.40911340713501, -11.472537994384766, -14.910941123962402, 10.110455513000488, -11.47072696685791, -7.0893235206604, -8.570886611938477, -2.157379627227783, 8.743556022644043, 5.60606575012207, 10.624777793884277, 3.4676551818847656, 1.366040825843811, -6.00201940536499, -5.824559688568115, 6.438152313232422, -7.74634313583374, 2.1565725803375244, -3.739086151123047, 4.6449151039123535, 16.462417602539062, 11.886499404907227, -5.198582649230957, -4.689150333404541, -5.106785297393799, 6.962433338165283, -5.117056846618652, -19.7456111907959, 17.08889389038086, -7.21668004989624, -7.970223426818848, 10.643220901489258, 0.0862300768494606, -1.0187422037124634, 11.19950008392334, 8.784893989562988, -12.769679069519043, 5.598182201385498, -14.543359756469727, 5.803726673126221, 4.0361409187316895, -5.0504679679870605, -0.010835950262844563, -5.590896129608154, -2.1999902725219727, -7.193436145782471, -0.7109346985816956, -10.773085594177246, 0.4192049205303192, -0.17385970056056976, -4.302268981933594, -1.6896885633468628, 9.125387191772461, -3.576409339904785, -12.812215805053711, 17.283626556396484, 6.995937824249268, 10.17024040222168, 14.370902061462402, -4.764951705932617, -3.9049341678619385, 8.504504203796387, -5.50216817855835, 1.9356672763824463, -5.647661209106445, 4.214271068572998, 5.970799922943115, 1.75474214553833, 15.498653411865234, -18.875062942504883, 22.518545150756836, -15.40809154510498, 14.589845657348633, -2.835690975189209, 9.285521507263184, 4.290396213531494, 3.1598336696624756, -0.07633190602064133, -6.593692779541016, -10.5459623336792, -12.424641609191895, -25.624568939208984, 15.673405647277832, 8.288491249084473, 10.196600914001465, 12.085602760314941, -12.255192756652832, -9.847373008728027, -18.394620895385742, -2.617238759994507, -0.9708216190338135, -10.13984203338623, 16.7753963470459, -9.484601974487305, -3.095418930053711, -8.101663589477539, -1.4567290544509888, 2.3350071907043457, 5.0607218742370605, 2.4930877685546875, 13.367286682128906, 1.6426920890808105, -4.4297776222229, 8.616142272949219, 3.5513763427734375, 12.13674259185791, -11.079778671264648, 11.757661819458008, 19.044790267944336, 7.761802673339844, 13.878899574279785, 12.642309188842773, -8.371012687683105, -10.343185424804688, -10.885665893554688, -0.8325538635253906, 2.7885429859161377, -4.119678497314453, 10.334763526916504, 10.925175666809082, 5.368292808532715, 10.594080924987793, 12.771373748779297, -3.597456216812134, 8.463102340698242, 6.712709426879883, -7.366461753845215, 10.872281074523926, -7.578693866729736, 6.613720417022705, -2.717634677886963, 10.900191307067871, 2.484311580657959, 24.607812881469727, 14.526050567626953, -8.926103591918945, -1.251473307609558, 6.256908416748047, 2.2379863262176514, -2.883802890777588, -5.69242000579834, -7.781418323516846, -7.595276355743408, -3.912332534790039, -10.730217933654785, -13.565532684326172, 10.27545166015625, 0.6690162420272827, 10.159879684448242, -0.17159096896648407, -0.8689956665039062, -6.216172695159912, -4.974847793579102, 8.411596298217773, 7.990884304046631, 10.509422302246094, 7.721864700317383, -6.951174259185791, -7.910168170928955, 3.4312312602996826, 8.910913467407227, 9.666293144226074, -2.5077567100524902, 0.20541802048683167, 10.014222145080566, -5.946856498718262, -0.21579818427562714, -2.998350143432617, -13.644775390625, -3.129478693008423, -5.9869866371154785, -18.714506149291992, 11.693636894226074, -11.03094482421875, -0.7473864555358887, 8.053628921508789, -0.8130641579627991, 3.463663339614868, -18.199417114257812, -8.471948623657227, 6.135082244873047, -9.472015380859375, 4.43373441696167, -2.0499801635742188, 6.7421345710754395, -6.849643707275391, -0.4788130223751068, -13.746472358703613, -12.295893669128418, -9.09851360321045, 5.515667915344238, -6.8367743492126465, 3.0343003273010254, -2.158151149749756)]]\n"
     ]
    }
   ],
   "source": [
    "for i,j in similar_images_list[0].items():\n",
    "    print(j[:1])\n",
    "    break"
   ]
  },
  {
   "cell_type": "markdown",
   "metadata": {},
   "source": [
    "### Create union of all hash list"
   ]
  },
  {
   "cell_type": "code",
   "execution_count": null,
   "metadata": {},
   "outputs": [
    {
     "name": "stderr",
     "output_type": "stream",
     "text": [
      "100%|██████████| 10000/10000 [00:00<00:00, 404773.55it/s]\n",
      "100%|██████████| 10000/10000 [00:00<00:00, 539661.61it/s]\n",
      "100%|██████████| 10000/10000 [00:00<00:00, 614964.52it/s]\n",
      "100%|██████████| 10000/10000 [00:00<00:00, 778756.38it/s]\n",
      "100%|██████████| 10000/10000 [00:00<00:00, 679988.33it/s]\n",
      "100%|██████████| 10000/10000 [00:00<00:00, 656467.79it/s]\n",
      "100%|██████████| 10000/10000 [00:00<00:00, 738277.83it/s]\n",
      "100%|██████████| 10000/10000 [00:00<00:00, 742223.32it/s]\n",
      "100%|██████████| 10000/10000 [00:00<00:00, 712009.23it/s]\n",
      "100%|██████████| 10000/10000 [00:00<00:00, 728721.79it/s]\n"
     ]
    }
   ],
   "source": [
    "# Initialize the dictionary to store similar images\n",
    "similar_images_dict = {}\n",
    "\n",
    "# Iterate through the similar_images_dict to populate similar_images_list\n",
    "for i in similar_images_list:\n",
    "    for j in tqdm(i.keys()):\n",
    "        # Check if the key already exists in similar_images_list\n",
    "        if j not in similar_images_list:\n",
    "            similar_images_dict[j] = []  # Initialize the list if it doesn't exist\n",
    "\n",
    "        similar_images_dict[j].extend(i[j])  # Deep copy of the elements"
   ]
  },
  {
   "cell_type": "code",
   "execution_count": null,
   "metadata": {},
   "outputs": [
    {
     "name": "stderr",
     "output_type": "stream",
     "text": [
      "100%|██████████| 10000/10000 [00:08<00:00, 1223.58it/s]\n"
     ]
    }
   ],
   "source": [
    "# Initialize the dictionary to store similar images\n",
    "unique_images_dict = {}\n",
    "\n",
    "# Iterate through the similar_images_dict to populate unique_images_dict\n",
    "for i, j in tqdm(similar_images_dict.items()):\n",
    "    if i not in unique_images_dict:\n",
    "        unique_images_dict[i] = []  # Initialize the list only if the key doesn't exist\n",
    "\n",
    "    for k in j:\n",
    "        if k not in unique_images_dict[i]:  # Check if 'k' is not already in the list\n",
    "            unique_images_dict[i].append(k)  # Append 'k' to the list\n"
   ]
  },
  {
   "cell_type": "code",
   "execution_count": null,
   "metadata": {},
   "outputs": [
    {
     "name": "stdout",
     "output_type": "stream",
     "text": [
      "[[32417, 3], [18920, 7], [9709, 0], [14435, 8], [8503, 5], [6332, 5], [4315, 8], [8067, 7], [42321, 7], [29914, 2], [20558, 3], [37323, 7], [29332, 0], [48036, 7], [16642, 3], [42798, 8], [31412, 3], [34501, 8], [24503, 7], [44233, 8], [22671, 3], [21167, 7], [19926, 9], [49488, 8], [15042, 8], [26034, 2], [5374, 8], [1770, 2], [28916, 7], [6088, 9], [5858, 0], [18599, 8], [25369, 2], [6797, 9], [8003, 0], [3445, 2], [38844, 0], [24341, 0], [27588, 8], [32477, 8], [29785, 2], [17590, 5], [46757, 2], [25127, 3], [30645, 8], [16811, 7], [16603, 8], [6300, 2], [9092, 5], [41386, 7], [7287, 6], [15836, 7], [24162, 6], [14632, 8], [33992, 0], [45573, 8], [40796, 2], [26118, 8], [20817, 8], [24365, 0], [39837, 0], [9025, 9], [20787, 0], [40646, 2], [40303, 2], [13997, 0], [15540, 8], [28209, 9], [16243, 6], [19524, 8], [42036, 8], [16908, 9], [6438, 8], [19328, 8], [41376, 0], [25278, 3], [33795, 2], [15267, 0], [100, 6], [24846, 8], [28120, 9], [18461, 8], [44552, 0], [24132, 8], [18591, 9], [47663, 0], [7885, 5], [35073, 8], [15941, 4], [19759, 0], [29097, 8], [36604, 3], [45793, 9], [35566, 4], [31019, 0], [21553, 7], [34704, 3], [20290, 8], [6775, 7], [11040, 2], [40550, 3], [6004, 0], [39757, 8], [20965, 8], [33981, 3], [37146, 3], [6492, 2], [41836, 6], [42447, 3]]\n",
      "[[32533, 5], [39627, 7], [23677, 2], [35895, 6], [10789, 6], [6788, 6], [10042, 1], [42772, 2], [41001, 4], [9103, 5], [13950, 2], [22111, 3], [14854, 6], [16712, 1], [32596, 7], [703, 5], [40603, 3], [37685, 0], [44320, 8], [21240, 0], [7145, 1], [193, 6], [34163, 6], [4712, 8], [14162, 9], [30466, 6], [49838, 6], [8874, 5], [34092, 8], [1878, 9], [24187, 3], [22122, 6], [11818, 3], [32519, 0], [43091, 6], [35036, 7], [38606, 9], [34399, 3], [5880, 2], [22485, 5], [26677, 0], [4153, 1], [14654, 1], [20902, 1], [29539, 1], [46755, 6], [33720, 3], [25054, 2], [2278, 2], [1396, 6], [48570, 1], [32743, 2], [9163, 3], [34266, 1], [2739, 6], [16694, 8], [19841, 4], [26389, 6], [44191, 8], [13907, 8], [2399, 7], [44881, 6], [8707, 6], [42662, 0], [11956, 6], [25843, 8], [1984, 6], [19581, 2], [31635, 4], [20069, 8], [2553, 4], [6383, 4], [33212, 8], [31230, 1], [28483, 1], [17736, 9], [7820, 2], [19250, 4], [11021, 4], [8924, 5], [11039, 2], [9639, 6], [17308, 2], [40520, 4], [21066, 6], [14560, 3], [22442, 8], [44309, 6], [22180, 2], [26256, 1], [22017, 6], [1934, 3], [28645, 8], [5805, 1], [29324, 1], [244, 1], [49067, 2], [7636, 7], [39373, 0], [35923, 1]]\n",
      "[[14555, 2], [40748, 0], [19766, 8], [15241, 7], [30826, 3], [43375, 0], [21635, 4], [6780, 8], [16244, 3], [36782, 0], [38211, 4], [35285, 7], [3447, 0], [43783, 6], [32487, 4], [7793, 9], [2417, 7], [29777, 7], [17993, 3], [3057, 4], [2719, 5], [39975, 3], [46876, 7], [31240, 8], [46516, 9], [15602, 2], [38554, 0], [45947, 1], [46711, 0], [46137, 1], [14210, 2], [6883, 2], [33096, 8], [26909, 9], [24534, 0], [7195, 9], [31370, 7], [24614, 7], [6702, 6], [29159, 7], [12937, 5], [45326, 7], [13599, 7], [6935, 1], [4938, 0], [18475, 5], [9249, 4], [21130, 1], [33965, 0], [12193, 3], [4687, 5], [12980, 7], [28327, 8], [10388, 9], [38308, 9], [13284, 9], [24972, 3], [45156, 5], [37715, 9], [32636, 4], [42348, 3], [32576, 0], [39030, 4], [12468, 4], [32089, 5], [13872, 8], [23409, 7], [40798, 9], [9430, 4], [8834, 6], [48157, 2], [10799, 9], [16014, 5], [12671, 5], [2087, 1], [28900, 0], [37104, 0], [19591, 1], [40767, 5], [7086, 5], [42604, 5], [48581, 4], [47039, 8], [27519, 8], [11015, 3], [37253, 0], [10999, 8], [31467, 0], [42734, 4], [9085, 7], [40328, 8], [8229, 3], [16455, 3], [19908, 1], [17734, 3], [14222, 4], [33991, 5], [41385, 4], [28662, 3], [18306, 5], [17356, 2], [18821, 1], [39057, 9], [13669, 8], [11753, 4], [4645, 9], [46425, 0], [39796, 7], [26422, 8], [36907, 2], [10345, 3], [23865, 5], [13514, 1], [5759, 3], [47212, 0], [10021, 6], [12777, 0], [47099, 4], [29100, 9], [22208, 4], [21923, 2], [19083, 4], [18772, 3], [40223, 0], [23922, 1], [39163, 1], [35394, 7], [26561, 3], [31988, 8], [3760, 8], [21531, 3], [9733, 5], [12522, 1], [43650, 3], [30184, 1], [924, 0], [8576, 0], [11786, 9], [41655, 3], [29168, 4], [20946, 6], [48012, 9], [25824, 7], [27403, 2], [10835, 1], [29549, 9], [48401, 8], [39565, 5], [23842, 5], [18218, 5], [46957, 5], [27828, 3], [7296, 1], [23140, 6], [11242, 9], [8403, 5], [19736, 6], [31951, 3], [27121, 5], [12681, 5], [42331, 7], [20472, 4], [35046, 4], [41492, 2], [9426, 2], [25597, 9], [18971, 4], [33267, 1], [14414, 8], [2741, 2], [3970, 1], [10812, 8], [35314, 0], [30745, 4], [47948, 2], [37998, 3], [34354, 3], [8471, 5], [15321, 6], [25909, 4], [3197, 4], [23669, 9], [49930, 3], [29630, 0], [5282, 0], [19518, 0], [41784, 4], [9417, 6], [31084, 2], [19520, 3], [32984, 0], [35992, 5], [32009, 6], [7232, 2], [38450, 9], [48632, 9], [13453, 2], [33108, 9], [49150, 2], [19557, 7], [40959, 4], [22287, 2], [27115, 0], [8795, 1], [40443, 9], [15787, 0], [12676, 2], [21702, 1], [15966, 6], [16693, 0], [34128, 6], [48960, 5], [31742, 1], [5425, 8], [10658, 0], [11002, 4], [38955, 4], [21407, 1], [13906, 5], [9579, 8], [27361, 1], [43631, 6], [48016, 2], [39250, 8], [41691, 5], [7842, 7], [8816, 1], [48824, 5], [45475, 3], [39358, 8], [49792, 3], [23264, 1], [3437, 9], [22496, 5], [5474, 4], [10887, 6], [27753, 8], [26069, 6], [13174, 5], [44869, 0], [16745, 4], [21861, 5], [26674, 4], [6688, 6], [14726, 3], [31686, 1], [40038, 3], [22940, 2], [32586, 9], [17726, 7], [42846, 2], [24682, 5], [34740, 5], [43099, 9], [6005, 1], [31589, 3], [17309, 2], [41388, 4], [33936, 7], [35990, 2], [35127, 7], [49412, 9], [32494, 5], [21436, 2], [5583, 3], [44601, 0], [8565, 2], [14544, 1], [24877, 0], [26712, 2], [43156, 5], [32864, 8], [30098, 4], [26596, 0], [11499, 8], [29335, 5], [21561, 7], [1232, 6], [25532, 4], [29860, 0], [17192, 2], [32998, 0], [19748, 0], [22316, 3], [8234, 2], [17126, 6], [38803, 7], [45775, 0], [5136, 6], [32296, 4], [13740, 8], [4910, 8], [35957, 4], [11811, 6], [39902, 4], [20485, 4], [33752, 3], [45514, 4], [49285, 4], [19903, 8], [49035, 5], [6221, 8], [44139, 3], [32073, 0], [567, 5], [1747, 1], [45886, 5], [48874, 2], [15079, 7], [11678, 5], [10810, 4], [42039, 1], [34810, 9], [43509, 4], [20200, 6], [26237, 9], [29166, 1], [25625, 4], [6408, 2], [30885, 9], [2128, 3], [4332, 7], [399, 1], [5807, 9], [21583, 0], [44405, 3], [28599, 0], [24731, 9], [32698, 5], [20035, 1], [34260, 5], [2598, 5], [45650, 9], [17633, 5], [34732, 2], [21648, 7], [17269, 5], [15214, 3], [48351, 7], [17872, 6], [42439, 6], [49946, 1], [44224, 4], [10465, 3], [47898, 0], [1488, 0], [34288, 2], [24033, 5], [32240, 5], [34761, 4], [32990, 2], [34043, 8], [30990, 8], [45631, 4], [32688, 0], [34053, 2], [46176, 8], [46280, 4], [831, 5], [25935, 8], [2647, 1], [3852, 8], [42195, 7], [3958, 9], [41368, 3], [34803, 4], [7914, 5], [40865, 3], [13367, 4], [1592, 5], [17852, 4], [18479, 2], [26410, 1], [44645, 0], [21767, 1], [28411, 7], [12298, 1], [8859, 5], [20919, 8], [47177, 1], [20375, 9], [8334, 0], [16127, 1], [49189, 1], [43453, 5], [4816, 4], [29254, 8], [5216, 2], [6877, 6], [21441, 5], [21147, 6], [12748, 3], [47310, 8], [40275, 1], [22786, 3], [48239, 5], [30782, 6], [18791, 0], [3790, 9], [48164, 3], [48398, 5], [46193, 6], [30397, 4], [37706, 1], [35760, 8], [24589, 7], [43864, 3], [27850, 2], [6201, 0], [22094, 4], [25042, 1], [17297, 3], [33833, 7], [32432, 5], [3942, 8], [21981, 6], [12062, 0], [13576, 7], [6719, 9], [5888, 7], [2623, 1], [22340, 1], [6754, 9], [2072, 9], [19828, 1], [10979, 7], [24767, 8], [20748, 1], [17928, 6], [10642, 4], [13564, 1], [44653, 0], [11964, 0], [49560, 7], [37714, 5], [42257, 4], [45946, 4], [36806, 7], [11102, 2], [37534, 4], [47389, 3], [39482, 5], [19898, 6], [21129, 4], [5408, 8], [45824, 2], [28389, 3], [21641, 2], [42650, 6], [25213, 5], [41099, 9], [29563, 9], [42185, 1], [22801, 8], [15599, 0], [28233, 3], [45606, 5], [13200, 4], [21581, 7], [29457, 1], [6297, 8], [46512, 0], [11735, 7], [26762, 6], [31095, 7], [9007, 6], [14092, 3], [39552, 5], [17480, 2], [34057, 8], [45698, 5], [4033, 6], [8313, 5], [14073, 3], [7338, 5], [48604, 7], [18600, 4], [23814, 2], [37719, 2], [24390, 0], [4433, 2], [1987, 0], [27944, 7], [46886, 2], [3265, 7], [26078, 9], [26321, 5], [37817, 7], [11360, 0], [22659, 0], [14584, 4], [37840, 3], [23456, 5], [35781, 9], [7087, 0], [18361, 3], [1955, 0], [47870, 5], [9746, 9], [20895, 1], [35271, 5], [2587, 2], [1998, 4], [5291, 1], [4397, 3], [6197, 2], [27327, 8], [43394, 5], [39870, 2], [14393, 4], [9822, 3], [48236, 4], [47282, 8], [15741, 7], [44291, 9], [2444, 0], [13043, 0], [26343, 9], [46386, 7], [28808, 0], [39737, 7], [1319, 1], [31209, 1], [3707, 5], [18494, 6], [17984, 2], [33535, 5], [34226, 3], [20579, 6], [28530, 8], [16598, 3], [36457, 2], [16884, 5], [33996, 0], [7207, 8], [26381, 8], [17591, 9], [16193, 7], [29027, 0], [25218, 6], [30176, 2], [17025, 9], [41582, 7], [852, 7], [33560, 9], [25152, 4], [30854, 4], [47466, 2], [12629, 9], [13421, 4], [9087, 6], [17850, 0], [9485, 7], [6432, 9], [25128, 8], [48227, 1], [26967, 4], [24910, 7], [28342, 6], [13806, 1], [25681, 8], [9520, 2], [11316, 2], [3507, 4], [12227, 1], [14443, 3], [42374, 5], [5341, 7], [32462, 9], [40975, 2], [1048, 0], [16713, 4], [3109, 8], [2008, 9], [22547, 7], [38495, 5], [14002, 2], [21598, 8], [22422, 8], [3546, 3], [17974, 5], [49092, 8], [1361, 2], [13218, 3], [15168, 6], [34668, 0], [30428, 2], [45681, 5], [25350, 9], [28903, 6], [31305, 4], [32310, 4], [30965, 2], [29160, 5], [7218, 5], [878, 2], [12099, 5], [14641, 0], [11022, 3], [44925, 0], [25101, 9], [38419, 0], [20764, 0], [35292, 7], [10627, 5], [40472, 9], [16446, 9], [8801, 2], [22842, 7], [47116, 2], [28292, 7], [7196, 5], [12962, 0], [37235, 5], [43549, 0], [42475, 6], [29218, 2], [6388, 1], [34884, 0], [34719, 0], [28068, 9], [37108, 1], [16049, 0], [13767, 0], [49877, 6], [35902, 4], [23794, 2], [2523, 4], [28263, 1], [35830, 8], [600, 4], [25083, 3], [4117, 5], [20761, 0], [24902, 9], [44003, 8], [4526, 9], [2415, 4], [16863, 8], [24923, 4], [17381, 7], [44244, 1], [45714, 1], [20712, 7], [4786, 6], [4040, 0], [20742, 2], [6253, 8], [33649, 0], [28452, 3], [1530, 8], [20924, 5], [24082, 4], [20109, 6], [38618, 0], [44082, 6], [2228, 6], [27778, 5], [20806, 9], [24713, 1], [14606, 3], [43386, 1], [43867, 5], [11359, 6], [477, 5], [25894, 5], [40037, 7], [8190, 0], [25485, 5], [37739, 5], [44861, 0], [16460, 4], [28347, 5], [34419, 3], [39580, 9], [14077, 3], [41868, 9], [268, 4], [17113, 7], [2138, 8], [45464, 9], [22205, 5], [8430, 9], [3716, 8], [23340, 2], [39781, 2], [15158, 7], [15178, 0], [22144, 5], [29836, 8], [43717, 4], [16359, 7], [5304, 4], [38403, 5], [46081, 2], [34665, 5], [45260, 3], [19571, 1], [34135, 7], [7126, 9], [39247, 8], [34801, 7], [36783, 7], [25472, 7], [25403, 5], [16533, 7], [32017, 8], [10991, 5], [43153, 5], [47958, 6], [46283, 7], [15039, 6], [2181, 2], [9719, 0], [42883, 1], [37035, 1], [7548, 3], [12888, 8], [24974, 4], [7485, 2], [40416, 3], [15875, 5], [31657, 4], [48834, 4], [16142, 4], [5123, 6], [16283, 3], [36917, 8], [6803, 8], [17870, 8], [30960, 2], [2049, 2], [8023, 0], [1764, 7], [11718, 7], [6514, 4], [5481, 3], [6951, 3], [23391, 4], [7057, 3], [47362, 4], [41702, 8], [38507, 3], [21007, 1], [10690, 7], [1215, 7], [39991, 2], [18502, 7], [40868, 4], [13868, 9], [31220, 0], [28240, 3], [46234, 4], [32829, 0], [43499, 5], [27668, 7], [36901, 5], [5762, 5], [26514, 4], [31581, 3], [45397, 9], [10276, 4], [22593, 5], [36189, 9], [40330, 1], [18594, 2], [39876, 8], [360, 9], [16424, 1], [10029, 2], [19465, 6], [42667, 9], [7392, 9], [43236, 4], [41892, 3], [27040, 7], [8212, 7], [168, 8], [27011, 0], [48463, 5], [33338, 5], [32299, 7], [45924, 0], [31163, 8], [45078, 8], [7717, 6], [47368, 4], [1584, 3], [10644, 5], [25798, 5], [10813, 0], [49608, 9], [36419, 0], [42316, 5], [10373, 4], [24305, 4], [19858, 5], [15498, 4], [10652, 8], [5975, 7], [35402, 3], [909, 0], [40555, 0], [17549, 2], [20720, 4], [24989, 7], [20240, 2], [207, 5], [3576, 5], [23561, 0], [15092, 0], [4709, 7], [12529, 1], [28855, 2], [25489, 6], [35167, 9], [47692, 9], [15027, 0], [10900, 7], [14366, 2], [16251, 5], [49507, 4], [44087, 3], [14999, 1], [43366, 1], [13792, 4], [6757, 5], [292, 6], [26886, 5], [21743, 3], [7909, 0], [40913, 7], [12792, 7], [26536, 3], [36908, 1], [34372, 9], [38046, 4], [11271, 5], [12178, 0], [8269, 4], [48234, 2], [36633, 2], [24465, 5], [26219, 0], [48392, 0], [10229, 9], [7300, 3], [29731, 6], [28030, 9], [46179, 6], [15024, 4], [13345, 1], [14884, 4], [46730, 5], [36042, 6], [14431, 6], [72, 5], [2906, 5], [14483, 9], [15541, 3], [21189, 5], [12631, 6], [38127, 8], [34486, 6], [29460, 4], [16976, 2], [25697, 2], [8502, 2], [42072, 1], [41787, 2], [17077, 3], [32763, 8], [47774, 1], [25242, 5], [33660, 0], [27574, 6], [28478, 5], [37866, 3], [35474, 6], [36057, 5], [1746, 7], [38132, 3], [17745, 1], [33052, 3], [44573, 4], [15848, 7], [48772, 4], [3428, 3], [16377, 5], [8413, 8], [4587, 9], [27844, 2], [11867, 2], [2272, 5], [39422, 5], [49790, 2], [28812, 8], [19094, 9], [10889, 8], [13714, 1], [34356, 7], [44600, 5], [34325, 5], [38579, 7], [31340, 5], [35837, 2], [2500, 6], [43086, 9], [18862, 2], [44020, 3], [37717, 3], [33400, 8], [23615, 1], [48292, 0], [29620, 9], [36051, 1], [12189, 0], [3205, 2], [48469, 7], [35968, 1], [41179, 7], [20082, 5], [22868, 8], [36465, 7], [13384, 8], [34795, 6], [41140, 9], [10712, 2], [1610, 3], [17991, 5], [30120, 7], [2818, 4], [30544, 6], [16008, 1], [11630, 2], [4665, 9], [28213, 9], [24750, 5], [11019, 6], [37605, 4], [15747, 6], [1247, 7], [16192, 6], [17531, 4], [34118, 5], [38711, 5], [45300, 9], [6275, 3], [12157, 6], [77, 4], [37044, 3]]\n",
      "[[41233, 9], [21211, 3], [33509, 4], [11536, 3], [11555, 9], [5309, 2], [47676, 4], [44690, 9], [8655, 2], [21317, 5], [44719, 2], [25975, 2], [47296, 4], [2978, 5], [26177, 6], [49916, 2], [25747, 5], [29048, 9], [30485, 0], [20640, 4], [5847, 1], [35675, 1], [25416, 8], [7108, 5], [31991, 2], [34509, 7], [31830, 6], [32307, 1], [47608, 9], [48121, 2], [48077, 2], [44090, 2], [2796, 5], [42793, 9], [42854, 2], [42318, 1], [29830, 3], [16146, 2], [24255, 4], [6276, 4], [2006, 3], [38622, 9], [20078, 9], [41283, 2], [38693, 5], [31930, 2], [14573, 7], [21838, 0], [37498, 2], [16177, 0], [35252, 2], [45321, 3], [43469, 8], [1107, 1], [2892, 4], [24099, 9], [1395, 1], [8976, 3], [7803, 8], [28907, 1], [24157, 2], [34846, 4], [31004, 6], [44747, 7], [7265, 0], [5161, 2], [7962, 0], [30165, 3], [46626, 2], [45859, 3], [45493, 3], [32769, 4], [33376, 9], [19000, 9], [15659, 0]]\n",
      "[[35395, 3], [766, 5], [7252, 5], [36104, 9], [38071, 0], [33929, 7], [19471, 4], [48493, 9], [3644, 2], [49568, 4], [47556, 9], [28594, 1], [17175, 0], [46812, 3], [9238, 9], [9473, 4], [1598, 6], [5994, 3], [19977, 0], [8278, 1], [16568, 2], [10578, 9], [18700, 3], [24430, 7], [44431, 2], [17164, 6], [29506, 5], [42630, 1], [38051, 9], [23549, 0], [32045, 2], [30651, 3], [49549, 1], [20861, 4], [33877, 3], [12475, 9], [44850, 5], [18964, 3], [10594, 8], [12004, 6], [7041, 0], [42376, 3], [14822, 5], [14600, 0], [47288, 1], [15545, 3], [21779, 2], [11739, 3], [40188, 9], [32851, 9], [11309, 1], [977, 0], [5411, 0], [24196, 7], [25159, 9], [36272, 8], [23037, 1], [30787, 2], [10567, 7], [15657, 6], [36184, 7], [47747, 0], [39490, 0], [6612, 7], [48279, 4], [15589, 5], [25720, 7], [6355, 2], [7583, 8], [32101, 9], [10011, 4], [3074, 7], [32355, 7], [859, 8], [13426, 9], [11581, 6], [26780, 3], [46144, 4], [24392, 6], [326, 4], [49730, 8], [12127, 9], [37320, 0], [29073, 9], [29947, 1], [39626, 3], [37630, 4], [43488, 2], [314, 1], [6261, 2], [1106, 9], [20135, 3], [12398, 7], [35039, 6], [42016, 9], [7971, 7], [13964, 0], [28282, 6], [48148, 2], [12983, 1], [49806, 1], [33669, 1], [10287, 0], [40632, 4], [44429, 4], [49808, 6], [24862, 7], [46103, 4], [14147, 3], [45354, 3], [932, 9], [27008, 1], [48386, 3], [24795, 1], [46485, 4], [1629, 6], [47618, 7], [27305, 5], [12367, 9], [40237, 7], [37502, 3], [38909, 3], [321, 0], [4779, 3], [49211, 9], [29348, 7], [49748, 5], [40410, 8], [48649, 3], [9909, 6], [8309, 6], [40821, 7], [29995, 8], [45882, 6], [36303, 0], [39983, 3], [49920, 0], [34957, 3], [17576, 1], [16032, 7], [30921, 6], [5386, 5], [34516, 4], [49855, 6], [39187, 4], [34125, 4], [37247, 9], [26433, 4], [23049, 6], [31080, 2], [35304, 0], [11940, 2], [25544, 5], [34858, 7], [36537, 9], [33105, 3], [31727, 8], [9423, 3], [39128, 0], [18215, 9], [6605, 3], [43004, 6], [32125, 7], [16750, 2], [16558, 3], [40972, 7], [32241, 0], [3357, 4], [21261, 8], [42193, 2], [14229, 0], [47374, 1], [36281, 1], [39937, 1], [23622, 7], [11256, 3], [14920, 4], [27885, 9], [4759, 8], [36775, 9], [44609, 1], [43092, 0], [12604, 0], [23084, 0], [5582, 3], [16988, 8], [38466, 7], [8765, 2], [42128, 8], [11948, 3], [44032, 4], [9491, 4], [43746, 5], [22831, 6], [16289, 9], [45371, 0], [47580, 8], [18911, 7], [43170, 8], [4238, 1], [11908, 6], [41589, 0], [39303, 0], [34513, 3], [34766, 2], [40682, 6], [35058, 7], [4396, 2], [40381, 4], [41165, 7], [29327, 3], [44417, 6], [25820, 2], [40356, 2], [8035, 9], [46072, 7], [42953, 9], [39950, 4], [21518, 2], [34703, 4], [9152, 3], [32693, 8], [11221, 9], [37410, 3], [23335, 6], [13683, 6], [21056, 0], [24720, 2], [20757, 6], [47152, 7], [19880, 0], [46219, 8], [21839, 4], [14232, 6], [24468, 0], [35795, 2], [36962, 3], [37499, 6], [45733, 3], [49031, 0], [2377, 2], [43133, 4], [6642, 6], [16050, 9], [33579, 7], [3364, 6], [44174, 3], [29846, 4], [12578, 8], [43257, 1], [31528, 6], [20595, 3], [30001, 8], [19196, 7], [18247, 5], [42990, 4], [12691, 2], [30868, 5], [10941, 2], [22955, 9], [29761, 0], [40592, 8], [5797, 4], [3295, 5], [9168, 7], [46456, 1], [1744, 9], [42213, 4], [35384, 0], [15851, 6], [23733, 3], [31057, 3], [24391, 5], [5899, 3], [41048, 3], [33135, 2], [135, 1], [697, 9], [26868, 7], [38081, 8], [18561, 4], [6417, 7], [25302, 9], [3919, 0], [22934, 6], [13214, 8], [33483, 0], [38722, 3], [3326, 9], [4210, 8], [40833, 1], [913, 0], [20545, 0], [13015, 1], [35375, 8], [26879, 7], [28266, 8], [1556, 0], [41816, 0], [5702, 9], [40432, 1], [19257, 0], [41243, 0], [31925, 2], [35197, 9], [21990, 7], [19366, 4], [8825, 3], [29076, 9], [4682, 3], [17533, 0], [10533, 2], [42043, 6], [44592, 0], [42156, 0], [26916, 6], [29780, 3], [46288, 9], [44633, 2], [33337, 4], [11334, 9], [25404, 2], [35427, 1], [6659, 9], [13448, 5], [3750, 0], [26703, 3], [6471, 5], [41880, 4], [48711, 3], [11076, 2], [21180, 8], [22367, 6], [36959, 9], [33586, 4], [30170, 6], [4288, 6], [7766, 2], [48659, 7], [35276, 7], [27940, 6], [1513, 7], [21740, 5], [24156, 2], [38000, 1], [1132, 5], [26274, 2], [5470, 0], [29373, 2], [18315, 4], [10131, 3], [48571, 1], [49002, 2], [48160, 0], [1523, 1], [41670, 2], [43680, 8], [14747, 2], [34785, 0], [28453, 9], [29895, 3], [2659, 0], [18340, 5], [41475, 2], [12200, 0], [32874, 7], [20084, 7], [8992, 3], [12470, 5], [8354, 4], [29140, 3], [32964, 7], [2666, 9], [9374, 3], [16230, 1], [38190, 6], [20525, 4], [39268, 2], [48000, 3], [26498, 2], [3135, 2], [1347, 5], [45455, 3], [43314, 4], [11074, 0], [1316, 7], [15862, 0], [17720, 5], [44033, 3], [28910, 6], [46356, 1], [7600, 9], [32238, 7], [14880, 9], [33616, 9], [15976, 0], [32930, 3], [22194, 8], [3334, 4], [38084, 9], [34117, 1], [4841, 5], [32137, 7], [42113, 7], [19684, 3], [12731, 5], [28219, 7], [8968, 6], [47709, 1], [1129, 5], [43829, 8], [28433, 6], [11069, 7], [41294, 4], [26701, 5], [15648, 9], [15897, 9], [2510, 3], [47966, 8], [48686, 3], [13910, 7], [39119, 6], [44441, 7], [14846, 4], [46906, 9], [45528, 8], [8289, 0], [16473, 5], [26025, 7], [48428, 9], [45691, 9], [44143, 6], [15490, 3], [30013, 1], [9367, 8], [9670, 0], [23923, 8], [40626, 0], [14498, 4], [8956, 3], [41960, 0], [43145, 4], [42998, 6], [38845, 1], [9235, 3], [33116, 2], [5735, 5], [15394, 5], [17721, 2], [133, 5], [13761, 3], [24811, 2], [29156, 5], [246, 2], [38232, 2], [35812, 4], [26654, 7], [38967, 5], [21381, 6], [4368, 6], [23578, 0], [33497, 3], [45956, 0], [24310, 4], [7744, 7], [46745, 6], [39024, 4], [36220, 4], [34296, 0], [47132, 3], [7520, 7], [17972, 9], [44006, 1], [14607, 1], [48607, 1], [10298, 8], [10462, 9], [1937, 9], [32619, 6], [11713, 9], [17125, 5], [32106, 9], [41710, 3], [34571, 1], [6000, 3], [22494, 1], [44392, 3], [22086, 9], [22649, 5], [6898, 9], [43267, 9], [34558, 4], [22722, 7], [29775, 8], [13459, 5], [48047, 4], [25976, 9], [40976, 4], [19941, 0], [39886, 1], [10759, 0], [32145, 6], [14230, 4], [657, 5], [10849, 3], [48262, 3], [40131, 7], [46495, 1], [15563, 3], [35114, 4], [43749, 3], [7191, 0], [48861, 8], [30622, 9], [26799, 5], [14704, 3], [1229, 2], [27779, 2], [17168, 9], [34127, 3], [4014, 3], [739, 6], [17212, 3], [26808, 3], [31252, 4], [8246, 3], [46410, 4], [23117, 6], [6741, 9], [5935, 3], [20912, 1], [49132, 5], [11299, 3], [24868, 9], [29822, 4], [37723, 8], [39537, 6], [40258, 3], [27565, 3], [38368, 3], [18045, 1], [40533, 2], [12030, 3], [15645, 6], [12039, 6], [17711, 5], [22268, 8], [26971, 3], [39692, 3], [39481, 3], [25069, 1], [29831, 9], [12575, 4], [3030, 2], [39676, 1], [5054, 4], [36244, 2], [8149, 3], [3726, 6], [1275, 2], [6740, 4], [28688, 7], [18991, 3], [20758, 5], [28721, 5], [23216, 6], [21480, 3], [21354, 2], [22620, 1], [7897, 7], [13375, 6], [40838, 6], [1875, 5], [15296, 2], [20140, 7], [32778, 6], [43564, 0], [36118, 2], [45537, 2], [11916, 5], [48667, 1], [4820, 6], [5838, 6], [25364, 7], [18098, 1], [34783, 2], [45761, 7], [16458, 9], [46547, 2], [36231, 3], [45270, 5], [21807, 4], [48596, 7], [24336, 1], [39389, 8], [28355, 9], [39833, 9], [8839, 5], [9506, 3], [24056, 0], [46222, 5], [7331, 5], [11387, 0], [2614, 3], [48787, 8], [39013, 4], [1416, 6], [11166, 0], [12060, 1], [23903, 4], [48565, 9], [47571, 9], [24624, 8], [49633, 4], [22304, 3], [40422, 7], [31695, 1], [26865, 4], [10248, 9], [18390, 9], [29468, 3], [43639, 2], [15738, 3], [17616, 9], [30232, 3], [23096, 9], [3382, 7], [44060, 0], [13014, 2], [10474, 0], [39304, 5], [43268, 8], [28696, 1], [9545, 8], [35013, 1], [45616, 1], [39872, 3], [41619, 9], [37698, 2], [43847, 2], [49127, 1], [43222, 3], [9537, 6], [18002, 4], [48018, 0], [13292, 7], [23062, 3], [983, 3], [14196, 5], [43449, 8], [7551, 1], [3817, 8], [42149, 1], [24216, 0], [10418, 3], [19035, 7], [4666, 9], [12371, 4], [39548, 5], [49987, 5], [44966, 6], [20478, 4], [48714, 3], [7124, 4], [17300, 5], [5712, 5], [19664, 7], [35193, 2], [45277, 3], [18415, 9], [47451, 8], [30104, 0], [12901, 7], [42189, 0], [16719, 6], [18655, 1], [40777, 8], [39801, 7], [17877, 2], [12292, 1], [9583, 9], [23650, 0], [1467, 2], [20380, 1], [41696, 3], [39290, 2], [41158, 4], [7409, 2], [24544, 6], [13574, 4], [38004, 5], [42627, 3], [49125, 6], [19231, 1], [33034, 3], [37702, 3], [18827, 2], [3379, 2], [6592, 7], [45559, 1], [35706, 8], [24016, 9], [5760, 4], [7433, 9], [28251, 4], [18534, 9], [36903, 5], [46930, 3], [43815, 0], [14027, 9], [15081, 3], [31217, 1], [28836, 4], [4539, 6], [2352, 5], [21088, 7], [47235, 3], [7640, 3], [47846, 5], [6423, 2], [2830, 0], [43761, 4], [28898, 9], [32824, 9], [2610, 7], [2271, 8], [28685, 5], [6150, 5], [12514, 8], [7000, 7], [6807, 9], [4430, 6], [39308, 0], [13844, 7], [28184, 2], [2890, 4], [5971, 6], [32255, 7], [17598, 5], [30097, 3], [34119, 5], [151, 4], [47143, 6], [9108, 3], [5083, 3], [44894, 7], [20142, 8], [1600, 0], [26056, 0], [34548, 9], [37537, 9], [37556, 7], [8705, 2], [26383, 4], [1029, 0], [22817, 0], [30230, 7], [27288, 4], [4762, 6], [375, 5], [22574, 2], [21848, 7], [44490, 0], [11793, 9], [16958, 5], [7018, 4], [16154, 3], [18484, 5], [25383, 3], [7130, 0], [37355, 0], [35999, 7], [10725, 1], [48270, 8], [48972, 8], [7779, 1], [40157, 5], [46131, 5], [26529, 0], [33740, 0], [38716, 4]]\n",
      "[[32131, 3], [1370, 8], [26359, 9], [3006, 5], [59, 3], [28225, 2], [18864, 3], [27771, 1], [45042, 4], [6445, 1], [24180, 2], [2579, 7], [12400, 8], [6521, 9], [16388, 5], [47642, 4], [40278, 9], [2293, 3], [6865, 9], [29638, 7], [4754, 6], [12855, 3], [25693, 9], [45744, 3], [31024, 2], [17779, 3], [18148, 1], [33970, 2], [34934, 5], [4620, 2], [17581, 9], [23670, 9], [39809, 7], [41674, 0], [28582, 3], [40106, 8], [49846, 3], [15910, 1], [36726, 7], [11686, 3], [29459, 5], [13305, 9], [35712, 4], [33156, 5], [10173, 4], [5267, 2], [3131, 3], [46486, 6], [36443, 3], [16913, 0], [45677, 4], [20775, 8], [21470, 1], [32336, 3], [12467, 3], [25701, 5], [1683, 4], [12042, 3], [11560, 6], [2536, 6], [704, 3], [49123, 0], [21431, 0], [4974, 2], [2595, 9], [43941, 9], [16114, 4], [33011, 5], [42191, 2], [6055, 0], [11801, 9], [988, 2], [13594, 3], [39285, 6], [16219, 2], [9282, 5], [20362, 1], [13987, 6], [25740, 1], [34678, 9], [40645, 6], [32050, 8], [27950, 1], [3501, 4], [33517, 4], [8660, 4], [48391, 7], [34920, 9], [26872, 3], [29341, 1], [10299, 7], [27246, 8], [37131, 3], [41686, 8], [38784, 2], [46177, 2], [22291, 1], [1295, 3], [32880, 3], [16136, 9], [38725, 8], [25845, 5], [9973, 5], [29774, 4], [49191, 2], [25654, 2], [21372, 0], [21976, 3], [14551, 3], [16754, 4], [17942, 1], [47549, 6], [42730, 5], [5552, 5], [1008, 9], [21802, 0], [10226, 2], [44728, 5], [37528, 5], [44290, 4], [34529, 1], [43107, 5], [19236, 7], [38619, 6], [13038, 2], [19066, 1], [46109, 1], [7629, 9], [21293, 3], [20148, 0], [17489, 4], [32072, 4], [45169, 6], [30384, 3], [32530, 5], [36131, 9], [46997, 9], [17580, 2], [3879, 3], [39842, 9], [20529, 7], [43857, 8], [21455, 2], [49355, 5], [49634, 5], [10077, 2], [17033, 8], [16245, 6], [44274, 8], [40882, 3], [353, 4], [29534, 9], [11454, 4], [49326, 8], [39566, 1], [21903, 6], [41658, 3], [37457, 1], [31766, 4], [21125, 4], [17892, 5], [14921, 6], [48165, 2], [32976, 1], [14233, 7], [31260, 6], [31302, 4], [41660, 1], [16882, 4], [37613, 4], [6802, 8], [4511, 7], [44988, 8], [25066, 9], [38259, 2], [49499, 0], [28143, 2], [29212, 7], [3118, 1], [40793, 8], [41169, 4], [13377, 0], [17146, 9], [46922, 1], [6465, 2], [38671, 0], [914, 0], [25696, 2], [6070, 2], [7173, 3], [30567, 7], [1676, 3], [24421, 2], [21997, 4], [40437, 6], [7639, 4], [25869, 2], [5990, 1], [35409, 7], [18106, 6], [25668, 4], [16827, 5], [34723, 9], [41697, 9], [28004, 5], [25968, 5], [23154, 2], [39514, 5], [19767, 6], [37413, 3], [12973, 0], [14780, 2], [8952, 8], [10685, 3], [7219, 6], [4881, 4], [11046, 5], [20310, 3], [4571, 1], [14041, 1], [379, 9], [6334, 1], [41528, 3], [24259, 5], [20706, 4], [42487, 8], [36113, 0], [9149, 0], [13497, 8], [46843, 2], [4683, 8], [15572, 7], [5429, 4], [8543, 4], [21609, 6], [14909, 5], [10413, 3], [24765, 9], [41420, 6], [39370, 9], [25925, 4], [15903, 5], [47377, 0], [43896, 5], [24482, 0], [30167, 4], [39964, 5], [44301, 4], [17498, 2], [49489, 3], [43802, 4], [5272, 3], [40670, 5], [20575, 3], [3860, 7], [46967, 1], [35481, 5], [18729, 4], [11787, 7], [3837, 5], [23266, 8], [46624, 7], [11377, 8], [29085, 7], [40270, 9], [19441, 7], [44568, 6], [38027, 6], [13374, 8], [1940, 3], [41314, 8], [40451, 6], [8404, 4], [41210, 6], [34428, 6], [22203, 6], [33780, 9], [8999, 3], [5785, 2], [43037, 2], [28791, 7], [35300, 6], [10800, 6], [42271, 5], [35578, 8], [25131, 4], [34079, 4], [6582, 6], [34424, 7], [23931, 3], [13533, 1], [3026, 7], [6343, 1], [45870, 3], [3403, 2], [35949, 3], [41422, 9], [8518, 0], [45554, 2], [31884, 2], [35756, 4], [1493, 2], [17087, 6], [27518, 5], [26363, 3], [12799, 0], [38742, 3], [22665, 4], [25165, 6], [25595, 3], [48313, 0], [49625, 6], [44311, 0], [46533, 5], [47381, 1], [37314, 1], [46946, 2], [9967, 5], [11082, 7], [13857, 3], [16469, 6], [32985, 4], [9076, 0], [34254, 4], [28396, 6], [36904, 1], [5391, 0], [22969, 3], [35086, 9], [5293, 3], [201, 5], [9243, 8], [30153, 6], [28010, 7], [45016, 2], [31183, 9], [2497, 6], [38075, 1], [31137, 3], [36935, 0], [38664, 6], [49028, 9], [46545, 6], [43767, 5], [22029, 0], [30882, 6], [42101, 1], [691, 8], [31117, 3], [44424, 5], [48208, 4], [38376, 3], [37395, 8], [3415, 1], [49677, 5], [30007, 3], [44676, 7], [38154, 6], [30370, 3], [26979, 5], [19986, 1], [25171, 9], [4082, 4], [15165, 1], [35981, 4], [42702, 2], [34922, 7], [27789, 8], [17865, 2], [28400, 3], [45899, 5], [28331, 1], [48666, 8], [43205, 2], [33053, 5], [37855, 4], [9986, 6], [30482, 0], [27428, 9], [20257, 9], [43359, 8], [27902, 2], [34404, 9], [8050, 6], [39673, 7], [452, 3], [6540, 5], [11871, 1], [23554, 6], [26159, 8], [23532, 5], [17869, 5], [49680, 4], [44484, 3], [5724, 7], [13343, 2], [42038, 1], [3107, 2], [44415, 6], [29303, 6], [7733, 3], [27619, 5], [7180, 3], [7622, 5], [9276, 7], [23305, 8], [36160, 3], [44630, 3], [132, 4], [34171, 4], [42278, 7], [49183, 3], [43563, 6], [40247, 4], [7580, 9], [38220, 5], [24332, 9], [15768, 4], [47035, 4], [37014, 3], [9925, 2], [42145, 0], [15142, 4], [22791, 5], [21734, 0], [13694, 5], [19221, 9], [23937, 0], [42133, 2], [1188, 8], [7201, 9], [16152, 9], [26395, 8], [35464, 9], [27391, 3], [39840, 3], [45917, 1], [24159, 5], [27573, 0], [29668, 1], [43972, 8], [29132, 8], [12176, 6], [1005, 2], [829, 0], [39212, 6], [45818, 2], [2944, 5], [31535, 9], [33341, 9], [24961, 5], [28797, 8], [1495, 2], [44435, 3], [48867, 6], [42224, 2], [21283, 0], [27974, 9], [24613, 8], [21725, 5], [14224, 1], [37305, 4], [30118, 1], [28271, 0], [49496, 7], [26539, 6], [29151, 3], [42460, 0], [11047, 6], [46148, 6], [36394, 0], [20996, 9], [38531, 2], [9003, 4], [19376, 4], [357, 8], [14617, 2], [3571, 8], [33914, 4], [49667, 3], [15652, 1], [6142, 4], [23691, 4], [20269, 7], [34705, 4], [46509, 4], [27727, 4], [38293, 1], [34313, 3], [7843, 0], [43190, 3], [12634, 3], [3975, 0], [41448, 1], [12387, 5], [5334, 5], [6621, 0], [9366, 3], [15839, 9], [38535, 5], [22445, 6], [17171, 8], [31712, 8], [20664, 8], [49337, 5], [762, 8], [28455, 4], [26174, 9], [25888, 2], [26832, 8], [25657, 6], [37284, 3], [39623, 6], [33605, 1], [27183, 0], [12974, 2], [15063, 1], [8639, 0], [45583, 6], [39210, 6], [33035, 8], [41984, 4], [4771, 3], [19696, 6], [6967, 9], [38760, 4], [41238, 4], [10003, 6], [13251, 6], [22184, 5], [6560, 8], [45457, 0], [40962, 1], [41786, 5], [4554, 1], [46544, 1], [48453, 0], [11438, 6], [2102, 9], [41278, 0], [42287, 0], [6875, 9], [24770, 2], [15661, 5], [24306, 8], [42414, 3], [2324, 5], [8609, 3], [49647, 3], [35017, 8], [49228, 3], [43892, 6], [14936, 1], [576, 6], [29242, 1], [8750, 2], [29845, 2], [33804, 1], [34617, 7], [22182, 9], [43760, 2], [23122, 1], [32993, 2], [25947, 4], [39464, 6], [11201, 4], [15196, 1], [27369, 3], [6516, 2], [32452, 9], [12690, 0], [34532, 5], [25032, 5], [42056, 4], [13917, 6], [23435, 2], [26766, 1], [44140, 8], [25533, 4], [29094, 0], [1454, 2], [27527, 5], [29106, 0], [20789, 7], [4249, 1], [39366, 3], [33074, 6], [19064, 7], [21120, 3], [39129, 6], [8861, 2], [3921, 7], [45968, 9], [9486, 0], [31085, 2], [17651, 6], [1240, 5], [25836, 3], [20656, 0], [21365, 5], [21404, 6], [39542, 8], [43100, 3], [30831, 5], [38159, 4], [8811, 3], [22708, 9], [2775, 0], [12049, 3], [13722, 9], [47542, 2], [6989, 4], [45550, 2], [18828, 0], [21880, 5], [25356, 2], [38448, 6], [38366, 2], [21311, 9], [5694, 1], [21824, 1], [14189, 3], [49902, 9], [24528, 0], [13854, 0], [7716, 7], [11563, 1], [39015, 3], [7565, 8], [30016, 6], [15120, 9], [14513, 4], [10598, 8], [44897, 8], [41066, 5], [37592, 9], [41749, 8], [25890, 2], [49261, 9], [27539, 1], [15583, 5], [22913, 5], [47008, 2], [35428, 2], [30671, 8], [1214, 0], [9127, 4], [10509, 8], [36320, 6], [32811, 4], [30364, 6], [33527, 2], [30451, 9], [15721, 8], [48230, 5], [3206, 1], [43663, 2], [22939, 6], [10773, 7], [36188, 6], [8850, 8], [24366, 5], [12402, 3], [19570, 2], [17583, 7], [20770, 3], [16737, 1], [28123, 1], [45834, 1], [28324, 3], [26095, 7], [38182, 1], [30244, 2], [27604, 6], [33424, 6], [11545, 8], [24105, 4], [18288, 1], [41659, 4], [2770, 5], [36887, 2], [36594, 3], [15279, 1], [9164, 7], [7216, 5], [2461, 8], [31733, 1], [12130, 7], [48965, 1], [35010, 0], [40895, 3], [9885, 3], [33753, 5], [31248, 1], [46822, 7], [40473, 6], [48281, 9], [36830, 9], [39351, 6], [26723, 1], [12242, 6], [22560, 1], [40630, 2], [43511, 2], [46314, 4], [13951, 2], [44673, 0], [10707, 7], [3355, 3], [23188, 6], [19800, 7], [43027, 4], [18831, 5], [35381, 4], [46096, 6], [38985, 4], [44865, 9], [34023, 6], [31177, 6], [18854, 5], [47438, 1], [41976, 5], [46695, 7], [6495, 7], [3694, 0], [46645, 6], [29207, 2], [14603, 9], [15922, 3], [19102, 4], [12540, 0], [30017, 2], [43540, 4], [22871, 2], [48452, 5], [8030, 2], [14369, 4], [28531, 3], [1030, 4], [20719, 4], [33117, 6], [46690, 3], [35980, 2], [4524, 5], [7013, 6], [28643, 5], [46347, 1], [48980, 7], [14615, 9], [3578, 5], [930, 0], [36947, 4], [42174, 3], [19373, 5], [8040, 3], [13080, 8], [27692, 0], [5813, 9], [26179, 4], [4175, 9], [398, 8], [9628, 0], [47874, 7], [29486, 9], [27923, 8], [30517, 7], [41088, 5], [9062, 2], [14680, 1], [47698, 9], [31076, 7], [46343, 3], [36582, 8], [47886, 8], [47137, 6], [9308, 2], [23845, 1], [12802, 9], [24061, 1], [26698, 5], [7399, 3], [43935, 1], [26347, 9], [44734, 6], [29861, 5], [19404, 4], [1622, 6], [46362, 2], [2582, 2], [47797, 2], [25151, 1], [43017, 5], [11752, 1], [23479, 6], [24095, 7], [4398, 2], [7079, 0], [28750, 9], [47689, 3], [41196, 3], [41330, 5], [27613, 4], [20271, 1], [39582, 3], [79, 4], [38325, 6], [2688, 7], [8549, 1], [17000, 0], [2774, 3], [26988, 8], [5662, 0], [22380, 2], [16189, 3], [17662, 3], [27156, 0], [40852, 5], [25158, 4], [3367, 6], [11086, 7], [25123, 9], [34565, 4], [5704, 3], [850, 9], [29456, 6], [42926, 4], [11794, 4], [15318, 0], [8506, 8], [6047, 4], [17907, 9], [11535, 7], [16503, 5], [7647, 2], [19854, 0], [33414, 6], [2914, 3], [5775, 5], [25183, 1], [33004, 6], [1612, 4], [13811, 7], [2186, 4], [47010, 9], [49204, 4], [16528, 8], [39170, 3], [23976, 3], [38849, 3], [8720, 4], [25565, 2], [39618, 3], [40327, 6], [47591, 6], [4623, 3], [31184, 6], [1509, 9], [12726, 2], [39133, 7], [12741, 7], [31381, 7], [45261, 1], [11066, 4], [7127, 2], [33523, 2], [22768, 5], [3762, 1], [45056, 9], [5366, 1], [6156, 4], [17622, 9], [18337, 9], [39680, 5], [27490, 0], [43636, 6], [19336, 0], [3108, 2], [6960, 4], [21041, 6], [29765, 1], [39143, 3], [35321, 5], [16659, 9], [32721, 5], [48359, 0], [34832, 5], [33120, 5], [15849, 5], [1441, 9], [17625, 1], [57, 6], [37781, 5], [42372, 2], [31592, 9], [278, 7], [39778, 8], [6132, 5], [31509, 8], [28539, 9], [30150, 0], [14796, 5], [42071, 5], [33351, 4], [48204, 5], [10171, 5], [26485, 4], [17100, 4], [32594, 2], [25317, 7], [40091, 3], [10625, 3], [25304, 0], [38101, 2], [13121, 5], [40620, 6], [42054, 5], [17433, 3], [19079, 2], [18792, 3], [5924, 7], [10280, 4], [41526, 4], [46942, 8], [5865, 7], [7584, 3], [27376, 5], [45914, 3], [26489, 6], [17237, 9], [40816, 4], [400, 0], [6981, 0], [23889, 9], [41571, 1], [37417, 7], [456, 5], [12796, 0], [9086, 6], [24993, 3], [43928, 9], [7762, 9], [41899, 7], [8959, 6], [1463, 3], [10552, 9], [9398, 3], [21608, 7], [26339, 3], [14463, 1], [8964, 4], [49605, 5], [23434, 0], [12281, 2], [2393, 5], [28280, 5], [1288, 1], [17588, 9], [49784, 6], [19709, 2], [11480, 4], [41874, 6], [41104, 3], [29853, 3], [32866, 5], [48315, 7], [11128, 5], [45976, 7], [36179, 2], [21182, 6], [5711, 2], [5376, 7], [36226, 3], [27765, 9], [14313, 2], [16666, 8], [45614, 0], [5728, 1], [4220, 5], [28211, 0], [42235, 4], [17114, 3], [43128, 0], [23786, 2], [30151, 5], [47911, 6]]\n"
     ]
    }
   ],
   "source": [
    "for k,(i,j) in enumerate(unique_images_dict.items()):\n",
    "    print(j)\n",
    "    if k==5:\n",
    "        break"
   ]
  },
  {
   "cell_type": "code",
   "execution_count": null,
   "metadata": {},
   "outputs": [
    {
     "name": "stderr",
     "output_type": "stream",
     "text": [
      "Processing keys: 100%|██████████| 10000/10000 [12:16<00:00, 13.59it/s]\n"
     ]
    }
   ],
   "source": [
    "# Process each key in similar_images_dict with tqdm\n",
    "for key, similar_images in tqdm(unique_images_dict.items(), desc=\"Processing keys\"):\n",
    "    \n",
    "    test_feature = torch.tensor(ds_feature['test'][key[0]]['features'])\n",
    "    # Process each similar image for the current key with tqdm\n",
    "    for i, image in tqdm(enumerate(similar_images), desc=f\"Processing similar images for key {key[0]}\", leave=False):\n",
    "        # Assuming image is a list/tuple with at least four elements\n",
    "        train_feature = torch.tensor(ds_feature['train'][image[0]]['features'])\n",
    "        \n",
    "        # Calculate cosine similarity and store it\n",
    "        similarity_score = F.cosine_similarity(test_feature, train_feature, dim=0)\n",
    "        image = list(image[:2])  # Make a copy to modify\n",
    "        # Append the similarity score to the copied list\n",
    "        image.append(similarity_score.item())\n",
    "        \n",
    "        # Update the original list in similar_images\n",
    "        similar_images[i] = image[:3]\n",
    "        "
   ]
  },
  {
   "cell_type": "code",
   "execution_count": null,
   "metadata": {},
   "outputs": [
    {
     "data": {
      "text/plain": [
       "10000"
      ]
     },
     "metadata": {},
     "output_type": "display_data"
    }
   ],
   "source": [
    "len(unique_images_dict.keys())"
   ]
  },
  {
   "cell_type": "markdown",
   "metadata": {},
   "source": [
    "### Evaluate"
   ]
  },
  {
   "cell_type": "code",
   "execution_count": null,
   "metadata": {},
   "outputs": [
    {
     "name": "stderr",
     "output_type": "stream",
     "text": [
      "Calculating metrics: 10000it [00:01, 6623.11it/s]          "
     ]
    },
    {
     "name": "stdout",
     "output_type": "stream",
     "text": [
      "Mean Average Precision (mAP): 0.7755063350586736\n",
      "Precision@10: 0.6174917491749176\n",
      "Precision@50: 0.3157375737573757\n"
     ]
    },
    {
     "name": "stderr",
     "output_type": "stream",
     "text": [
      "\n"
     ]
    }
   ],
   "source": [
    "# Define functions to calculate Average Precision (AP) and Precision@K\n",
    "def average_precision(predictions, targets):\n",
    "    relevant_indices = (targets == 1).nonzero(as_tuple=True)[0]\n",
    "    if len(relevant_indices) == 0:\n",
    "        return 0.0\n",
    "\n",
    "    precisions = []\n",
    "    for i, idx in enumerate(relevant_indices, start=1):\n",
    "        precision_at_i = (targets[:idx + 1].sum() / (idx + 1)).item()\n",
    "        precisions.append(precision_at_i)\n",
    "\n",
    "    return sum(precisions) / len(precisions)\n",
    "\n",
    "def precision_at_k(predictions, targets, k):\n",
    "    top_k_indices = torch.argsort(predictions, descending=True)[:k]\n",
    "    top_k_relevant = targets[top_k_indices].sum().item()\n",
    "    return top_k_relevant / k\n",
    "\n",
    "# Prepare lists to store metric scores\n",
    "map_scores = []\n",
    "precision_10_scores = []\n",
    "precision_50_scores = []\n",
    "\n",
    "# Example: Iterate over your dataset to calculate metrics\n",
    "for key, value in tqdm(unique_images_dict.items(), desc=\"Calculating metrics\", total=len(similar_images_list)):\n",
    "    if len(value) > 0:\n",
    "        # Sort the values by similarity score (assuming v[4] is the similarity score)\n",
    "        sorted_value = sorted(value, key=lambda x: x[-1], reverse=True)[:50]\n",
    "        predictions = torch.tensor([v[2] for v in sorted_value])  # Similarity scores\n",
    "        targets = torch.tensor([v[1] == key[1] for v in sorted_value], dtype=torch.float32)  # Relevance labels\n",
    "        \n",
    "        # Calculate Mean Average Precision for the current sample\n",
    "        ap = average_precision(predictions, targets)\n",
    "        map_scores.append(ap)\n",
    "        \n",
    "        # Calculate Precision@10 and Precision@50\n",
    "        p10 = precision_at_k(predictions, targets, k=10)\n",
    "        p50 = precision_at_k(predictions, targets, k=50)\n",
    "        precision_10_scores.append(p10)\n",
    "        precision_50_scores.append(p50)\n",
    "\n",
    "# Calculate final average metrics\n",
    "mean_avg_precision = sum(map_scores) / len(map_scores) if map_scores else 0.0\n",
    "precision_10 = sum(precision_10_scores) / len(precision_10_scores) if precision_10_scores else 0.0\n",
    "precision_50 = sum(precision_50_scores) / len(precision_50_scores) if precision_50_scores else 0.0\n",
    "\n",
    "# Print results\n",
    "print(\"Mean Average Precision (mAP):\", mean_avg_precision)\n",
    "print(\"Precision@10:\", precision_10)\n",
    "print(\"Precision@50:\", precision_50)\n"
   ]
  },
  {
   "cell_type": "code",
   "execution_count": null,
   "metadata": {},
   "outputs": [],
   "source": []
  }
 ],
 "metadata": {
  "kernelspec": {
   "display_name": "ir",
   "language": "python",
   "name": "python3"
  },
  "language_info": {
   "codemirror_mode": {
    "name": "ipython",
    "version": 3
   },
   "file_extension": ".py",
   "mimetype": "text/x-python",
   "name": "python",
   "nbconvert_exporter": "python",
   "pygments_lexer": "ipython3",
   "version": "3.12.4"
  }
 },
 "nbformat": 4,
 "nbformat_minor": 2
}
